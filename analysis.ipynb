{
 "cells": [
  {
   "cell_type": "code",
   "execution_count": 87,
   "metadata": {},
   "outputs": [],
   "source": [
    "import pandas as pd\n",
    "import numpy as np\n",
    "import spotipy as sp\n",
    "import spotipy.util as util\n",
    "from spotipy.oauth2 import SpotifyClientCredentials\n",
    "import json\n",
    "import os\n",
    "import plotly.express as px\n",
    "import plotly.graph_objects as go\n",
    "import plotly.io as pio\n",
    "from sklearn.cluster import AgglomerativeClustering\n",
    "from sklearn.preprocessing import StandardScaler\n",
    "from sklearn.decomposition import PCA\n",
    "from sklearn.manifold import TSNE\n"
   ]
  },
  {
   "cell_type": "code",
   "execution_count": 68,
   "metadata": {},
   "outputs": [],
   "source": [
    "pio.templates.default = \"plotly_white\""
   ]
  },
  {
   "cell_type": "code",
   "execution_count": 44,
   "metadata": {},
   "outputs": [],
   "source": [
    "music_df = pd.read_json('StreamingHistory0.json')\n",
    "df2 = pd.read_json('StreamingHistory1.json')\n",
    "df3 = pd.read_json('StreamingHistory2.json')\n",
    "df4 = pd.read_json('StreamingHistory3.json')\n",
    "df5 = pd.read_json('StreamingHistory4.json')\n",
    "music_df = pd.concat([music_df, df2, df3, df4, df5])"
   ]
  },
  {
   "cell_type": "code",
   "execution_count": 45,
   "metadata": {},
   "outputs": [
    {
     "data": {
      "text/html": [
       "<div>\n",
       "<style scoped>\n",
       "    .dataframe tbody tr th:only-of-type {\n",
       "        vertical-align: middle;\n",
       "    }\n",
       "\n",
       "    .dataframe tbody tr th {\n",
       "        vertical-align: top;\n",
       "    }\n",
       "\n",
       "    .dataframe thead th {\n",
       "        text-align: right;\n",
       "    }\n",
       "</style>\n",
       "<table border=\"1\" class=\"dataframe\">\n",
       "  <thead>\n",
       "    <tr style=\"text-align: right;\">\n",
       "      <th></th>\n",
       "      <th>endTime</th>\n",
       "      <th>artistName</th>\n",
       "      <th>trackName</th>\n",
       "      <th>msPlayed</th>\n",
       "    </tr>\n",
       "  </thead>\n",
       "  <tbody>\n",
       "    <tr>\n",
       "      <th>0</th>\n",
       "      <td>2022-09-22 16:28</td>\n",
       "      <td>Death Cab for Cutie</td>\n",
       "      <td>Transatlanticism</td>\n",
       "      <td>244250</td>\n",
       "    </tr>\n",
       "    <tr>\n",
       "      <th>1</th>\n",
       "      <td>2022-11-02 00:02</td>\n",
       "      <td>Alan Walker</td>\n",
       "      <td>Faded</td>\n",
       "      <td>212626</td>\n",
       "    </tr>\n",
       "    <tr>\n",
       "      <th>2</th>\n",
       "      <td>2022-11-02 00:03</td>\n",
       "      <td>Alan Walker</td>\n",
       "      <td>Faded</td>\n",
       "      <td>52928</td>\n",
       "    </tr>\n",
       "    <tr>\n",
       "      <th>3</th>\n",
       "      <td>2022-11-02 00:14</td>\n",
       "      <td>The Floating Mind</td>\n",
       "      <td>Brown Noise (200 Hz)</td>\n",
       "      <td>12695</td>\n",
       "    </tr>\n",
       "    <tr>\n",
       "      <th>4</th>\n",
       "      <td>2022-11-02 00:14</td>\n",
       "      <td>Justin Warnick</td>\n",
       "      <td>Stranger</td>\n",
       "      <td>157499</td>\n",
       "    </tr>\n",
       "    <tr>\n",
       "      <th>5</th>\n",
       "      <td>2022-11-02 00:16</td>\n",
       "      <td>Weekend</td>\n",
       "      <td>Coma Summer</td>\n",
       "      <td>11754</td>\n",
       "    </tr>\n",
       "    <tr>\n",
       "      <th>6</th>\n",
       "      <td>2022-11-02 00:16</td>\n",
       "      <td>Two Feet</td>\n",
       "      <td>Your Mother Was Cheaper</td>\n",
       "      <td>3249</td>\n",
       "    </tr>\n",
       "    <tr>\n",
       "      <th>7</th>\n",
       "      <td>2022-11-02 00:16</td>\n",
       "      <td>King Krule</td>\n",
       "      <td>363N63</td>\n",
       "      <td>121292</td>\n",
       "    </tr>\n",
       "    <tr>\n",
       "      <th>8</th>\n",
       "      <td>2022-11-02 00:16</td>\n",
       "      <td>John Mayer</td>\n",
       "      <td>Waiting On the World to Change</td>\n",
       "      <td>2474</td>\n",
       "    </tr>\n",
       "    <tr>\n",
       "      <th>9</th>\n",
       "      <td>2022-11-02 00:20</td>\n",
       "      <td>Jeff Rosenstock</td>\n",
       "      <td>We Begged 2 Explode</td>\n",
       "      <td>224149</td>\n",
       "    </tr>\n",
       "  </tbody>\n",
       "</table>\n",
       "</div>"
      ],
      "text/plain": [
       "            endTime           artistName                       trackName  \\\n",
       "0  2022-09-22 16:28  Death Cab for Cutie                Transatlanticism   \n",
       "1  2022-11-02 00:02          Alan Walker                           Faded   \n",
       "2  2022-11-02 00:03          Alan Walker                           Faded   \n",
       "3  2022-11-02 00:14    The Floating Mind            Brown Noise (200 Hz)   \n",
       "4  2022-11-02 00:14       Justin Warnick                        Stranger   \n",
       "5  2022-11-02 00:16              Weekend                     Coma Summer   \n",
       "6  2022-11-02 00:16             Two Feet         Your Mother Was Cheaper   \n",
       "7  2022-11-02 00:16           King Krule                          363N63   \n",
       "8  2022-11-02 00:16           John Mayer  Waiting On the World to Change   \n",
       "9  2022-11-02 00:20      Jeff Rosenstock             We Begged 2 Explode   \n",
       "\n",
       "   msPlayed  \n",
       "0    244250  \n",
       "1    212626  \n",
       "2     52928  \n",
       "3     12695  \n",
       "4    157499  \n",
       "5     11754  \n",
       "6      3249  \n",
       "7    121292  \n",
       "8      2474  \n",
       "9    224149  "
      ]
     },
     "execution_count": 45,
     "metadata": {},
     "output_type": "execute_result"
    }
   ],
   "source": [
    "music_df.head(10)\n",
    "#df.tail(10)\n",
    "#df.info()"
   ]
  },
  {
   "cell_type": "code",
   "execution_count": 46,
   "metadata": {},
   "outputs": [],
   "source": [
    "music_df['endTime']=pd.to_datetime(music_df['endTime'])\n",
    "music_df['minPlayed']=(music_df['msPlayed']/1000/60)\n",
    "music_df.drop('msPlayed', axis=1, inplace=True)"
   ]
  },
  {
   "cell_type": "code",
   "execution_count": 47,
   "metadata": {},
   "outputs": [
    {
     "data": {
      "text/html": [
       "<div>\n",
       "<style scoped>\n",
       "    .dataframe tbody tr th:only-of-type {\n",
       "        vertical-align: middle;\n",
       "    }\n",
       "\n",
       "    .dataframe tbody tr th {\n",
       "        vertical-align: top;\n",
       "    }\n",
       "\n",
       "    .dataframe thead th {\n",
       "        text-align: right;\n",
       "    }\n",
       "</style>\n",
       "<table border=\"1\" class=\"dataframe\">\n",
       "  <thead>\n",
       "    <tr style=\"text-align: right;\">\n",
       "      <th></th>\n",
       "      <th>endTime</th>\n",
       "      <th>artistName</th>\n",
       "      <th>trackName</th>\n",
       "      <th>minPlayed</th>\n",
       "    </tr>\n",
       "  </thead>\n",
       "  <tbody>\n",
       "    <tr>\n",
       "      <th>0</th>\n",
       "      <td>2022-09-22 16:28:00</td>\n",
       "      <td>Death Cab for Cutie</td>\n",
       "      <td>Transatlanticism</td>\n",
       "      <td>4.070833</td>\n",
       "    </tr>\n",
       "    <tr>\n",
       "      <th>1</th>\n",
       "      <td>2022-11-02 00:02:00</td>\n",
       "      <td>Alan Walker</td>\n",
       "      <td>Faded</td>\n",
       "      <td>3.543767</td>\n",
       "    </tr>\n",
       "    <tr>\n",
       "      <th>2</th>\n",
       "      <td>2022-11-02 00:03:00</td>\n",
       "      <td>Alan Walker</td>\n",
       "      <td>Faded</td>\n",
       "      <td>0.882133</td>\n",
       "    </tr>\n",
       "    <tr>\n",
       "      <th>3</th>\n",
       "      <td>2022-11-02 00:14:00</td>\n",
       "      <td>The Floating Mind</td>\n",
       "      <td>Brown Noise (200 Hz)</td>\n",
       "      <td>0.211583</td>\n",
       "    </tr>\n",
       "    <tr>\n",
       "      <th>4</th>\n",
       "      <td>2022-11-02 00:14:00</td>\n",
       "      <td>Justin Warnick</td>\n",
       "      <td>Stranger</td>\n",
       "      <td>2.624983</td>\n",
       "    </tr>\n",
       "  </tbody>\n",
       "</table>\n",
       "</div>"
      ],
      "text/plain": [
       "              endTime           artistName             trackName  minPlayed\n",
       "0 2022-09-22 16:28:00  Death Cab for Cutie      Transatlanticism   4.070833\n",
       "1 2022-11-02 00:02:00          Alan Walker                 Faded   3.543767\n",
       "2 2022-11-02 00:03:00          Alan Walker                 Faded   0.882133\n",
       "3 2022-11-02 00:14:00    The Floating Mind  Brown Noise (200 Hz)   0.211583\n",
       "4 2022-11-02 00:14:00       Justin Warnick              Stranger   2.624983"
      ]
     },
     "execution_count": 47,
     "metadata": {},
     "output_type": "execute_result"
    }
   ],
   "source": [
    "music_df.head()"
   ]
  },
  {
   "cell_type": "code",
   "execution_count": 48,
   "metadata": {},
   "outputs": [
    {
     "data": {
      "text/html": [
       "<div>\n",
       "<style scoped>\n",
       "    .dataframe tbody tr th:only-of-type {\n",
       "        vertical-align: middle;\n",
       "    }\n",
       "\n",
       "    .dataframe tbody tr th {\n",
       "        vertical-align: top;\n",
       "    }\n",
       "\n",
       "    .dataframe thead th {\n",
       "        text-align: right;\n",
       "    }\n",
       "</style>\n",
       "<table border=\"1\" class=\"dataframe\">\n",
       "  <thead>\n",
       "    <tr style=\"text-align: right;\">\n",
       "      <th></th>\n",
       "      <th>endTime</th>\n",
       "      <th>artistName</th>\n",
       "      <th>trackName</th>\n",
       "      <th>minPlayed</th>\n",
       "    </tr>\n",
       "  </thead>\n",
       "  <tbody>\n",
       "    <tr>\n",
       "      <th>6272</th>\n",
       "      <td>2023-11-02 21:38:00</td>\n",
       "      <td>The War On Drugs</td>\n",
       "      <td>Nothing to Find</td>\n",
       "      <td>3.724133</td>\n",
       "    </tr>\n",
       "    <tr>\n",
       "      <th>6273</th>\n",
       "      <td>2023-11-02 22:16:00</td>\n",
       "      <td>James Blake</td>\n",
       "      <td>CMYK</td>\n",
       "      <td>3.654583</td>\n",
       "    </tr>\n",
       "    <tr>\n",
       "      <th>6274</th>\n",
       "      <td>2023-11-02 22:17:00</td>\n",
       "      <td>Burial</td>\n",
       "      <td>Kindred</td>\n",
       "      <td>0.125867</td>\n",
       "    </tr>\n",
       "    <tr>\n",
       "      <th>6275</th>\n",
       "      <td>2023-11-02 22:22:00</td>\n",
       "      <td>Burial</td>\n",
       "      <td>Ashtray wasp</td>\n",
       "      <td>5.185067</td>\n",
       "    </tr>\n",
       "    <tr>\n",
       "      <th>6276</th>\n",
       "      <td>2023-11-02 23:04:00</td>\n",
       "      <td>Burial</td>\n",
       "      <td>Near Dark</td>\n",
       "      <td>0.009233</td>\n",
       "    </tr>\n",
       "  </tbody>\n",
       "</table>\n",
       "</div>"
      ],
      "text/plain": [
       "                 endTime        artistName        trackName  minPlayed\n",
       "6272 2023-11-02 21:38:00  The War On Drugs  Nothing to Find   3.724133\n",
       "6273 2023-11-02 22:16:00       James Blake             CMYK   3.654583\n",
       "6274 2023-11-02 22:17:00            Burial          Kindred   0.125867\n",
       "6275 2023-11-02 22:22:00            Burial     Ashtray wasp   5.185067\n",
       "6276 2023-11-02 23:04:00            Burial        Near Dark   0.009233"
      ]
     },
     "execution_count": 48,
     "metadata": {},
     "output_type": "execute_result"
    }
   ],
   "source": [
    "music_df.tail()"
   ]
  },
  {
   "cell_type": "code",
   "execution_count": 49,
   "metadata": {},
   "outputs": [],
   "source": [
    "music_df['dayOfWeek']=music_df['endTime'].dt.day_name()\n",
    "music_df['dayOfMonth']=music_df['endTime'].dt.day\n",
    "music_df['timeOfDay']=music_df['endTime'].dt.hour\n",
    "music_df['date']=music_df['endTime'].dt.date"
   ]
  },
  {
   "cell_type": "code",
   "execution_count": 50,
   "metadata": {},
   "outputs": [
    {
     "data": {
      "text/html": [
       "<div>\n",
       "<style scoped>\n",
       "    .dataframe tbody tr th:only-of-type {\n",
       "        vertical-align: middle;\n",
       "    }\n",
       "\n",
       "    .dataframe tbody tr th {\n",
       "        vertical-align: top;\n",
       "    }\n",
       "\n",
       "    .dataframe thead th {\n",
       "        text-align: right;\n",
       "    }\n",
       "</style>\n",
       "<table border=\"1\" class=\"dataframe\">\n",
       "  <thead>\n",
       "    <tr style=\"text-align: right;\">\n",
       "      <th></th>\n",
       "      <th>endTime</th>\n",
       "      <th>artistName</th>\n",
       "      <th>trackName</th>\n",
       "      <th>minPlayed</th>\n",
       "      <th>dayOfWeek</th>\n",
       "      <th>dayOfMonth</th>\n",
       "      <th>timeOfDay</th>\n",
       "      <th>date</th>\n",
       "    </tr>\n",
       "  </thead>\n",
       "  <tbody>\n",
       "    <tr>\n",
       "      <th>0</th>\n",
       "      <td>2022-09-22 16:28:00</td>\n",
       "      <td>Death Cab for Cutie</td>\n",
       "      <td>Transatlanticism</td>\n",
       "      <td>4.070833</td>\n",
       "      <td>Thursday</td>\n",
       "      <td>22</td>\n",
       "      <td>16</td>\n",
       "      <td>2022-09-22</td>\n",
       "    </tr>\n",
       "    <tr>\n",
       "      <th>1</th>\n",
       "      <td>2022-11-02 00:02:00</td>\n",
       "      <td>Alan Walker</td>\n",
       "      <td>Faded</td>\n",
       "      <td>3.543767</td>\n",
       "      <td>Wednesday</td>\n",
       "      <td>2</td>\n",
       "      <td>0</td>\n",
       "      <td>2022-11-02</td>\n",
       "    </tr>\n",
       "    <tr>\n",
       "      <th>2</th>\n",
       "      <td>2022-11-02 00:03:00</td>\n",
       "      <td>Alan Walker</td>\n",
       "      <td>Faded</td>\n",
       "      <td>0.882133</td>\n",
       "      <td>Wednesday</td>\n",
       "      <td>2</td>\n",
       "      <td>0</td>\n",
       "      <td>2022-11-02</td>\n",
       "    </tr>\n",
       "    <tr>\n",
       "      <th>3</th>\n",
       "      <td>2022-11-02 00:14:00</td>\n",
       "      <td>The Floating Mind</td>\n",
       "      <td>Brown Noise (200 Hz)</td>\n",
       "      <td>0.211583</td>\n",
       "      <td>Wednesday</td>\n",
       "      <td>2</td>\n",
       "      <td>0</td>\n",
       "      <td>2022-11-02</td>\n",
       "    </tr>\n",
       "    <tr>\n",
       "      <th>4</th>\n",
       "      <td>2022-11-02 00:14:00</td>\n",
       "      <td>Justin Warnick</td>\n",
       "      <td>Stranger</td>\n",
       "      <td>2.624983</td>\n",
       "      <td>Wednesday</td>\n",
       "      <td>2</td>\n",
       "      <td>0</td>\n",
       "      <td>2022-11-02</td>\n",
       "    </tr>\n",
       "  </tbody>\n",
       "</table>\n",
       "</div>"
      ],
      "text/plain": [
       "              endTime           artistName             trackName  minPlayed  \\\n",
       "0 2022-09-22 16:28:00  Death Cab for Cutie      Transatlanticism   4.070833   \n",
       "1 2022-11-02 00:02:00          Alan Walker                 Faded   3.543767   \n",
       "2 2022-11-02 00:03:00          Alan Walker                 Faded   0.882133   \n",
       "3 2022-11-02 00:14:00    The Floating Mind  Brown Noise (200 Hz)   0.211583   \n",
       "4 2022-11-02 00:14:00       Justin Warnick              Stranger   2.624983   \n",
       "\n",
       "   dayOfWeek  dayOfMonth  timeOfDay        date  \n",
       "0   Thursday          22         16  2022-09-22  \n",
       "1  Wednesday           2          0  2022-11-02  \n",
       "2  Wednesday           2          0  2022-11-02  \n",
       "3  Wednesday           2          0  2022-11-02  \n",
       "4  Wednesday           2          0  2022-11-02  "
      ]
     },
     "execution_count": 50,
     "metadata": {},
     "output_type": "execute_result"
    }
   ],
   "source": [
    "music_df.head()"
   ]
  },
  {
   "cell_type": "code",
   "execution_count": 51,
   "metadata": {},
   "outputs": [
    {
     "name": "stdout",
     "output_type": "stream",
     "text": [
      "I listened to 46277 tracks, 126.786 per day in the last year (crazy!)\n"
     ]
    }
   ],
   "source": [
    "print(\"I listened to {} tracks, {:.3f} per day in the last year (crazy!)\".format( len(music_df), len(music_df)/365))"
   ]
  },
  {
   "cell_type": "code",
   "execution_count": 52,
   "metadata": {},
   "outputs": [
    {
     "name": "stdout",
     "output_type": "stream",
     "text": [
      "This amounts to about 2228.3570124999997 hours total, and 6.105 hours per day.\n"
     ]
    }
   ],
   "source": [
    "print(\"This amounts to about {} hours total, and {:.3f} hours per day.\".format(music_df.minPlayed.sum()/60, music_df.minPlayed.sum()/365/60))"
   ]
  },
  {
   "cell_type": "code",
   "execution_count": 53,
   "metadata": {},
   "outputs": [
    {
     "name": "stdout",
     "output_type": "stream",
     "text": [
      "which then equates to about 2.889 minutes per song.\n"
     ]
    }
   ],
   "source": [
    "print(\"which then equates to about {:.3f} minutes per song.\".format(music_df.minPlayed.sum()/len(music_df)))"
   ]
  },
  {
   "cell_type": "code",
   "execution_count": 54,
   "metadata": {},
   "outputs": [],
   "source": [
    "artist_track_count = music_df.groupby('artistName')['trackName'].count().reset_index()\n",
    "artist_track_count.columns = ['artist', 'play counts']\n",
    "\n",
    "artist_track_count = artist_track_count.sort_values('play counts', ascending = False)\n",
    "artist_track_count.head()\n",
    "artist_track_short = artist_track_count[:10]"
   ]
  },
  {
   "cell_type": "code",
   "execution_count": 69,
   "metadata": {},
   "outputs": [
    {
     "data": {
      "application/vnd.plotly.v1+json": {
       "config": {
        "plotlyServerURL": "https://plot.ly"
       },
       "data": [
        {
         "alignmentgroup": "True",
         "hovertemplate": "play counts=%{x}<br>artist=%{y}<extra></extra>",
         "legendgroup": "",
         "marker": {
          "color": "#636efa",
          "pattern": {
           "shape": ""
          }
         },
         "name": "",
         "offsetgroup": "",
         "orientation": "h",
         "showlegend": false,
         "text": [
          "1930",
          "917",
          "902",
          "880",
          "871",
          "864",
          "789",
          "621",
          "601",
          "593"
         ],
         "textposition": "inside",
         "type": "bar",
         "x": [
          1930,
          917,
          902,
          880,
          871,
          864,
          789,
          621,
          601,
          593
         ],
         "xaxis": "x",
         "y": [
          "Black Country, New Road",
          "Earl Sweatshirt",
          "Bon Iver",
          "Frank Ocean",
          "Radiohead",
          "Slowdive",
          "my bloody valentine",
          "Beach House",
          "Vampire Weekend",
          "Girls"
         ],
         "yaxis": "y"
        }
       ],
       "layout": {
        "barmode": "relative",
        "legend": {
         "tracegroupgap": 0
        },
        "template": {
         "data": {
          "bar": [
           {
            "error_x": {
             "color": "#2a3f5f"
            },
            "error_y": {
             "color": "#2a3f5f"
            },
            "marker": {
             "line": {
              "color": "white",
              "width": 0.5
             },
             "pattern": {
              "fillmode": "overlay",
              "size": 10,
              "solidity": 0.2
             }
            },
            "type": "bar"
           }
          ],
          "barpolar": [
           {
            "marker": {
             "line": {
              "color": "white",
              "width": 0.5
             },
             "pattern": {
              "fillmode": "overlay",
              "size": 10,
              "solidity": 0.2
             }
            },
            "type": "barpolar"
           }
          ],
          "carpet": [
           {
            "aaxis": {
             "endlinecolor": "#2a3f5f",
             "gridcolor": "#C8D4E3",
             "linecolor": "#C8D4E3",
             "minorgridcolor": "#C8D4E3",
             "startlinecolor": "#2a3f5f"
            },
            "baxis": {
             "endlinecolor": "#2a3f5f",
             "gridcolor": "#C8D4E3",
             "linecolor": "#C8D4E3",
             "minorgridcolor": "#C8D4E3",
             "startlinecolor": "#2a3f5f"
            },
            "type": "carpet"
           }
          ],
          "choropleth": [
           {
            "colorbar": {
             "outlinewidth": 0,
             "ticks": ""
            },
            "type": "choropleth"
           }
          ],
          "contour": [
           {
            "colorbar": {
             "outlinewidth": 0,
             "ticks": ""
            },
            "colorscale": [
             [
              0,
              "#0d0887"
             ],
             [
              0.1111111111111111,
              "#46039f"
             ],
             [
              0.2222222222222222,
              "#7201a8"
             ],
             [
              0.3333333333333333,
              "#9c179e"
             ],
             [
              0.4444444444444444,
              "#bd3786"
             ],
             [
              0.5555555555555556,
              "#d8576b"
             ],
             [
              0.6666666666666666,
              "#ed7953"
             ],
             [
              0.7777777777777778,
              "#fb9f3a"
             ],
             [
              0.8888888888888888,
              "#fdca26"
             ],
             [
              1,
              "#f0f921"
             ]
            ],
            "type": "contour"
           }
          ],
          "contourcarpet": [
           {
            "colorbar": {
             "outlinewidth": 0,
             "ticks": ""
            },
            "type": "contourcarpet"
           }
          ],
          "heatmap": [
           {
            "colorbar": {
             "outlinewidth": 0,
             "ticks": ""
            },
            "colorscale": [
             [
              0,
              "#0d0887"
             ],
             [
              0.1111111111111111,
              "#46039f"
             ],
             [
              0.2222222222222222,
              "#7201a8"
             ],
             [
              0.3333333333333333,
              "#9c179e"
             ],
             [
              0.4444444444444444,
              "#bd3786"
             ],
             [
              0.5555555555555556,
              "#d8576b"
             ],
             [
              0.6666666666666666,
              "#ed7953"
             ],
             [
              0.7777777777777778,
              "#fb9f3a"
             ],
             [
              0.8888888888888888,
              "#fdca26"
             ],
             [
              1,
              "#f0f921"
             ]
            ],
            "type": "heatmap"
           }
          ],
          "heatmapgl": [
           {
            "colorbar": {
             "outlinewidth": 0,
             "ticks": ""
            },
            "colorscale": [
             [
              0,
              "#0d0887"
             ],
             [
              0.1111111111111111,
              "#46039f"
             ],
             [
              0.2222222222222222,
              "#7201a8"
             ],
             [
              0.3333333333333333,
              "#9c179e"
             ],
             [
              0.4444444444444444,
              "#bd3786"
             ],
             [
              0.5555555555555556,
              "#d8576b"
             ],
             [
              0.6666666666666666,
              "#ed7953"
             ],
             [
              0.7777777777777778,
              "#fb9f3a"
             ],
             [
              0.8888888888888888,
              "#fdca26"
             ],
             [
              1,
              "#f0f921"
             ]
            ],
            "type": "heatmapgl"
           }
          ],
          "histogram": [
           {
            "marker": {
             "pattern": {
              "fillmode": "overlay",
              "size": 10,
              "solidity": 0.2
             }
            },
            "type": "histogram"
           }
          ],
          "histogram2d": [
           {
            "colorbar": {
             "outlinewidth": 0,
             "ticks": ""
            },
            "colorscale": [
             [
              0,
              "#0d0887"
             ],
             [
              0.1111111111111111,
              "#46039f"
             ],
             [
              0.2222222222222222,
              "#7201a8"
             ],
             [
              0.3333333333333333,
              "#9c179e"
             ],
             [
              0.4444444444444444,
              "#bd3786"
             ],
             [
              0.5555555555555556,
              "#d8576b"
             ],
             [
              0.6666666666666666,
              "#ed7953"
             ],
             [
              0.7777777777777778,
              "#fb9f3a"
             ],
             [
              0.8888888888888888,
              "#fdca26"
             ],
             [
              1,
              "#f0f921"
             ]
            ],
            "type": "histogram2d"
           }
          ],
          "histogram2dcontour": [
           {
            "colorbar": {
             "outlinewidth": 0,
             "ticks": ""
            },
            "colorscale": [
             [
              0,
              "#0d0887"
             ],
             [
              0.1111111111111111,
              "#46039f"
             ],
             [
              0.2222222222222222,
              "#7201a8"
             ],
             [
              0.3333333333333333,
              "#9c179e"
             ],
             [
              0.4444444444444444,
              "#bd3786"
             ],
             [
              0.5555555555555556,
              "#d8576b"
             ],
             [
              0.6666666666666666,
              "#ed7953"
             ],
             [
              0.7777777777777778,
              "#fb9f3a"
             ],
             [
              0.8888888888888888,
              "#fdca26"
             ],
             [
              1,
              "#f0f921"
             ]
            ],
            "type": "histogram2dcontour"
           }
          ],
          "mesh3d": [
           {
            "colorbar": {
             "outlinewidth": 0,
             "ticks": ""
            },
            "type": "mesh3d"
           }
          ],
          "parcoords": [
           {
            "line": {
             "colorbar": {
              "outlinewidth": 0,
              "ticks": ""
             }
            },
            "type": "parcoords"
           }
          ],
          "pie": [
           {
            "automargin": true,
            "type": "pie"
           }
          ],
          "scatter": [
           {
            "fillpattern": {
             "fillmode": "overlay",
             "size": 10,
             "solidity": 0.2
            },
            "type": "scatter"
           }
          ],
          "scatter3d": [
           {
            "line": {
             "colorbar": {
              "outlinewidth": 0,
              "ticks": ""
             }
            },
            "marker": {
             "colorbar": {
              "outlinewidth": 0,
              "ticks": ""
             }
            },
            "type": "scatter3d"
           }
          ],
          "scattercarpet": [
           {
            "marker": {
             "colorbar": {
              "outlinewidth": 0,
              "ticks": ""
             }
            },
            "type": "scattercarpet"
           }
          ],
          "scattergeo": [
           {
            "marker": {
             "colorbar": {
              "outlinewidth": 0,
              "ticks": ""
             }
            },
            "type": "scattergeo"
           }
          ],
          "scattergl": [
           {
            "marker": {
             "colorbar": {
              "outlinewidth": 0,
              "ticks": ""
             }
            },
            "type": "scattergl"
           }
          ],
          "scattermapbox": [
           {
            "marker": {
             "colorbar": {
              "outlinewidth": 0,
              "ticks": ""
             }
            },
            "type": "scattermapbox"
           }
          ],
          "scatterpolar": [
           {
            "marker": {
             "colorbar": {
              "outlinewidth": 0,
              "ticks": ""
             }
            },
            "type": "scatterpolar"
           }
          ],
          "scatterpolargl": [
           {
            "marker": {
             "colorbar": {
              "outlinewidth": 0,
              "ticks": ""
             }
            },
            "type": "scatterpolargl"
           }
          ],
          "scatterternary": [
           {
            "marker": {
             "colorbar": {
              "outlinewidth": 0,
              "ticks": ""
             }
            },
            "type": "scatterternary"
           }
          ],
          "surface": [
           {
            "colorbar": {
             "outlinewidth": 0,
             "ticks": ""
            },
            "colorscale": [
             [
              0,
              "#0d0887"
             ],
             [
              0.1111111111111111,
              "#46039f"
             ],
             [
              0.2222222222222222,
              "#7201a8"
             ],
             [
              0.3333333333333333,
              "#9c179e"
             ],
             [
              0.4444444444444444,
              "#bd3786"
             ],
             [
              0.5555555555555556,
              "#d8576b"
             ],
             [
              0.6666666666666666,
              "#ed7953"
             ],
             [
              0.7777777777777778,
              "#fb9f3a"
             ],
             [
              0.8888888888888888,
              "#fdca26"
             ],
             [
              1,
              "#f0f921"
             ]
            ],
            "type": "surface"
           }
          ],
          "table": [
           {
            "cells": {
             "fill": {
              "color": "#EBF0F8"
             },
             "line": {
              "color": "white"
             }
            },
            "header": {
             "fill": {
              "color": "#C8D4E3"
             },
             "line": {
              "color": "white"
             }
            },
            "type": "table"
           }
          ]
         },
         "layout": {
          "annotationdefaults": {
           "arrowcolor": "#2a3f5f",
           "arrowhead": 0,
           "arrowwidth": 1
          },
          "autotypenumbers": "strict",
          "coloraxis": {
           "colorbar": {
            "outlinewidth": 0,
            "ticks": ""
           }
          },
          "colorscale": {
           "diverging": [
            [
             0,
             "#8e0152"
            ],
            [
             0.1,
             "#c51b7d"
            ],
            [
             0.2,
             "#de77ae"
            ],
            [
             0.3,
             "#f1b6da"
            ],
            [
             0.4,
             "#fde0ef"
            ],
            [
             0.5,
             "#f7f7f7"
            ],
            [
             0.6,
             "#e6f5d0"
            ],
            [
             0.7,
             "#b8e186"
            ],
            [
             0.8,
             "#7fbc41"
            ],
            [
             0.9,
             "#4d9221"
            ],
            [
             1,
             "#276419"
            ]
           ],
           "sequential": [
            [
             0,
             "#0d0887"
            ],
            [
             0.1111111111111111,
             "#46039f"
            ],
            [
             0.2222222222222222,
             "#7201a8"
            ],
            [
             0.3333333333333333,
             "#9c179e"
            ],
            [
             0.4444444444444444,
             "#bd3786"
            ],
            [
             0.5555555555555556,
             "#d8576b"
            ],
            [
             0.6666666666666666,
             "#ed7953"
            ],
            [
             0.7777777777777778,
             "#fb9f3a"
            ],
            [
             0.8888888888888888,
             "#fdca26"
            ],
            [
             1,
             "#f0f921"
            ]
           ],
           "sequentialminus": [
            [
             0,
             "#0d0887"
            ],
            [
             0.1111111111111111,
             "#46039f"
            ],
            [
             0.2222222222222222,
             "#7201a8"
            ],
            [
             0.3333333333333333,
             "#9c179e"
            ],
            [
             0.4444444444444444,
             "#bd3786"
            ],
            [
             0.5555555555555556,
             "#d8576b"
            ],
            [
             0.6666666666666666,
             "#ed7953"
            ],
            [
             0.7777777777777778,
             "#fb9f3a"
            ],
            [
             0.8888888888888888,
             "#fdca26"
            ],
            [
             1,
             "#f0f921"
            ]
           ]
          },
          "colorway": [
           "#636efa",
           "#EF553B",
           "#00cc96",
           "#ab63fa",
           "#FFA15A",
           "#19d3f3",
           "#FF6692",
           "#B6E880",
           "#FF97FF",
           "#FECB52"
          ],
          "font": {
           "color": "#2a3f5f"
          },
          "geo": {
           "bgcolor": "white",
           "lakecolor": "white",
           "landcolor": "white",
           "showlakes": true,
           "showland": true,
           "subunitcolor": "#C8D4E3"
          },
          "hoverlabel": {
           "align": "left"
          },
          "hovermode": "closest",
          "mapbox": {
           "style": "light"
          },
          "paper_bgcolor": "white",
          "plot_bgcolor": "white",
          "polar": {
           "angularaxis": {
            "gridcolor": "#EBF0F8",
            "linecolor": "#EBF0F8",
            "ticks": ""
           },
           "bgcolor": "white",
           "radialaxis": {
            "gridcolor": "#EBF0F8",
            "linecolor": "#EBF0F8",
            "ticks": ""
           }
          },
          "scene": {
           "xaxis": {
            "backgroundcolor": "white",
            "gridcolor": "#DFE8F3",
            "gridwidth": 2,
            "linecolor": "#EBF0F8",
            "showbackground": true,
            "ticks": "",
            "zerolinecolor": "#EBF0F8"
           },
           "yaxis": {
            "backgroundcolor": "white",
            "gridcolor": "#DFE8F3",
            "gridwidth": 2,
            "linecolor": "#EBF0F8",
            "showbackground": true,
            "ticks": "",
            "zerolinecolor": "#EBF0F8"
           },
           "zaxis": {
            "backgroundcolor": "white",
            "gridcolor": "#DFE8F3",
            "gridwidth": 2,
            "linecolor": "#EBF0F8",
            "showbackground": true,
            "ticks": "",
            "zerolinecolor": "#EBF0F8"
           }
          },
          "shapedefaults": {
           "line": {
            "color": "#2a3f5f"
           }
          },
          "ternary": {
           "aaxis": {
            "gridcolor": "#DFE8F3",
            "linecolor": "#A2B1C6",
            "ticks": ""
           },
           "baxis": {
            "gridcolor": "#DFE8F3",
            "linecolor": "#A2B1C6",
            "ticks": ""
           },
           "bgcolor": "white",
           "caxis": {
            "gridcolor": "#DFE8F3",
            "linecolor": "#A2B1C6",
            "ticks": ""
           }
          },
          "title": {
           "x": 0.05
          },
          "xaxis": {
           "automargin": true,
           "gridcolor": "#EBF0F8",
           "linecolor": "#EBF0F8",
           "ticks": "",
           "title": {
            "standoff": 15
           },
           "zerolinecolor": "#EBF0F8",
           "zerolinewidth": 2
          },
          "yaxis": {
           "automargin": true,
           "gridcolor": "#EBF0F8",
           "linecolor": "#EBF0F8",
           "ticks": "",
           "title": {
            "standoff": 15
           },
           "zerolinecolor": "#EBF0F8",
           "zerolinewidth": 2
          }
         }
        },
        "title": {
         "text": "Track Count for Each Artist"
        },
        "xaxis": {
         "anchor": "y",
         "domain": [
          0,
          1
         ],
         "title": {
          "text": "play counts"
         }
        },
        "yaxis": {
         "anchor": "x",
         "domain": [
          0,
          1
         ],
         "title": {
          "text": "artist"
         }
        }
       }
      }
     },
     "metadata": {},
     "output_type": "display_data"
    }
   ],
   "source": [
    "fig = px.bar(artist_track_short, x='play counts', y='artist', orientation='h',\n",
    "             labels={'play counts': 'play counts', 'artist': 'artist'},\n",
    "             title='Track Count for Each Artist')\n",
    "fig.update_traces(text=artist_track_short.apply(lambda x: f\"{x['play counts']}\", axis=1),\n",
    "                  textposition='inside')\n",
    "\n",
    "fig.show()"
   ]
  },
  {
   "cell_type": "code",
   "execution_count": 70,
   "metadata": {},
   "outputs": [
    {
     "data": {
      "text/html": [
       "<div>\n",
       "<style scoped>\n",
       "    .dataframe tbody tr th:only-of-type {\n",
       "        vertical-align: middle;\n",
       "    }\n",
       "\n",
       "    .dataframe tbody tr th {\n",
       "        vertical-align: top;\n",
       "    }\n",
       "\n",
       "    .dataframe thead th {\n",
       "        text-align: right;\n",
       "    }\n",
       "</style>\n",
       "<table border=\"1\" class=\"dataframe\">\n",
       "  <thead>\n",
       "    <tr style=\"text-align: right;\">\n",
       "      <th></th>\n",
       "      <th>trackName</th>\n",
       "      <th>Listen Count</th>\n",
       "    </tr>\n",
       "  </thead>\n",
       "  <tbody>\n",
       "    <tr>\n",
       "      <th>2942</th>\n",
       "      <td>Haldern</td>\n",
       "      <td>281</td>\n",
       "    </tr>\n",
       "    <tr>\n",
       "      <th>783</th>\n",
       "      <td>Basketball Shoes</td>\n",
       "      <td>208</td>\n",
       "    </tr>\n",
       "    <tr>\n",
       "      <th>1523</th>\n",
       "      <td>Concorde</td>\n",
       "      <td>180</td>\n",
       "    </tr>\n",
       "    <tr>\n",
       "      <th>7703</th>\n",
       "      <td>Track X</td>\n",
       "      <td>165</td>\n",
       "    </tr>\n",
       "    <tr>\n",
       "      <th>8767</th>\n",
       "      <td>i tried</td>\n",
       "      <td>162</td>\n",
       "    </tr>\n",
       "    <tr>\n",
       "      <th>6219</th>\n",
       "      <td>Self Control</td>\n",
       "      <td>159</td>\n",
       "    </tr>\n",
       "    <tr>\n",
       "      <th>7382</th>\n",
       "      <td>The Place Where He Inserted the Blade</td>\n",
       "      <td>149</td>\n",
       "    </tr>\n",
       "    <tr>\n",
       "      <th>4537</th>\n",
       "      <td>Making The Band (Danity Kane)</td>\n",
       "      <td>132</td>\n",
       "    </tr>\n",
       "    <tr>\n",
       "      <th>8926</th>\n",
       "      <td>skin in the game</td>\n",
       "      <td>129</td>\n",
       "    </tr>\n",
       "    <tr>\n",
       "      <th>8809</th>\n",
       "      <td>kisses</td>\n",
       "      <td>124</td>\n",
       "    </tr>\n",
       "    <tr>\n",
       "      <th>1097</th>\n",
       "      <td>Bread Song</td>\n",
       "      <td>113</td>\n",
       "    </tr>\n",
       "    <tr>\n",
       "      <th>5450</th>\n",
       "      <td>Pandora (for Cindy)</td>\n",
       "      <td>112</td>\n",
       "    </tr>\n",
       "    <tr>\n",
       "      <th>7519</th>\n",
       "      <td>Theme from Failure, Pt. 1</td>\n",
       "      <td>110</td>\n",
       "    </tr>\n",
       "    <tr>\n",
       "      <th>7861</th>\n",
       "      <td>Unknown Track</td>\n",
       "      <td>104</td>\n",
       "    </tr>\n",
       "    <tr>\n",
       "      <th>1341</th>\n",
       "      <td>Chaos Space Marine</td>\n",
       "      <td>101</td>\n",
       "    </tr>\n",
       "    <tr>\n",
       "      <th>5183</th>\n",
       "      <td>Nude</td>\n",
       "      <td>99</td>\n",
       "    </tr>\n",
       "    <tr>\n",
       "      <th>1036</th>\n",
       "      <td>Bluish</td>\n",
       "      <td>98</td>\n",
       "    </tr>\n",
       "    <tr>\n",
       "      <th>6858</th>\n",
       "      <td>Sugar for the Pill</td>\n",
       "      <td>93</td>\n",
       "    </tr>\n",
       "    <tr>\n",
       "      <th>1817</th>\n",
       "      <td>Devil In A New Dress</td>\n",
       "      <td>90</td>\n",
       "    </tr>\n",
       "    <tr>\n",
       "      <th>6476</th>\n",
       "      <td>Snow Globes</td>\n",
       "      <td>88</td>\n",
       "    </tr>\n",
       "  </tbody>\n",
       "</table>\n",
       "</div>"
      ],
      "text/plain": [
       "                                  trackName  Listen Count\n",
       "2942                                Haldern           281\n",
       "783                        Basketball Shoes           208\n",
       "1523                               Concorde           180\n",
       "7703                                Track X           165\n",
       "8767                                i tried           162\n",
       "6219                           Self Control           159\n",
       "7382  The Place Where He Inserted the Blade           149\n",
       "4537          Making The Band (Danity Kane)           132\n",
       "8926                       skin in the game           129\n",
       "8809                                 kisses           124\n",
       "1097                             Bread Song           113\n",
       "5450                    Pandora (for Cindy)           112\n",
       "7519              Theme from Failure, Pt. 1           110\n",
       "7861                          Unknown Track           104\n",
       "1341                     Chaos Space Marine           101\n",
       "5183                                   Nude            99\n",
       "1036                                 Bluish            98\n",
       "6858                     Sugar for the Pill            93\n",
       "1817                   Devil In A New Dress            90\n",
       "6476                            Snow Globes            88"
      ]
     },
     "execution_count": 70,
     "metadata": {},
     "output_type": "execute_result"
    }
   ],
   "source": [
    "track_counts = music_df.groupby('trackName').size().reset_index(name = 'Listen Count')\n",
    "track_counts = track_counts.sort_values('Listen Count', ascending=False)\n",
    "track_counts\n",
    "track_counts.head(20)"
   ]
  },
  {
   "cell_type": "code",
   "execution_count": 71,
   "metadata": {},
   "outputs": [
    {
     "data": {
      "application/vnd.plotly.v1+json": {
       "config": {
        "plotlyServerURL": "https://plot.ly"
       },
       "data": [
        {
         "alignmentgroup": "True",
         "hovertemplate": "Listen Count=%{x}<br>trackName=%{y}<extra></extra>",
         "legendgroup": "",
         "marker": {
          "color": "#636efa",
          "pattern": {
           "shape": ""
          }
         },
         "name": "",
         "offsetgroup": "",
         "orientation": "h",
         "showlegend": false,
         "text": [
          "281",
          "208",
          "180",
          "165",
          "162",
          "159",
          "149",
          "132",
          "129",
          "124"
         ],
         "textposition": "inside",
         "type": "bar",
         "x": [
          281,
          208,
          180,
          165,
          162,
          159,
          149,
          132,
          129,
          124
         ],
         "xaxis": "x",
         "y": [
          "Haldern",
          "Basketball Shoes",
          "Concorde",
          "Track X",
          "i tried",
          "Self Control",
          "The Place Where He Inserted the Blade",
          "Making The Band (Danity Kane)",
          "skin in the game",
          "kisses"
         ],
         "yaxis": "y"
        }
       ],
       "layout": {
        "barmode": "relative",
        "legend": {
         "tracegroupgap": 0
        },
        "template": {
         "data": {
          "bar": [
           {
            "error_x": {
             "color": "#2a3f5f"
            },
            "error_y": {
             "color": "#2a3f5f"
            },
            "marker": {
             "line": {
              "color": "white",
              "width": 0.5
             },
             "pattern": {
              "fillmode": "overlay",
              "size": 10,
              "solidity": 0.2
             }
            },
            "type": "bar"
           }
          ],
          "barpolar": [
           {
            "marker": {
             "line": {
              "color": "white",
              "width": 0.5
             },
             "pattern": {
              "fillmode": "overlay",
              "size": 10,
              "solidity": 0.2
             }
            },
            "type": "barpolar"
           }
          ],
          "carpet": [
           {
            "aaxis": {
             "endlinecolor": "#2a3f5f",
             "gridcolor": "#C8D4E3",
             "linecolor": "#C8D4E3",
             "minorgridcolor": "#C8D4E3",
             "startlinecolor": "#2a3f5f"
            },
            "baxis": {
             "endlinecolor": "#2a3f5f",
             "gridcolor": "#C8D4E3",
             "linecolor": "#C8D4E3",
             "minorgridcolor": "#C8D4E3",
             "startlinecolor": "#2a3f5f"
            },
            "type": "carpet"
           }
          ],
          "choropleth": [
           {
            "colorbar": {
             "outlinewidth": 0,
             "ticks": ""
            },
            "type": "choropleth"
           }
          ],
          "contour": [
           {
            "colorbar": {
             "outlinewidth": 0,
             "ticks": ""
            },
            "colorscale": [
             [
              0,
              "#0d0887"
             ],
             [
              0.1111111111111111,
              "#46039f"
             ],
             [
              0.2222222222222222,
              "#7201a8"
             ],
             [
              0.3333333333333333,
              "#9c179e"
             ],
             [
              0.4444444444444444,
              "#bd3786"
             ],
             [
              0.5555555555555556,
              "#d8576b"
             ],
             [
              0.6666666666666666,
              "#ed7953"
             ],
             [
              0.7777777777777778,
              "#fb9f3a"
             ],
             [
              0.8888888888888888,
              "#fdca26"
             ],
             [
              1,
              "#f0f921"
             ]
            ],
            "type": "contour"
           }
          ],
          "contourcarpet": [
           {
            "colorbar": {
             "outlinewidth": 0,
             "ticks": ""
            },
            "type": "contourcarpet"
           }
          ],
          "heatmap": [
           {
            "colorbar": {
             "outlinewidth": 0,
             "ticks": ""
            },
            "colorscale": [
             [
              0,
              "#0d0887"
             ],
             [
              0.1111111111111111,
              "#46039f"
             ],
             [
              0.2222222222222222,
              "#7201a8"
             ],
             [
              0.3333333333333333,
              "#9c179e"
             ],
             [
              0.4444444444444444,
              "#bd3786"
             ],
             [
              0.5555555555555556,
              "#d8576b"
             ],
             [
              0.6666666666666666,
              "#ed7953"
             ],
             [
              0.7777777777777778,
              "#fb9f3a"
             ],
             [
              0.8888888888888888,
              "#fdca26"
             ],
             [
              1,
              "#f0f921"
             ]
            ],
            "type": "heatmap"
           }
          ],
          "heatmapgl": [
           {
            "colorbar": {
             "outlinewidth": 0,
             "ticks": ""
            },
            "colorscale": [
             [
              0,
              "#0d0887"
             ],
             [
              0.1111111111111111,
              "#46039f"
             ],
             [
              0.2222222222222222,
              "#7201a8"
             ],
             [
              0.3333333333333333,
              "#9c179e"
             ],
             [
              0.4444444444444444,
              "#bd3786"
             ],
             [
              0.5555555555555556,
              "#d8576b"
             ],
             [
              0.6666666666666666,
              "#ed7953"
             ],
             [
              0.7777777777777778,
              "#fb9f3a"
             ],
             [
              0.8888888888888888,
              "#fdca26"
             ],
             [
              1,
              "#f0f921"
             ]
            ],
            "type": "heatmapgl"
           }
          ],
          "histogram": [
           {
            "marker": {
             "pattern": {
              "fillmode": "overlay",
              "size": 10,
              "solidity": 0.2
             }
            },
            "type": "histogram"
           }
          ],
          "histogram2d": [
           {
            "colorbar": {
             "outlinewidth": 0,
             "ticks": ""
            },
            "colorscale": [
             [
              0,
              "#0d0887"
             ],
             [
              0.1111111111111111,
              "#46039f"
             ],
             [
              0.2222222222222222,
              "#7201a8"
             ],
             [
              0.3333333333333333,
              "#9c179e"
             ],
             [
              0.4444444444444444,
              "#bd3786"
             ],
             [
              0.5555555555555556,
              "#d8576b"
             ],
             [
              0.6666666666666666,
              "#ed7953"
             ],
             [
              0.7777777777777778,
              "#fb9f3a"
             ],
             [
              0.8888888888888888,
              "#fdca26"
             ],
             [
              1,
              "#f0f921"
             ]
            ],
            "type": "histogram2d"
           }
          ],
          "histogram2dcontour": [
           {
            "colorbar": {
             "outlinewidth": 0,
             "ticks": ""
            },
            "colorscale": [
             [
              0,
              "#0d0887"
             ],
             [
              0.1111111111111111,
              "#46039f"
             ],
             [
              0.2222222222222222,
              "#7201a8"
             ],
             [
              0.3333333333333333,
              "#9c179e"
             ],
             [
              0.4444444444444444,
              "#bd3786"
             ],
             [
              0.5555555555555556,
              "#d8576b"
             ],
             [
              0.6666666666666666,
              "#ed7953"
             ],
             [
              0.7777777777777778,
              "#fb9f3a"
             ],
             [
              0.8888888888888888,
              "#fdca26"
             ],
             [
              1,
              "#f0f921"
             ]
            ],
            "type": "histogram2dcontour"
           }
          ],
          "mesh3d": [
           {
            "colorbar": {
             "outlinewidth": 0,
             "ticks": ""
            },
            "type": "mesh3d"
           }
          ],
          "parcoords": [
           {
            "line": {
             "colorbar": {
              "outlinewidth": 0,
              "ticks": ""
             }
            },
            "type": "parcoords"
           }
          ],
          "pie": [
           {
            "automargin": true,
            "type": "pie"
           }
          ],
          "scatter": [
           {
            "fillpattern": {
             "fillmode": "overlay",
             "size": 10,
             "solidity": 0.2
            },
            "type": "scatter"
           }
          ],
          "scatter3d": [
           {
            "line": {
             "colorbar": {
              "outlinewidth": 0,
              "ticks": ""
             }
            },
            "marker": {
             "colorbar": {
              "outlinewidth": 0,
              "ticks": ""
             }
            },
            "type": "scatter3d"
           }
          ],
          "scattercarpet": [
           {
            "marker": {
             "colorbar": {
              "outlinewidth": 0,
              "ticks": ""
             }
            },
            "type": "scattercarpet"
           }
          ],
          "scattergeo": [
           {
            "marker": {
             "colorbar": {
              "outlinewidth": 0,
              "ticks": ""
             }
            },
            "type": "scattergeo"
           }
          ],
          "scattergl": [
           {
            "marker": {
             "colorbar": {
              "outlinewidth": 0,
              "ticks": ""
             }
            },
            "type": "scattergl"
           }
          ],
          "scattermapbox": [
           {
            "marker": {
             "colorbar": {
              "outlinewidth": 0,
              "ticks": ""
             }
            },
            "type": "scattermapbox"
           }
          ],
          "scatterpolar": [
           {
            "marker": {
             "colorbar": {
              "outlinewidth": 0,
              "ticks": ""
             }
            },
            "type": "scatterpolar"
           }
          ],
          "scatterpolargl": [
           {
            "marker": {
             "colorbar": {
              "outlinewidth": 0,
              "ticks": ""
             }
            },
            "type": "scatterpolargl"
           }
          ],
          "scatterternary": [
           {
            "marker": {
             "colorbar": {
              "outlinewidth": 0,
              "ticks": ""
             }
            },
            "type": "scatterternary"
           }
          ],
          "surface": [
           {
            "colorbar": {
             "outlinewidth": 0,
             "ticks": ""
            },
            "colorscale": [
             [
              0,
              "#0d0887"
             ],
             [
              0.1111111111111111,
              "#46039f"
             ],
             [
              0.2222222222222222,
              "#7201a8"
             ],
             [
              0.3333333333333333,
              "#9c179e"
             ],
             [
              0.4444444444444444,
              "#bd3786"
             ],
             [
              0.5555555555555556,
              "#d8576b"
             ],
             [
              0.6666666666666666,
              "#ed7953"
             ],
             [
              0.7777777777777778,
              "#fb9f3a"
             ],
             [
              0.8888888888888888,
              "#fdca26"
             ],
             [
              1,
              "#f0f921"
             ]
            ],
            "type": "surface"
           }
          ],
          "table": [
           {
            "cells": {
             "fill": {
              "color": "#EBF0F8"
             },
             "line": {
              "color": "white"
             }
            },
            "header": {
             "fill": {
              "color": "#C8D4E3"
             },
             "line": {
              "color": "white"
             }
            },
            "type": "table"
           }
          ]
         },
         "layout": {
          "annotationdefaults": {
           "arrowcolor": "#2a3f5f",
           "arrowhead": 0,
           "arrowwidth": 1
          },
          "autotypenumbers": "strict",
          "coloraxis": {
           "colorbar": {
            "outlinewidth": 0,
            "ticks": ""
           }
          },
          "colorscale": {
           "diverging": [
            [
             0,
             "#8e0152"
            ],
            [
             0.1,
             "#c51b7d"
            ],
            [
             0.2,
             "#de77ae"
            ],
            [
             0.3,
             "#f1b6da"
            ],
            [
             0.4,
             "#fde0ef"
            ],
            [
             0.5,
             "#f7f7f7"
            ],
            [
             0.6,
             "#e6f5d0"
            ],
            [
             0.7,
             "#b8e186"
            ],
            [
             0.8,
             "#7fbc41"
            ],
            [
             0.9,
             "#4d9221"
            ],
            [
             1,
             "#276419"
            ]
           ],
           "sequential": [
            [
             0,
             "#0d0887"
            ],
            [
             0.1111111111111111,
             "#46039f"
            ],
            [
             0.2222222222222222,
             "#7201a8"
            ],
            [
             0.3333333333333333,
             "#9c179e"
            ],
            [
             0.4444444444444444,
             "#bd3786"
            ],
            [
             0.5555555555555556,
             "#d8576b"
            ],
            [
             0.6666666666666666,
             "#ed7953"
            ],
            [
             0.7777777777777778,
             "#fb9f3a"
            ],
            [
             0.8888888888888888,
             "#fdca26"
            ],
            [
             1,
             "#f0f921"
            ]
           ],
           "sequentialminus": [
            [
             0,
             "#0d0887"
            ],
            [
             0.1111111111111111,
             "#46039f"
            ],
            [
             0.2222222222222222,
             "#7201a8"
            ],
            [
             0.3333333333333333,
             "#9c179e"
            ],
            [
             0.4444444444444444,
             "#bd3786"
            ],
            [
             0.5555555555555556,
             "#d8576b"
            ],
            [
             0.6666666666666666,
             "#ed7953"
            ],
            [
             0.7777777777777778,
             "#fb9f3a"
            ],
            [
             0.8888888888888888,
             "#fdca26"
            ],
            [
             1,
             "#f0f921"
            ]
           ]
          },
          "colorway": [
           "#636efa",
           "#EF553B",
           "#00cc96",
           "#ab63fa",
           "#FFA15A",
           "#19d3f3",
           "#FF6692",
           "#B6E880",
           "#FF97FF",
           "#FECB52"
          ],
          "font": {
           "color": "#2a3f5f"
          },
          "geo": {
           "bgcolor": "white",
           "lakecolor": "white",
           "landcolor": "white",
           "showlakes": true,
           "showland": true,
           "subunitcolor": "#C8D4E3"
          },
          "hoverlabel": {
           "align": "left"
          },
          "hovermode": "closest",
          "mapbox": {
           "style": "light"
          },
          "paper_bgcolor": "white",
          "plot_bgcolor": "white",
          "polar": {
           "angularaxis": {
            "gridcolor": "#EBF0F8",
            "linecolor": "#EBF0F8",
            "ticks": ""
           },
           "bgcolor": "white",
           "radialaxis": {
            "gridcolor": "#EBF0F8",
            "linecolor": "#EBF0F8",
            "ticks": ""
           }
          },
          "scene": {
           "xaxis": {
            "backgroundcolor": "white",
            "gridcolor": "#DFE8F3",
            "gridwidth": 2,
            "linecolor": "#EBF0F8",
            "showbackground": true,
            "ticks": "",
            "zerolinecolor": "#EBF0F8"
           },
           "yaxis": {
            "backgroundcolor": "white",
            "gridcolor": "#DFE8F3",
            "gridwidth": 2,
            "linecolor": "#EBF0F8",
            "showbackground": true,
            "ticks": "",
            "zerolinecolor": "#EBF0F8"
           },
           "zaxis": {
            "backgroundcolor": "white",
            "gridcolor": "#DFE8F3",
            "gridwidth": 2,
            "linecolor": "#EBF0F8",
            "showbackground": true,
            "ticks": "",
            "zerolinecolor": "#EBF0F8"
           }
          },
          "shapedefaults": {
           "line": {
            "color": "#2a3f5f"
           }
          },
          "ternary": {
           "aaxis": {
            "gridcolor": "#DFE8F3",
            "linecolor": "#A2B1C6",
            "ticks": ""
           },
           "baxis": {
            "gridcolor": "#DFE8F3",
            "linecolor": "#A2B1C6",
            "ticks": ""
           },
           "bgcolor": "white",
           "caxis": {
            "gridcolor": "#DFE8F3",
            "linecolor": "#A2B1C6",
            "ticks": ""
           }
          },
          "title": {
           "x": 0.05
          },
          "xaxis": {
           "automargin": true,
           "gridcolor": "#EBF0F8",
           "linecolor": "#EBF0F8",
           "ticks": "",
           "title": {
            "standoff": 15
           },
           "zerolinecolor": "#EBF0F8",
           "zerolinewidth": 2
          },
          "yaxis": {
           "automargin": true,
           "gridcolor": "#EBF0F8",
           "linecolor": "#EBF0F8",
           "ticks": "",
           "title": {
            "standoff": 15
           },
           "zerolinecolor": "#EBF0F8",
           "zerolinewidth": 2
          }
         }
        },
        "title": {
         "text": "Listen Count for each Song"
        },
        "xaxis": {
         "anchor": "y",
         "domain": [
          0,
          1
         ],
         "title": {
          "text": "Listen Count"
         }
        },
        "yaxis": {
         "anchor": "x",
         "domain": [
          0,
          1
         ],
         "title": {
          "text": "trackName"
         }
        }
       }
      }
     },
     "metadata": {},
     "output_type": "display_data"
    }
   ],
   "source": [
    "track_counts_short = track_counts[:10]\n",
    "fig = px.bar(track_counts_short, x='Listen Count', y='trackName', orientation='h',\n",
    "             labels={'Listen Count': 'Listen Count', 'trackName': 'trackName'},\n",
    "             title='Listen Count for each Song')\n",
    "fig.update_traces(text=track_counts_short['Listen Count'], textposition='outside')\n",
    "fig.update_traces(text=track_counts_short.apply(lambda x: f\"{x['Listen Count']}\", axis=1),\n",
    "                  textposition='inside')\n",
    "\n",
    "fig.show()"
   ]
  },
  {
   "cell_type": "code",
   "execution_count": 72,
   "metadata": {},
   "outputs": [
    {
     "data": {
      "application/vnd.plotly.v1+json": {
       "config": {
        "plotlyServerURL": "https://plot.ly"
       },
       "data": [
        {
         "colorscale": [
          [
           0,
           "rgb(247,251,255)"
          ],
          [
           0.125,
           "rgb(222,235,247)"
          ],
          [
           0.25,
           "rgb(198,219,239)"
          ],
          [
           0.375,
           "rgb(158,202,225)"
          ],
          [
           0.5,
           "rgb(107,174,214)"
          ],
          [
           0.625,
           "rgb(66,146,198)"
          ],
          [
           0.75,
           "rgb(33,113,181)"
          ],
          [
           0.875,
           "rgb(8,81,156)"
          ],
          [
           1,
           "rgb(8,48,107)"
          ]
         ],
         "type": "heatmap",
         "x": [
          0,
          1,
          2,
          3,
          4,
          5,
          6,
          7,
          8,
          9,
          10,
          11,
          12,
          13,
          14,
          15,
          16,
          17,
          18,
          19,
          20,
          21,
          22,
          23
         ],
         "y": [
          "Monday",
          "Tuesday",
          "Wednesday",
          "Thursday",
          "Friday",
          "Saturday",
          "Sunday"
         ],
         "z": [
          [
           724.9023166666667,
           889.7839166666666,
           1053.0961166666666,
           1052.1322833333334,
           990.3321666666667,
           756.8992,
           585.2537166666667,
           368.97391666666664,
           255.17191666666668,
           184.07536666666667,
           158.21425,
           472.62045,
           1009.9352166666666,
           1111.4008333333334,
           765.9438,
           805.7374333333333,
           858.9049833333333,
           1075.5797666666667,
           1172.33625,
           1185.0330666666666,
           1083.7553166666667,
           824.0106,
           747.2560333333333,
           1076.3776
          ],
          [
           927.6329833333333,
           905.89145,
           1034.0848833333334,
           1236.4885833333333,
           1220.9529333333332,
           852.1494333333334,
           446.176,
           334.1619666666667,
           214.59501666666665,
           179.5679,
           179.80238333333332,
           499.06668333333334,
           990.9272333333333,
           1019.62155,
           1025.7020333333332,
           904.96625,
           760.5850833333334,
           1091.2937,
           990.57475,
           856.0015333333333,
           964.5709333333333,
           1074.5128,
           1181.3067666666666,
           940.04845
          ],
          [
           877.4457333333334,
           1086.1154166666668,
           1019.1977666666667,
           1256.3184,
           1210.5789166666666,
           975.8232333333333,
           739.1500333333333,
           385.09815000000003,
           194.76331666666667,
           118.08958333333334,
           154.32508333333334,
           584.3527166666667,
           1074.5671833333333,
           1044.60195,
           812.6058666666667,
           1006.7075666666667,
           922.9232333333333,
           1192.8985,
           1108.9004333333332,
           976.4394833333333,
           948.2458666666666,
           1085.8839,
           1087.4085666666667,
           906.9297833333334
          ],
          [
           803.32965,
           759.2050166666667,
           961.7334333333333,
           1363.0624666666668,
           1204.0694666666666,
           1013.8631166666667,
           705.7507166666667,
           219.7866,
           62.488749999999996,
           6.047633333333334,
           22.578383333333335,
           473.96245,
           814.7458166666667,
           606.5126166666666,
           717.8355166666666,
           853.4819666666667,
           1015.8148166666666,
           1282.4769833333332,
           1147.0090833333334,
           956.0902333333333,
           956.14825,
           987.75075,
           840.2158333333333,
           705.0866833333333
          ],
          [
           714.1926833333333,
           933.8746666666667,
           769.8535666666667,
           1170.4971833333334,
           1264.2852166666667,
           873.2678166666667,
           553.296,
           340.6795333333333,
           164.5469,
           44.23951666666667,
           39.48511666666667,
           541.2308,
           1138.8858666666667,
           908.6396833333333,
           514.1250166666666,
           699.4336833333333,
           867.1366333333333,
           1070.0890333333334,
           1137.8667333333333,
           941.19455,
           978.1441666666667,
           1081.58005,
           1174.30365,
           971.4365166666666
          ],
          [
           887.9820333333333,
           794.1638,
           864.8655666666667,
           1105.0039666666667,
           1132.8282666666667,
           1060.5449333333333,
           661.4343333333334,
           492.9736833333333,
           305.22796666666665,
           204.99876666666665,
           34.339133333333336,
           66.38135,
           412.97063333333335,
           892.1936166666667,
           1003.1512,
           1077.484,
           1092.7688333333333,
           899.5956,
           1024.7805333333333,
           1107.53675,
           741.8801,
           845.4535333333333,
           752.4893333333333,
           646.91805
          ],
          [
           497.02655,
           747.0506,
           971.0585,
           1018.3095,
           1259.2440166666668,
           1095.0211333333334,
           937.33545,
           592.2585666666666,
           286.47985,
           159.44513333333333,
           14.499233333333335,
           139.72761666666668,
           387.6007833333333,
           859.7836166666667,
           929.3599,
           917.5525,
           851.2551166666667,
           893.1547833333333,
           998.20385,
           965.7425,
           914.1418,
           1030.6150166666666,
           991.9768666666666,
           957.5025666666667
          ]
         ]
        }
       ],
       "layout": {
        "template": {
         "data": {
          "bar": [
           {
            "error_x": {
             "color": "#2a3f5f"
            },
            "error_y": {
             "color": "#2a3f5f"
            },
            "marker": {
             "line": {
              "color": "white",
              "width": 0.5
             },
             "pattern": {
              "fillmode": "overlay",
              "size": 10,
              "solidity": 0.2
             }
            },
            "type": "bar"
           }
          ],
          "barpolar": [
           {
            "marker": {
             "line": {
              "color": "white",
              "width": 0.5
             },
             "pattern": {
              "fillmode": "overlay",
              "size": 10,
              "solidity": 0.2
             }
            },
            "type": "barpolar"
           }
          ],
          "carpet": [
           {
            "aaxis": {
             "endlinecolor": "#2a3f5f",
             "gridcolor": "#C8D4E3",
             "linecolor": "#C8D4E3",
             "minorgridcolor": "#C8D4E3",
             "startlinecolor": "#2a3f5f"
            },
            "baxis": {
             "endlinecolor": "#2a3f5f",
             "gridcolor": "#C8D4E3",
             "linecolor": "#C8D4E3",
             "minorgridcolor": "#C8D4E3",
             "startlinecolor": "#2a3f5f"
            },
            "type": "carpet"
           }
          ],
          "choropleth": [
           {
            "colorbar": {
             "outlinewidth": 0,
             "ticks": ""
            },
            "type": "choropleth"
           }
          ],
          "contour": [
           {
            "colorbar": {
             "outlinewidth": 0,
             "ticks": ""
            },
            "colorscale": [
             [
              0,
              "#0d0887"
             ],
             [
              0.1111111111111111,
              "#46039f"
             ],
             [
              0.2222222222222222,
              "#7201a8"
             ],
             [
              0.3333333333333333,
              "#9c179e"
             ],
             [
              0.4444444444444444,
              "#bd3786"
             ],
             [
              0.5555555555555556,
              "#d8576b"
             ],
             [
              0.6666666666666666,
              "#ed7953"
             ],
             [
              0.7777777777777778,
              "#fb9f3a"
             ],
             [
              0.8888888888888888,
              "#fdca26"
             ],
             [
              1,
              "#f0f921"
             ]
            ],
            "type": "contour"
           }
          ],
          "contourcarpet": [
           {
            "colorbar": {
             "outlinewidth": 0,
             "ticks": ""
            },
            "type": "contourcarpet"
           }
          ],
          "heatmap": [
           {
            "colorbar": {
             "outlinewidth": 0,
             "ticks": ""
            },
            "colorscale": [
             [
              0,
              "#0d0887"
             ],
             [
              0.1111111111111111,
              "#46039f"
             ],
             [
              0.2222222222222222,
              "#7201a8"
             ],
             [
              0.3333333333333333,
              "#9c179e"
             ],
             [
              0.4444444444444444,
              "#bd3786"
             ],
             [
              0.5555555555555556,
              "#d8576b"
             ],
             [
              0.6666666666666666,
              "#ed7953"
             ],
             [
              0.7777777777777778,
              "#fb9f3a"
             ],
             [
              0.8888888888888888,
              "#fdca26"
             ],
             [
              1,
              "#f0f921"
             ]
            ],
            "type": "heatmap"
           }
          ],
          "heatmapgl": [
           {
            "colorbar": {
             "outlinewidth": 0,
             "ticks": ""
            },
            "colorscale": [
             [
              0,
              "#0d0887"
             ],
             [
              0.1111111111111111,
              "#46039f"
             ],
             [
              0.2222222222222222,
              "#7201a8"
             ],
             [
              0.3333333333333333,
              "#9c179e"
             ],
             [
              0.4444444444444444,
              "#bd3786"
             ],
             [
              0.5555555555555556,
              "#d8576b"
             ],
             [
              0.6666666666666666,
              "#ed7953"
             ],
             [
              0.7777777777777778,
              "#fb9f3a"
             ],
             [
              0.8888888888888888,
              "#fdca26"
             ],
             [
              1,
              "#f0f921"
             ]
            ],
            "type": "heatmapgl"
           }
          ],
          "histogram": [
           {
            "marker": {
             "pattern": {
              "fillmode": "overlay",
              "size": 10,
              "solidity": 0.2
             }
            },
            "type": "histogram"
           }
          ],
          "histogram2d": [
           {
            "colorbar": {
             "outlinewidth": 0,
             "ticks": ""
            },
            "colorscale": [
             [
              0,
              "#0d0887"
             ],
             [
              0.1111111111111111,
              "#46039f"
             ],
             [
              0.2222222222222222,
              "#7201a8"
             ],
             [
              0.3333333333333333,
              "#9c179e"
             ],
             [
              0.4444444444444444,
              "#bd3786"
             ],
             [
              0.5555555555555556,
              "#d8576b"
             ],
             [
              0.6666666666666666,
              "#ed7953"
             ],
             [
              0.7777777777777778,
              "#fb9f3a"
             ],
             [
              0.8888888888888888,
              "#fdca26"
             ],
             [
              1,
              "#f0f921"
             ]
            ],
            "type": "histogram2d"
           }
          ],
          "histogram2dcontour": [
           {
            "colorbar": {
             "outlinewidth": 0,
             "ticks": ""
            },
            "colorscale": [
             [
              0,
              "#0d0887"
             ],
             [
              0.1111111111111111,
              "#46039f"
             ],
             [
              0.2222222222222222,
              "#7201a8"
             ],
             [
              0.3333333333333333,
              "#9c179e"
             ],
             [
              0.4444444444444444,
              "#bd3786"
             ],
             [
              0.5555555555555556,
              "#d8576b"
             ],
             [
              0.6666666666666666,
              "#ed7953"
             ],
             [
              0.7777777777777778,
              "#fb9f3a"
             ],
             [
              0.8888888888888888,
              "#fdca26"
             ],
             [
              1,
              "#f0f921"
             ]
            ],
            "type": "histogram2dcontour"
           }
          ],
          "mesh3d": [
           {
            "colorbar": {
             "outlinewidth": 0,
             "ticks": ""
            },
            "type": "mesh3d"
           }
          ],
          "parcoords": [
           {
            "line": {
             "colorbar": {
              "outlinewidth": 0,
              "ticks": ""
             }
            },
            "type": "parcoords"
           }
          ],
          "pie": [
           {
            "automargin": true,
            "type": "pie"
           }
          ],
          "scatter": [
           {
            "fillpattern": {
             "fillmode": "overlay",
             "size": 10,
             "solidity": 0.2
            },
            "type": "scatter"
           }
          ],
          "scatter3d": [
           {
            "line": {
             "colorbar": {
              "outlinewidth": 0,
              "ticks": ""
             }
            },
            "marker": {
             "colorbar": {
              "outlinewidth": 0,
              "ticks": ""
             }
            },
            "type": "scatter3d"
           }
          ],
          "scattercarpet": [
           {
            "marker": {
             "colorbar": {
              "outlinewidth": 0,
              "ticks": ""
             }
            },
            "type": "scattercarpet"
           }
          ],
          "scattergeo": [
           {
            "marker": {
             "colorbar": {
              "outlinewidth": 0,
              "ticks": ""
             }
            },
            "type": "scattergeo"
           }
          ],
          "scattergl": [
           {
            "marker": {
             "colorbar": {
              "outlinewidth": 0,
              "ticks": ""
             }
            },
            "type": "scattergl"
           }
          ],
          "scattermapbox": [
           {
            "marker": {
             "colorbar": {
              "outlinewidth": 0,
              "ticks": ""
             }
            },
            "type": "scattermapbox"
           }
          ],
          "scatterpolar": [
           {
            "marker": {
             "colorbar": {
              "outlinewidth": 0,
              "ticks": ""
             }
            },
            "type": "scatterpolar"
           }
          ],
          "scatterpolargl": [
           {
            "marker": {
             "colorbar": {
              "outlinewidth": 0,
              "ticks": ""
             }
            },
            "type": "scatterpolargl"
           }
          ],
          "scatterternary": [
           {
            "marker": {
             "colorbar": {
              "outlinewidth": 0,
              "ticks": ""
             }
            },
            "type": "scatterternary"
           }
          ],
          "surface": [
           {
            "colorbar": {
             "outlinewidth": 0,
             "ticks": ""
            },
            "colorscale": [
             [
              0,
              "#0d0887"
             ],
             [
              0.1111111111111111,
              "#46039f"
             ],
             [
              0.2222222222222222,
              "#7201a8"
             ],
             [
              0.3333333333333333,
              "#9c179e"
             ],
             [
              0.4444444444444444,
              "#bd3786"
             ],
             [
              0.5555555555555556,
              "#d8576b"
             ],
             [
              0.6666666666666666,
              "#ed7953"
             ],
             [
              0.7777777777777778,
              "#fb9f3a"
             ],
             [
              0.8888888888888888,
              "#fdca26"
             ],
             [
              1,
              "#f0f921"
             ]
            ],
            "type": "surface"
           }
          ],
          "table": [
           {
            "cells": {
             "fill": {
              "color": "#EBF0F8"
             },
             "line": {
              "color": "white"
             }
            },
            "header": {
             "fill": {
              "color": "#C8D4E3"
             },
             "line": {
              "color": "white"
             }
            },
            "type": "table"
           }
          ]
         },
         "layout": {
          "annotationdefaults": {
           "arrowcolor": "#2a3f5f",
           "arrowhead": 0,
           "arrowwidth": 1
          },
          "autotypenumbers": "strict",
          "coloraxis": {
           "colorbar": {
            "outlinewidth": 0,
            "ticks": ""
           }
          },
          "colorscale": {
           "diverging": [
            [
             0,
             "#8e0152"
            ],
            [
             0.1,
             "#c51b7d"
            ],
            [
             0.2,
             "#de77ae"
            ],
            [
             0.3,
             "#f1b6da"
            ],
            [
             0.4,
             "#fde0ef"
            ],
            [
             0.5,
             "#f7f7f7"
            ],
            [
             0.6,
             "#e6f5d0"
            ],
            [
             0.7,
             "#b8e186"
            ],
            [
             0.8,
             "#7fbc41"
            ],
            [
             0.9,
             "#4d9221"
            ],
            [
             1,
             "#276419"
            ]
           ],
           "sequential": [
            [
             0,
             "#0d0887"
            ],
            [
             0.1111111111111111,
             "#46039f"
            ],
            [
             0.2222222222222222,
             "#7201a8"
            ],
            [
             0.3333333333333333,
             "#9c179e"
            ],
            [
             0.4444444444444444,
             "#bd3786"
            ],
            [
             0.5555555555555556,
             "#d8576b"
            ],
            [
             0.6666666666666666,
             "#ed7953"
            ],
            [
             0.7777777777777778,
             "#fb9f3a"
            ],
            [
             0.8888888888888888,
             "#fdca26"
            ],
            [
             1,
             "#f0f921"
            ]
           ],
           "sequentialminus": [
            [
             0,
             "#0d0887"
            ],
            [
             0.1111111111111111,
             "#46039f"
            ],
            [
             0.2222222222222222,
             "#7201a8"
            ],
            [
             0.3333333333333333,
             "#9c179e"
            ],
            [
             0.4444444444444444,
             "#bd3786"
            ],
            [
             0.5555555555555556,
             "#d8576b"
            ],
            [
             0.6666666666666666,
             "#ed7953"
            ],
            [
             0.7777777777777778,
             "#fb9f3a"
            ],
            [
             0.8888888888888888,
             "#fdca26"
            ],
            [
             1,
             "#f0f921"
            ]
           ]
          },
          "colorway": [
           "#636efa",
           "#EF553B",
           "#00cc96",
           "#ab63fa",
           "#FFA15A",
           "#19d3f3",
           "#FF6692",
           "#B6E880",
           "#FF97FF",
           "#FECB52"
          ],
          "font": {
           "color": "#2a3f5f"
          },
          "geo": {
           "bgcolor": "white",
           "lakecolor": "white",
           "landcolor": "white",
           "showlakes": true,
           "showland": true,
           "subunitcolor": "#C8D4E3"
          },
          "hoverlabel": {
           "align": "left"
          },
          "hovermode": "closest",
          "mapbox": {
           "style": "light"
          },
          "paper_bgcolor": "white",
          "plot_bgcolor": "white",
          "polar": {
           "angularaxis": {
            "gridcolor": "#EBF0F8",
            "linecolor": "#EBF0F8",
            "ticks": ""
           },
           "bgcolor": "white",
           "radialaxis": {
            "gridcolor": "#EBF0F8",
            "linecolor": "#EBF0F8",
            "ticks": ""
           }
          },
          "scene": {
           "xaxis": {
            "backgroundcolor": "white",
            "gridcolor": "#DFE8F3",
            "gridwidth": 2,
            "linecolor": "#EBF0F8",
            "showbackground": true,
            "ticks": "",
            "zerolinecolor": "#EBF0F8"
           },
           "yaxis": {
            "backgroundcolor": "white",
            "gridcolor": "#DFE8F3",
            "gridwidth": 2,
            "linecolor": "#EBF0F8",
            "showbackground": true,
            "ticks": "",
            "zerolinecolor": "#EBF0F8"
           },
           "zaxis": {
            "backgroundcolor": "white",
            "gridcolor": "#DFE8F3",
            "gridwidth": 2,
            "linecolor": "#EBF0F8",
            "showbackground": true,
            "ticks": "",
            "zerolinecolor": "#EBF0F8"
           }
          },
          "shapedefaults": {
           "line": {
            "color": "#2a3f5f"
           }
          },
          "ternary": {
           "aaxis": {
            "gridcolor": "#DFE8F3",
            "linecolor": "#A2B1C6",
            "ticks": ""
           },
           "baxis": {
            "gridcolor": "#DFE8F3",
            "linecolor": "#A2B1C6",
            "ticks": ""
           },
           "bgcolor": "white",
           "caxis": {
            "gridcolor": "#DFE8F3",
            "linecolor": "#A2B1C6",
            "ticks": ""
           }
          },
          "title": {
           "x": 0.05
          },
          "xaxis": {
           "automargin": true,
           "gridcolor": "#EBF0F8",
           "linecolor": "#EBF0F8",
           "ticks": "",
           "title": {
            "standoff": 15
           },
           "zerolinecolor": "#EBF0F8",
           "zerolinewidth": 2
          },
          "yaxis": {
           "automargin": true,
           "gridcolor": "#EBF0F8",
           "linecolor": "#EBF0F8",
           "ticks": "",
           "title": {
            "standoff": 15
           },
           "zerolinecolor": "#EBF0F8",
           "zerolinewidth": 2
          }
         }
        },
        "title": {
         "text": "Listening Map"
        },
        "xaxis": {
         "ticksuffix": "h",
         "title": {
          "text": "Time of Day"
         }
        },
        "yaxis": {
         "title": {
          "text": "Day of Week"
         }
        }
       }
      }
     },
     "metadata": {},
     "output_type": "display_data"
    }
   ],
   "source": [
    "\n",
    "fig_new = go.Figure(data=go.Heatmap(z=timevsweek.values,\n",
    "                                    x=timevsweek.columns,\n",
    "                                    y=timevsweek.index,\n",
    "                                    colorscale='Blues'))\n",
    "\n",
    "fig_new.update_layout(\n",
    "    title='Listening Map',\n",
    "    xaxis=dict(title='Time of Day'),\n",
    "    yaxis=dict(title='Day of Week'),\n",
    "    xaxis_ticksuffix='h',\n",
    ")\n",
    "\n",
    "fig_new.show()"
   ]
  },
  {
   "cell_type": "code",
   "execution_count": 59,
   "metadata": {},
   "outputs": [],
   "source": [
    "SPOTIPY_CLIENT_ID = '2344996eab174070a213ad526d96c0f6'\n",
    "SPOTIPY_CLIENT_SECRET = 'cdceafd465504a3cad736d27c385f3a4'"
   ]
  },
  {
   "cell_type": "code",
   "execution_count": 60,
   "metadata": {},
   "outputs": [],
   "source": [
    "client_credentials_manager = SpotifyClientCredentials(client_id=SPOTIPY_CLIENT_ID, client_secret=SPOTIPY_CLIENT_SECRET)\n",
    "sp = spotipy.Spotify(client_credentials_manager=client_credentials_manager)"
   ]
  },
  {
   "cell_type": "code",
   "execution_count": 61,
   "metadata": {},
   "outputs": [],
   "source": [
    "def get_song_features(track):\n",
    "    results = sp.search(q='track:{}'.format(track), type='track')\n",
    "\n",
    "    # Check if there are any search results\n",
    "    if results['tracks']['items']:\n",
    "        # Extract the first artist's name\n",
    "        artist = results['tracks']['items'][0]['artists'][0]['name']\n",
    "        \n",
    "        # Search again with both track name and artist\n",
    "        track_info = sp.search(q='track:{} artist:{}'.format(track, artist), type='track')\n",
    "\n",
    "        # Check if there are any search results\n",
    "        if track_info['tracks']['items']:\n",
    "            # Get the track ID\n",
    "            track_id = track_info['tracks']['items'][0]['id']\n",
    "\n",
    "            # Get the audio features for the track\n",
    "            audio_features = sp.audio_features(track_id)\n",
    "\n",
    "            return audio_features\n",
    "        else:\n",
    "            print(\"No results found for the track '{}' by the artist '{}'.\".format(track, artist))\n",
    "    else:\n",
    "        print(\"No results found for the track '{}'.\".format(track))\n"
   ]
  },
  {
   "cell_type": "code",
   "execution_count": 62,
   "metadata": {},
   "outputs": [],
   "source": [
    "top_100 = track_counts[:100]\n",
    "audio_features = []\n",
    "for track in top_100['trackName']:\n",
    "    features = get_song_features(track)\n",
    "    audio_features.append(features)\n",
    "    \n",
    "    "
   ]
  },
  {
   "cell_type": "code",
   "execution_count": 63,
   "metadata": {},
   "outputs": [
    {
     "data": {
      "text/plain": [
       "[[{'danceability': 0.368,\n",
       "   'energy': 0.318,\n",
       "   'key': 4,\n",
       "   'loudness': -11.182,\n",
       "   'mode': 1,\n",
       "   'speechiness': 0.0358,\n",
       "   'acousticness': 0.627,\n",
       "   'instrumentalness': 0.188,\n",
       "   'liveness': 0.0804,\n",
       "   'valence': 0.122,\n",
       "   'tempo': 81.116,\n",
       "   'type': 'audio_features',\n",
       "   'id': '4EVwKp8hDRmxrT6Dzu6aBc',\n",
       "   'uri': 'spotify:track:4EVwKp8hDRmxrT6Dzu6aBc',\n",
       "   'track_href': 'https://api.spotify.com/v1/tracks/4EVwKp8hDRmxrT6Dzu6aBc',\n",
       "   'analysis_url': 'https://api.spotify.com/v1/audio-analysis/4EVwKp8hDRmxrT6Dzu6aBc',\n",
       "   'duration_ms': 305213,\n",
       "   'time_signature': 4}],\n",
       " [{'danceability': 0.283,\n",
       "   'energy': 0.451,\n",
       "   'key': 7,\n",
       "   'loudness': -8.585,\n",
       "   'mode': 1,\n",
       "   'speechiness': 0.0452,\n",
       "   'acousticness': 0.0203,\n",
       "   'instrumentalness': 0.00318,\n",
       "   'liveness': 0.0463,\n",
       "   'valence': 0.0683,\n",
       "   'tempo': 91.116,\n",
       "   'type': 'audio_features',\n",
       "   'id': '4ShVovnLIlObG43vwaCRkJ',\n",
       "   'uri': 'spotify:track:4ShVovnLIlObG43vwaCRkJ',\n",
       "   'track_href': 'https://api.spotify.com/v1/tracks/4ShVovnLIlObG43vwaCRkJ',\n",
       "   'analysis_url': 'https://api.spotify.com/v1/audio-analysis/4ShVovnLIlObG43vwaCRkJ',\n",
       "   'duration_ms': 757440,\n",
       "   'time_signature': 3}],\n",
       " [{'danceability': 0.565,\n",
       "   'energy': 0.284,\n",
       "   'key': 9,\n",
       "   'loudness': -11.881,\n",
       "   'mode': 1,\n",
       "   'speechiness': 0.0286,\n",
       "   'acousticness': 0.023,\n",
       "   'instrumentalness': 0.098,\n",
       "   'liveness': 0.113,\n",
       "   'valence': 0.314,\n",
       "   'tempo': 131.309,\n",
       "   'type': 'audio_features',\n",
       "   'id': '0y5akbuW5mCnnUe71xATpe',\n",
       "   'uri': 'spotify:track:0y5akbuW5mCnnUe71xATpe',\n",
       "   'track_href': 'https://api.spotify.com/v1/tracks/0y5akbuW5mCnnUe71xATpe',\n",
       "   'analysis_url': 'https://api.spotify.com/v1/audio-analysis/0y5akbuW5mCnnUe71xATpe',\n",
       "   'duration_ms': 363773,\n",
       "   'time_signature': 3}],\n",
       " [{'danceability': 0.669,\n",
       "   'energy': 0.574,\n",
       "   'key': 4,\n",
       "   'loudness': -6.442,\n",
       "   'mode': 0,\n",
       "   'speechiness': 0.0286,\n",
       "   'acousticness': 0.0175,\n",
       "   'instrumentalness': 0.00294,\n",
       "   'liveness': 0.146,\n",
       "   'valence': 0.273,\n",
       "   'tempo': 120.013,\n",
       "   'type': 'audio_features',\n",
       "   'id': '4jvjzW7Hm0yK4LvvE0Paz9',\n",
       "   'uri': 'spotify:track:4jvjzW7Hm0yK4LvvE0Paz9',\n",
       "   'track_href': 'https://api.spotify.com/v1/tracks/4jvjzW7Hm0yK4LvvE0Paz9',\n",
       "   'analysis_url': 'https://api.spotify.com/v1/audio-analysis/4jvjzW7Hm0yK4LvvE0Paz9',\n",
       "   'duration_ms': 196400,\n",
       "   'time_signature': 4}],\n",
       " [{'danceability': 0.727,\n",
       "   'energy': 0.71,\n",
       "   'key': 4,\n",
       "   'loudness': -6.142,\n",
       "   'mode': 1,\n",
       "   'speechiness': 0.0742,\n",
       "   'acousticness': 0.0104,\n",
       "   'instrumentalness': 0,\n",
       "   'liveness': 0.107,\n",
       "   'valence': 0.378,\n",
       "   'tempo': 81.995,\n",
       "   'type': 'audio_features',\n",
       "   'id': '2elA6JLRaQ6iB7hxiuTKN4',\n",
       "   'uri': 'spotify:track:2elA6JLRaQ6iB7hxiuTKN4',\n",
       "   'track_href': 'https://api.spotify.com/v1/tracks/2elA6JLRaQ6iB7hxiuTKN4',\n",
       "   'analysis_url': 'https://api.spotify.com/v1/audio-analysis/2elA6JLRaQ6iB7hxiuTKN4',\n",
       "   'duration_ms': 287480,\n",
       "   'time_signature': 4}],\n",
       " [{'danceability': 0.581,\n",
       "   'energy': 0.21,\n",
       "   'key': 8,\n",
       "   'loudness': -10.426,\n",
       "   'mode': 1,\n",
       "   'speechiness': 0.0321,\n",
       "   'acousticness': 0.768,\n",
       "   'instrumentalness': 0,\n",
       "   'liveness': 0.369,\n",
       "   'valence': 0.452,\n",
       "   'tempo': 80.099,\n",
       "   'type': 'audio_features',\n",
       "   'id': '5GUYJTQap5F3RDQiCOJhrS',\n",
       "   'uri': 'spotify:track:5GUYJTQap5F3RDQiCOJhrS',\n",
       "   'track_href': 'https://api.spotify.com/v1/tracks/5GUYJTQap5F3RDQiCOJhrS',\n",
       "   'analysis_url': 'https://api.spotify.com/v1/audio-analysis/5GUYJTQap5F3RDQiCOJhrS',\n",
       "   'duration_ms': 249668,\n",
       "   'time_signature': 4}],\n",
       " [{'danceability': 0.376,\n",
       "   'energy': 0.451,\n",
       "   'key': 11,\n",
       "   'loudness': -8.276,\n",
       "   'mode': 1,\n",
       "   'speechiness': 0.0327,\n",
       "   'acousticness': 0.402,\n",
       "   'instrumentalness': 4.13e-05,\n",
       "   'liveness': 0.128,\n",
       "   'valence': 0.164,\n",
       "   'tempo': 123.344,\n",
       "   'type': 'audio_features',\n",
       "   'id': '3k2kIiJqUiIP49iUcOLpWT',\n",
       "   'uri': 'spotify:track:3k2kIiJqUiIP49iUcOLpWT',\n",
       "   'track_href': 'https://api.spotify.com/v1/tracks/3k2kIiJqUiIP49iUcOLpWT',\n",
       "   'analysis_url': 'https://api.spotify.com/v1/audio-analysis/3k2kIiJqUiIP49iUcOLpWT',\n",
       "   'duration_ms': 433360,\n",
       "   'time_signature': 3}],\n",
       " [{'danceability': 0.585,\n",
       "   'energy': 0.633,\n",
       "   'key': 1,\n",
       "   'loudness': -8.582,\n",
       "   'mode': 1,\n",
       "   'speechiness': 0.261,\n",
       "   'acousticness': 0.198,\n",
       "   'instrumentalness': 9.84e-05,\n",
       "   'liveness': 0.123,\n",
       "   'valence': 0.355,\n",
       "   'tempo': 119.686,\n",
       "   'type': 'audio_features',\n",
       "   'id': '2VSDVmmjXRy5PTGsbCJJvb',\n",
       "   'uri': 'spotify:track:2VSDVmmjXRy5PTGsbCJJvb',\n",
       "   'track_href': 'https://api.spotify.com/v1/tracks/2VSDVmmjXRy5PTGsbCJJvb',\n",
       "   'analysis_url': 'https://api.spotify.com/v1/audio-analysis/2VSDVmmjXRy5PTGsbCJJvb',\n",
       "   'duration_ms': 105999,\n",
       "   'time_signature': 3}],\n",
       " [{'danceability': 0.528,\n",
       "   'energy': 0.653,\n",
       "   'key': 6,\n",
       "   'loudness': -7.379,\n",
       "   'mode': 1,\n",
       "   'speechiness': 0.0259,\n",
       "   'acousticness': 0.526,\n",
       "   'instrumentalness': 0.838,\n",
       "   'liveness': 0.0985,\n",
       "   'valence': 0.371,\n",
       "   'tempo': 98.29,\n",
       "   'type': 'audio_features',\n",
       "   'id': '2EpduTUFSZfeb0GI4CaCQD',\n",
       "   'uri': 'spotify:track:2EpduTUFSZfeb0GI4CaCQD',\n",
       "   'track_href': 'https://api.spotify.com/v1/tracks/2EpduTUFSZfeb0GI4CaCQD',\n",
       "   'analysis_url': 'https://api.spotify.com/v1/audio-analysis/2EpduTUFSZfeb0GI4CaCQD',\n",
       "   'duration_ms': 232537,\n",
       "   'time_signature': 4}],\n",
       " [{'danceability': 0.478,\n",
       "   'energy': 0.373,\n",
       "   'key': 5,\n",
       "   'loudness': -9.505,\n",
       "   'mode': 1,\n",
       "   'speechiness': 0.0317,\n",
       "   'acousticness': 0.915,\n",
       "   'instrumentalness': 6.36e-06,\n",
       "   'liveness': 0.128,\n",
       "   'valence': 0.354,\n",
       "   'tempo': 120.129,\n",
       "   'type': 'audio_features',\n",
       "   'id': '62d6YXEYxmMWAuLpw1EysL',\n",
       "   'uri': 'spotify:track:62d6YXEYxmMWAuLpw1EysL',\n",
       "   'track_href': 'https://api.spotify.com/v1/tracks/62d6YXEYxmMWAuLpw1EysL',\n",
       "   'analysis_url': 'https://api.spotify.com/v1/audio-analysis/62d6YXEYxmMWAuLpw1EysL',\n",
       "   'duration_ms': 195406,\n",
       "   'time_signature': 4}],\n",
       " [{'danceability': 0.347,\n",
       "   'energy': 0.273,\n",
       "   'key': 4,\n",
       "   'loudness': -13.935,\n",
       "   'mode': 1,\n",
       "   'speechiness': 0.0315,\n",
       "   'acousticness': 0.263,\n",
       "   'instrumentalness': 0.126,\n",
       "   'liveness': 0.0943,\n",
       "   'valence': 0.0709,\n",
       "   'tempo': 130.233,\n",
       "   'type': 'audio_features',\n",
       "   'id': '7hxdkHpl8gNgx3NnoffkK4',\n",
       "   'uri': 'spotify:track:7hxdkHpl8gNgx3NnoffkK4',\n",
       "   'track_href': 'https://api.spotify.com/v1/tracks/7hxdkHpl8gNgx3NnoffkK4',\n",
       "   'analysis_url': 'https://api.spotify.com/v1/audio-analysis/7hxdkHpl8gNgx3NnoffkK4',\n",
       "   'duration_ms': 381413,\n",
       "   'time_signature': 3}],\n",
       " [{'danceability': 0.445,\n",
       "   'energy': 0.555,\n",
       "   'key': 0,\n",
       "   'loudness': -9.919,\n",
       "   'mode': 1,\n",
       "   'speechiness': 0.0292,\n",
       "   'acousticness': 0.26,\n",
       "   'instrumentalness': 0.37,\n",
       "   'liveness': 0.105,\n",
       "   'valence': 0.208,\n",
       "   'tempo': 158.259,\n",
       "   'type': 'audio_features',\n",
       "   'id': '2Vqi1Si1dQjMtAZ79UreqL',\n",
       "   'uri': 'spotify:track:2Vqi1Si1dQjMtAZ79UreqL',\n",
       "   'track_href': 'https://api.spotify.com/v1/tracks/2Vqi1Si1dQjMtAZ79UreqL',\n",
       "   'analysis_url': 'https://api.spotify.com/v1/audio-analysis/2Vqi1Si1dQjMtAZ79UreqL',\n",
       "   'duration_ms': 335307,\n",
       "   'time_signature': 3}],\n",
       " [{'danceability': 0.588,\n",
       "   'energy': 0.678,\n",
       "   'key': 4,\n",
       "   'loudness': -10.401,\n",
       "   'mode': 0,\n",
       "   'speechiness': 0.196,\n",
       "   'acousticness': 0.32,\n",
       "   'instrumentalness': 0.0584,\n",
       "   'liveness': 0.101,\n",
       "   'valence': 0.176,\n",
       "   'tempo': 180.52,\n",
       "   'type': 'audio_features',\n",
       "   'id': '4aPAjwSQOcdxY9mLSx1uHw',\n",
       "   'uri': 'spotify:track:4aPAjwSQOcdxY9mLSx1uHw',\n",
       "   'track_href': 'https://api.spotify.com/v1/tracks/4aPAjwSQOcdxY9mLSx1uHw',\n",
       "   'analysis_url': 'https://api.spotify.com/v1/audio-analysis/4aPAjwSQOcdxY9mLSx1uHw',\n",
       "   'duration_ms': 318667,\n",
       "   'time_signature': 4}],\n",
       " [{'danceability': 0.65,\n",
       "   'energy': 0.469,\n",
       "   'key': 11,\n",
       "   'loudness': -8.703,\n",
       "   'mode': 0,\n",
       "   'speechiness': 0.0546,\n",
       "   'acousticness': 0.0553,\n",
       "   'instrumentalness': 0.838,\n",
       "   'liveness': 0.113,\n",
       "   'valence': 0.771,\n",
       "   'tempo': 196.567,\n",
       "   'type': 'audio_features',\n",
       "   'id': '2seXVCwfDFFrQ87WR7K30M',\n",
       "   'uri': 'spotify:track:2seXVCwfDFFrQ87WR7K30M',\n",
       "   'track_href': 'https://api.spotify.com/v1/tracks/2seXVCwfDFFrQ87WR7K30M',\n",
       "   'analysis_url': 'https://api.spotify.com/v1/audio-analysis/2seXVCwfDFFrQ87WR7K30M',\n",
       "   'duration_ms': 210010,\n",
       "   'time_signature': 4}],\n",
       " [{'danceability': 0.355,\n",
       "   'energy': 0.549,\n",
       "   'key': 9,\n",
       "   'loudness': -8.937,\n",
       "   'mode': 1,\n",
       "   'speechiness': 0.0378,\n",
       "   'acousticness': 0.2,\n",
       "   'instrumentalness': 0.00165,\n",
       "   'liveness': 0.26,\n",
       "   'valence': 0.439,\n",
       "   'tempo': 161.368,\n",
       "   'type': 'audio_features',\n",
       "   'id': '2UEH1NjNHGsoEIr3GKLhNR',\n",
       "   'uri': 'spotify:track:2UEH1NjNHGsoEIr3GKLhNR',\n",
       "   'track_href': 'https://api.spotify.com/v1/tracks/2UEH1NjNHGsoEIr3GKLhNR',\n",
       "   'analysis_url': 'https://api.spotify.com/v1/audio-analysis/2UEH1NjNHGsoEIr3GKLhNR',\n",
       "   'duration_ms': 216680,\n",
       "   'time_signature': 4}],\n",
       " [{'danceability': 0.516,\n",
       "   'energy': 0.342,\n",
       "   'key': 4,\n",
       "   'loudness': -9.785,\n",
       "   'mode': 1,\n",
       "   'speechiness': 0.0342,\n",
       "   'acousticness': 0.832,\n",
       "   'instrumentalness': 0.579,\n",
       "   'liveness': 0.0857,\n",
       "   'valence': 0.167,\n",
       "   'tempo': 128.378,\n",
       "   'type': 'audio_features',\n",
       "   'id': '35YyxFpE0ZTOoqFx5bADW8',\n",
       "   'uri': 'spotify:track:35YyxFpE0ZTOoqFx5bADW8',\n",
       "   'track_href': 'https://api.spotify.com/v1/tracks/35YyxFpE0ZTOoqFx5bADW8',\n",
       "   'analysis_url': 'https://api.spotify.com/v1/audio-analysis/35YyxFpE0ZTOoqFx5bADW8',\n",
       "   'duration_ms': 255387,\n",
       "   'time_signature': 3}],\n",
       " [{'danceability': 0.242,\n",
       "   'energy': 0.827,\n",
       "   'key': 11,\n",
       "   'loudness': -6.338,\n",
       "   'mode': 0,\n",
       "   'speechiness': 0.112,\n",
       "   'acousticness': 0.000257,\n",
       "   'instrumentalness': 0.0271,\n",
       "   'liveness': 0.12,\n",
       "   'valence': 0.452,\n",
       "   'tempo': 88.537,\n",
       "   'type': 'audio_features',\n",
       "   'id': '6tPoXU8ni7vcTdDYES1LdS',\n",
       "   'uri': 'spotify:track:6tPoXU8ni7vcTdDYES1LdS',\n",
       "   'track_href': 'https://api.spotify.com/v1/tracks/6tPoXU8ni7vcTdDYES1LdS',\n",
       "   'analysis_url': 'https://api.spotify.com/v1/audio-analysis/6tPoXU8ni7vcTdDYES1LdS',\n",
       "   'duration_ms': 313560,\n",
       "   'time_signature': 4}],\n",
       " [{'danceability': 0.534,\n",
       "   'energy': 0.536,\n",
       "   'key': 7,\n",
       "   'loudness': -7.682,\n",
       "   'mode': 1,\n",
       "   'speechiness': 0.0244,\n",
       "   'acousticness': 0.209,\n",
       "   'instrumentalness': 0.835,\n",
       "   'liveness': 0.113,\n",
       "   'valence': 0.427,\n",
       "   'tempo': 98.018,\n",
       "   'type': 'audio_features',\n",
       "   'id': '0eVz3hV2xOXdneGpnWDFpb',\n",
       "   'uri': 'spotify:track:0eVz3hV2xOXdneGpnWDFpb',\n",
       "   'track_href': 'https://api.spotify.com/v1/tracks/0eVz3hV2xOXdneGpnWDFpb',\n",
       "   'analysis_url': 'https://api.spotify.com/v1/audio-analysis/0eVz3hV2xOXdneGpnWDFpb',\n",
       "   'duration_ms': 270918,\n",
       "   'time_signature': 4}],\n",
       " [{'danceability': 0.435,\n",
       "   'energy': 0.76,\n",
       "   'key': 8,\n",
       "   'loudness': -4.935,\n",
       "   'mode': 0,\n",
       "   'speechiness': 0.0721,\n",
       "   'acousticness': 0.0175,\n",
       "   'instrumentalness': 0,\n",
       "   'liveness': 0.158,\n",
       "   'valence': 0.206,\n",
       "   'tempo': 80.082,\n",
       "   'type': 'audio_features',\n",
       "   'id': '1UGD3lW3tDmgZfAVDh6w7r',\n",
       "   'uri': 'spotify:track:1UGD3lW3tDmgZfAVDh6w7r',\n",
       "   'track_href': 'https://api.spotify.com/v1/tracks/1UGD3lW3tDmgZfAVDh6w7r',\n",
       "   'analysis_url': 'https://api.spotify.com/v1/audio-analysis/1UGD3lW3tDmgZfAVDh6w7r',\n",
       "   'duration_ms': 351947,\n",
       "   'time_signature': 4}],\n",
       " [{'danceability': 0.431,\n",
       "   'energy': 0.414,\n",
       "   'key': 2,\n",
       "   'loudness': -10.311,\n",
       "   'mode': 1,\n",
       "   'speechiness': 0.0296,\n",
       "   'acousticness': 0.287,\n",
       "   'instrumentalness': 0.095,\n",
       "   'liveness': 0.109,\n",
       "   'valence': 0.0436,\n",
       "   'tempo': 113.87,\n",
       "   'type': 'audio_features',\n",
       "   'id': '0hpDqky5jV8MQqdvMWFv7K',\n",
       "   'uri': 'spotify:track:0hpDqky5jV8MQqdvMWFv7K',\n",
       "   'track_href': 'https://api.spotify.com/v1/tracks/0hpDqky5jV8MQqdvMWFv7K',\n",
       "   'analysis_url': 'https://api.spotify.com/v1/audio-analysis/0hpDqky5jV8MQqdvMWFv7K',\n",
       "   'duration_ms': 553213,\n",
       "   'time_signature': 4}],\n",
       " [{'danceability': 0.615,\n",
       "   'energy': 0.931,\n",
       "   'key': 3,\n",
       "   'loudness': -7.8,\n",
       "   'mode': 1,\n",
       "   'speechiness': 0.273,\n",
       "   'acousticness': 0.0352,\n",
       "   'instrumentalness': 2.23e-05,\n",
       "   'liveness': 0.0915,\n",
       "   'valence': 0.525,\n",
       "   'tempo': 137.544,\n",
       "   'type': 'audio_features',\n",
       "   'id': '1W5XugQJGhnSATMI5n002M',\n",
       "   'uri': 'spotify:track:1W5XugQJGhnSATMI5n002M',\n",
       "   'track_href': 'https://api.spotify.com/v1/tracks/1W5XugQJGhnSATMI5n002M',\n",
       "   'analysis_url': 'https://api.spotify.com/v1/audio-analysis/1W5XugQJGhnSATMI5n002M',\n",
       "   'duration_ms': 309093,\n",
       "   'time_signature': 3}],\n",
       " [{'danceability': 0.39,\n",
       "   'energy': 0.128,\n",
       "   'key': 2,\n",
       "   'loudness': -15.872,\n",
       "   'mode': 1,\n",
       "   'speechiness': 0.0518,\n",
       "   'acousticness': 0.928,\n",
       "   'instrumentalness': 0.00227,\n",
       "   'liveness': 0.271,\n",
       "   'valence': 0.172,\n",
       "   'tempo': 103.057,\n",
       "   'type': 'audio_features',\n",
       "   'id': '7jJH5jAOUvR0FxkbYBmAQA',\n",
       "   'uri': 'spotify:track:7jJH5jAOUvR0FxkbYBmAQA',\n",
       "   'track_href': 'https://api.spotify.com/v1/tracks/7jJH5jAOUvR0FxkbYBmAQA',\n",
       "   'analysis_url': 'https://api.spotify.com/v1/audio-analysis/7jJH5jAOUvR0FxkbYBmAQA',\n",
       "   'duration_ms': 186120,\n",
       "   'time_signature': 3}],\n",
       " [{'danceability': 0.617,\n",
       "   'energy': 0.778,\n",
       "   'key': 9,\n",
       "   'loudness': -8.872,\n",
       "   'mode': 0,\n",
       "   'speechiness': 0.027,\n",
       "   'acousticness': 0.459,\n",
       "   'instrumentalness': 0.925,\n",
       "   'liveness': 0.128,\n",
       "   'valence': 0.152,\n",
       "   'tempo': 100.363,\n",
       "   'type': 'audio_features',\n",
       "   'id': '5VfEuwErhx6X4eaPbyBfyu',\n",
       "   'uri': 'spotify:track:5VfEuwErhx6X4eaPbyBfyu',\n",
       "   'track_href': 'https://api.spotify.com/v1/tracks/5VfEuwErhx6X4eaPbyBfyu',\n",
       "   'analysis_url': 'https://api.spotify.com/v1/audio-analysis/5VfEuwErhx6X4eaPbyBfyu',\n",
       "   'duration_ms': 127920,\n",
       "   'time_signature': 4}],\n",
       " [{'danceability': 0.772,\n",
       "   'energy': 0.542,\n",
       "   'key': 9,\n",
       "   'loudness': -9.855,\n",
       "   'mode': 1,\n",
       "   'speechiness': 0.0926,\n",
       "   'acousticness': 0.69,\n",
       "   'instrumentalness': 0,\n",
       "   'liveness': 0.21,\n",
       "   'valence': 0.323,\n",
       "   'tempo': 125.321,\n",
       "   'type': 'audio_features',\n",
       "   'id': '1TXydwDv0VSV92ijrUNBfN',\n",
       "   'uri': 'spotify:track:1TXydwDv0VSV92ijrUNBfN',\n",
       "   'track_href': 'https://api.spotify.com/v1/tracks/1TXydwDv0VSV92ijrUNBfN',\n",
       "   'analysis_url': 'https://api.spotify.com/v1/audio-analysis/1TXydwDv0VSV92ijrUNBfN',\n",
       "   'duration_ms': 139600,\n",
       "   'time_signature': 4}],\n",
       " [{'danceability': 0.667,\n",
       "   'energy': 0.532,\n",
       "   'key': 2,\n",
       "   'loudness': -11.288,\n",
       "   'mode': 1,\n",
       "   'speechiness': 0.18,\n",
       "   'acousticness': 0.456,\n",
       "   'instrumentalness': 0.0122,\n",
       "   'liveness': 0.12,\n",
       "   'valence': 0.882,\n",
       "   'tempo': 86.576,\n",
       "   'type': 'audio_features',\n",
       "   'id': '3YBfHJTZPHn5DqgMnD6g5g',\n",
       "   'uri': 'spotify:track:3YBfHJTZPHn5DqgMnD6g5g',\n",
       "   'track_href': 'https://api.spotify.com/v1/tracks/3YBfHJTZPHn5DqgMnD6g5g',\n",
       "   'analysis_url': 'https://api.spotify.com/v1/audio-analysis/3YBfHJTZPHn5DqgMnD6g5g',\n",
       "   'duration_ms': 90000,\n",
       "   'time_signature': 4}],\n",
       " [{'danceability': 0.2,\n",
       "   'energy': 0.405,\n",
       "   'key': 7,\n",
       "   'loudness': -8.625,\n",
       "   'mode': 1,\n",
       "   'speechiness': 0.0395,\n",
       "   'acousticness': 0.66,\n",
       "   'instrumentalness': 0.277,\n",
       "   'liveness': 0.142,\n",
       "   'valence': 0.073,\n",
       "   'tempo': 181.164,\n",
       "   'type': 'audio_features',\n",
       "   'id': '0pemQSbjPQbJllCNTlsmBu',\n",
       "   'uri': 'spotify:track:0pemQSbjPQbJllCNTlsmBu',\n",
       "   'track_href': 'https://api.spotify.com/v1/tracks/0pemQSbjPQbJllCNTlsmBu',\n",
       "   'analysis_url': 'https://api.spotify.com/v1/audio-analysis/0pemQSbjPQbJllCNTlsmBu',\n",
       "   'duration_ms': 804133,\n",
       "   'time_signature': 3}],\n",
       " [{'danceability': 0.377,\n",
       "   'energy': 0.506,\n",
       "   'key': 11,\n",
       "   'loudness': -4.773,\n",
       "   'mode': 0,\n",
       "   'speechiness': 0.157,\n",
       "   'acousticness': 0.00889,\n",
       "   'instrumentalness': 1.15e-06,\n",
       "   'liveness': 0.482,\n",
       "   'valence': 0.787,\n",
       "   'tempo': 145.254,\n",
       "   'type': 'audio_features',\n",
       "   'id': '2LQb3iYBzoxbxct2IexjBc',\n",
       "   'uri': 'spotify:track:2LQb3iYBzoxbxct2IexjBc',\n",
       "   'track_href': 'https://api.spotify.com/v1/tracks/2LQb3iYBzoxbxct2IexjBc',\n",
       "   'analysis_url': 'https://api.spotify.com/v1/audio-analysis/2LQb3iYBzoxbxct2IexjBc',\n",
       "   'duration_ms': 141000,\n",
       "   'time_signature': 4}],\n",
       " [{'danceability': 0.669,\n",
       "   'energy': 0.613,\n",
       "   'key': 4,\n",
       "   'loudness': -11.12,\n",
       "   'mode': 0,\n",
       "   'speechiness': 0.036,\n",
       "   'acousticness': 0.487,\n",
       "   'instrumentalness': 0.176,\n",
       "   'liveness': 0.132,\n",
       "   'valence': 0.566,\n",
       "   'tempo': 110.668,\n",
       "   'type': 'audio_features',\n",
       "   'id': '2nilAlGEZmwyaLTMMyDdLo',\n",
       "   'uri': 'spotify:track:2nilAlGEZmwyaLTMMyDdLo',\n",
       "   'track_href': 'https://api.spotify.com/v1/tracks/2nilAlGEZmwyaLTMMyDdLo',\n",
       "   'analysis_url': 'https://api.spotify.com/v1/audio-analysis/2nilAlGEZmwyaLTMMyDdLo',\n",
       "   'duration_ms': 220720,\n",
       "   'time_signature': 4}],\n",
       " [{'danceability': 0.639,\n",
       "   'energy': 0.26,\n",
       "   'key': 2,\n",
       "   'loudness': -16.312,\n",
       "   'mode': 1,\n",
       "   'speechiness': 0.474,\n",
       "   'acousticness': 0.91,\n",
       "   'instrumentalness': 0,\n",
       "   'liveness': 0.13,\n",
       "   'valence': 0.695,\n",
       "   'tempo': 140.72,\n",
       "   'type': 'audio_features',\n",
       "   'id': '7pK5EVdEv4OlPUsWL3TxD1',\n",
       "   'uri': 'spotify:track:7pK5EVdEv4OlPUsWL3TxD1',\n",
       "   'track_href': 'https://api.spotify.com/v1/tracks/7pK5EVdEv4OlPUsWL3TxD1',\n",
       "   'analysis_url': 'https://api.spotify.com/v1/audio-analysis/7pK5EVdEv4OlPUsWL3TxD1',\n",
       "   'duration_ms': 138087,\n",
       "   'time_signature': 4}],\n",
       " [{'danceability': 0.407,\n",
       "   'energy': 0.967,\n",
       "   'key': 0,\n",
       "   'loudness': -7.104,\n",
       "   'mode': 1,\n",
       "   'speechiness': 0.0666,\n",
       "   'acousticness': 0.000316,\n",
       "   'instrumentalness': 0.00142,\n",
       "   'liveness': 0.089,\n",
       "   'valence': 0.227,\n",
       "   'tempo': 180.027,\n",
       "   'type': 'audio_features',\n",
       "   'id': '63aGgWIoGfl3wxykzje8eJ',\n",
       "   'uri': 'spotify:track:63aGgWIoGfl3wxykzje8eJ',\n",
       "   'track_href': 'https://api.spotify.com/v1/tracks/63aGgWIoGfl3wxykzje8eJ',\n",
       "   'analysis_url': 'https://api.spotify.com/v1/audio-analysis/63aGgWIoGfl3wxykzje8eJ',\n",
       "   'duration_ms': 203373,\n",
       "   'time_signature': 4}],\n",
       " [{'danceability': 0.566,\n",
       "   'energy': 0.647,\n",
       "   'key': 1,\n",
       "   'loudness': -6.815,\n",
       "   'mode': 0,\n",
       "   'speechiness': 0.0335,\n",
       "   'acousticness': 0.0477,\n",
       "   'instrumentalness': 0,\n",
       "   'liveness': 0.121,\n",
       "   'valence': 0.22,\n",
       "   'tempo': 111.96,\n",
       "   'type': 'audio_features',\n",
       "   'id': '1Ist6PR2BZR3n2z2Y5R6S1',\n",
       "   'uri': 'spotify:track:1Ist6PR2BZR3n2z2Y5R6S1',\n",
       "   'track_href': 'https://api.spotify.com/v1/tracks/1Ist6PR2BZR3n2z2Y5R6S1',\n",
       "   'analysis_url': 'https://api.spotify.com/v1/audio-analysis/1Ist6PR2BZR3n2z2Y5R6S1',\n",
       "   'duration_ms': 264773,\n",
       "   'time_signature': 4}],\n",
       " [{'danceability': 0.451,\n",
       "   'energy': 0.149,\n",
       "   'key': 7,\n",
       "   'loudness': -14.99,\n",
       "   'mode': 1,\n",
       "   'speechiness': 0.0378,\n",
       "   'acousticness': 0.987,\n",
       "   'instrumentalness': 0.301,\n",
       "   'liveness': 0.165,\n",
       "   'valence': 0.389,\n",
       "   'tempo': 131.074,\n",
       "   'type': 'audio_features',\n",
       "   'id': '2BjRhZ2IJmsO1GRquNldsP',\n",
       "   'uri': 'spotify:track:2BjRhZ2IJmsO1GRquNldsP',\n",
       "   'track_href': 'https://api.spotify.com/v1/tracks/2BjRhZ2IJmsO1GRquNldsP',\n",
       "   'analysis_url': 'https://api.spotify.com/v1/audio-analysis/2BjRhZ2IJmsO1GRquNldsP',\n",
       "   'duration_ms': 128987,\n",
       "   'time_signature': 4}],\n",
       " [{'danceability': 0.361,\n",
       "   'energy': 0.551,\n",
       "   'key': 2,\n",
       "   'loudness': -16.49,\n",
       "   'mode': 1,\n",
       "   'speechiness': 0.0345,\n",
       "   'acousticness': 0.561,\n",
       "   'instrumentalness': 0.974,\n",
       "   'liveness': 0.376,\n",
       "   'valence': 0.238,\n",
       "   'tempo': 95.92,\n",
       "   'type': 'audio_features',\n",
       "   'id': '4g8Hx6Jg0Qf0t0VGl60pT0',\n",
       "   'uri': 'spotify:track:4g8Hx6Jg0Qf0t0VGl60pT0',\n",
       "   'track_href': 'https://api.spotify.com/v1/tracks/4g8Hx6Jg0Qf0t0VGl60pT0',\n",
       "   'analysis_url': 'https://api.spotify.com/v1/audio-analysis/4g8Hx6Jg0Qf0t0VGl60pT0',\n",
       "   'duration_ms': 306093,\n",
       "   'time_signature': 4}],\n",
       " [{'danceability': 0.439,\n",
       "   'energy': 0.422,\n",
       "   'key': 8,\n",
       "   'loudness': -17.227,\n",
       "   'mode': 1,\n",
       "   'speechiness': 0.0409,\n",
       "   'acousticness': 0.0148,\n",
       "   'instrumentalness': 4.84e-05,\n",
       "   'liveness': 0.0697,\n",
       "   'valence': 0.551,\n",
       "   'tempo': 81.833,\n",
       "   'type': 'audio_features',\n",
       "   'id': '7G7tgVYORlDuVprcYHuFJh',\n",
       "   'uri': 'spotify:track:7G7tgVYORlDuVprcYHuFJh',\n",
       "   'track_href': 'https://api.spotify.com/v1/tracks/7G7tgVYORlDuVprcYHuFJh',\n",
       "   'analysis_url': 'https://api.spotify.com/v1/audio-analysis/7G7tgVYORlDuVprcYHuFJh',\n",
       "   'duration_ms': 236933,\n",
       "   'time_signature': 4}],\n",
       " [{'danceability': 0.167,\n",
       "   'energy': 0.302,\n",
       "   'key': 6,\n",
       "   'loudness': -11.644,\n",
       "   'mode': 0,\n",
       "   'speechiness': 0.0345,\n",
       "   'acousticness': 0.316,\n",
       "   'instrumentalness': 0.797,\n",
       "   'liveness': 0.11,\n",
       "   'valence': 0.19,\n",
       "   'tempo': 102.026,\n",
       "   'type': 'audio_features',\n",
       "   'id': '2rtGaCAeYtmcIvuZsvgTf6',\n",
       "   'uri': 'spotify:track:2rtGaCAeYtmcIvuZsvgTf6',\n",
       "   'track_href': 'https://api.spotify.com/v1/tracks/2rtGaCAeYtmcIvuZsvgTf6',\n",
       "   'analysis_url': 'https://api.spotify.com/v1/audio-analysis/2rtGaCAeYtmcIvuZsvgTf6',\n",
       "   'duration_ms': 356333,\n",
       "   'time_signature': 4}],\n",
       " [{'danceability': 0.282,\n",
       "   'energy': 0.738,\n",
       "   'key': 0,\n",
       "   'loudness': -5.566,\n",
       "   'mode': 1,\n",
       "   'speechiness': 0.0324,\n",
       "   'acousticness': 0.0647,\n",
       "   'instrumentalness': 0.0142,\n",
       "   'liveness': 0.29,\n",
       "   'valence': 0.211,\n",
       "   'tempo': 126.914,\n",
       "   'type': 'audio_features',\n",
       "   'id': '0WZZJ0mDKIkLfL0710ssZt',\n",
       "   'uri': 'spotify:track:0WZZJ0mDKIkLfL0710ssZt',\n",
       "   'track_href': 'https://api.spotify.com/v1/tracks/0WZZJ0mDKIkLfL0710ssZt',\n",
       "   'analysis_url': 'https://api.spotify.com/v1/audio-analysis/0WZZJ0mDKIkLfL0710ssZt',\n",
       "   'duration_ms': 288333,\n",
       "   'time_signature': 4}],\n",
       " [{'danceability': 0.459,\n",
       "   'energy': 0.864,\n",
       "   'key': 1,\n",
       "   'loudness': -2.163,\n",
       "   'mode': 1,\n",
       "   'speechiness': 0.263,\n",
       "   'acousticness': 0.171,\n",
       "   'instrumentalness': 2.95e-06,\n",
       "   'liveness': 0.683,\n",
       "   'valence': 0.703,\n",
       "   'tempo': 106.175,\n",
       "   'type': 'audio_features',\n",
       "   'id': '1mAEQbdq0dZQWfujWG6rCd',\n",
       "   'uri': 'spotify:track:1mAEQbdq0dZQWfujWG6rCd',\n",
       "   'track_href': 'https://api.spotify.com/v1/tracks/1mAEQbdq0dZQWfujWG6rCd',\n",
       "   'analysis_url': 'https://api.spotify.com/v1/audio-analysis/1mAEQbdq0dZQWfujWG6rCd',\n",
       "   'duration_ms': 85840,\n",
       "   'time_signature': 4}],\n",
       " [{'danceability': 0.645,\n",
       "   'energy': 0.792,\n",
       "   'key': 4,\n",
       "   'loudness': -7.34,\n",
       "   'mode': 0,\n",
       "   'speechiness': 0.036,\n",
       "   'acousticness': 0.0562,\n",
       "   'instrumentalness': 0.0121,\n",
       "   'liveness': 0.119,\n",
       "   'valence': 0.666,\n",
       "   'tempo': 90.565,\n",
       "   'type': 'audio_features',\n",
       "   'id': '7nnWIPM5hwE3DaUBkvOIpy',\n",
       "   'uri': 'spotify:track:7nnWIPM5hwE3DaUBkvOIpy',\n",
       "   'track_href': 'https://api.spotify.com/v1/tracks/7nnWIPM5hwE3DaUBkvOIpy',\n",
       "   'analysis_url': 'https://api.spotify.com/v1/audio-analysis/7nnWIPM5hwE3DaUBkvOIpy',\n",
       "   'duration_ms': 232453,\n",
       "   'time_signature': 4}],\n",
       " [{'danceability': 0.814,\n",
       "   'energy': 0.606,\n",
       "   'key': 1,\n",
       "   'loudness': -6.378,\n",
       "   'mode': 1,\n",
       "   'speechiness': 0.243,\n",
       "   'acousticness': 0.0166,\n",
       "   'instrumentalness': 0,\n",
       "   'liveness': 0.125,\n",
       "   'valence': 0.208,\n",
       "   'tempo': 150.005,\n",
       "   'type': 'audio_features',\n",
       "   'id': '1h6w4POXM2LfG4ZD4xUfZQ',\n",
       "   'uri': 'spotify:track:1h6w4POXM2LfG4ZD4xUfZQ',\n",
       "   'track_href': 'https://api.spotify.com/v1/tracks/1h6w4POXM2LfG4ZD4xUfZQ',\n",
       "   'analysis_url': 'https://api.spotify.com/v1/audio-analysis/1h6w4POXM2LfG4ZD4xUfZQ',\n",
       "   'duration_ms': 204800,\n",
       "   'time_signature': 4}],\n",
       " [{'danceability': 0.586,\n",
       "   'energy': 0.525,\n",
       "   'key': 1,\n",
       "   'loudness': -7.163,\n",
       "   'mode': 0,\n",
       "   'speechiness': 0.0615,\n",
       "   'acousticness': 0.111,\n",
       "   'instrumentalness': 0,\n",
       "   'liveness': 0.134,\n",
       "   'valence': 0.508,\n",
       "   'tempo': 133.629,\n",
       "   'type': 'audio_features',\n",
       "   'id': '2LBqCSwhJGcFQeTHMVGwy3',\n",
       "   'uri': 'spotify:track:2LBqCSwhJGcFQeTHMVGwy3',\n",
       "   'track_href': 'https://api.spotify.com/v1/tracks/2LBqCSwhJGcFQeTHMVGwy3',\n",
       "   'analysis_url': 'https://api.spotify.com/v1/audio-analysis/2LBqCSwhJGcFQeTHMVGwy3',\n",
       "   'duration_ms': 260253,\n",
       "   'time_signature': 4}],\n",
       " [{'danceability': 0.674,\n",
       "   'energy': 0.58,\n",
       "   'key': 8,\n",
       "   'loudness': -4.866,\n",
       "   'mode': 1,\n",
       "   'speechiness': 0.0311,\n",
       "   'acousticness': 0.0609,\n",
       "   'instrumentalness': 0,\n",
       "   'liveness': 0.159,\n",
       "   'valence': 0.0759,\n",
       "   'tempo': 121.987,\n",
       "   'type': 'audio_features',\n",
       "   'id': '3i6sCTU7ENlnHpHvrHUitW',\n",
       "   'uri': 'spotify:track:3i6sCTU7ENlnHpHvrHUitW',\n",
       "   'track_href': 'https://api.spotify.com/v1/tracks/3i6sCTU7ENlnHpHvrHUitW',\n",
       "   'analysis_url': 'https://api.spotify.com/v1/audio-analysis/3i6sCTU7ENlnHpHvrHUitW',\n",
       "   'duration_ms': 259672,\n",
       "   'time_signature': 4}],\n",
       " [{'danceability': 0.587,\n",
       "   'energy': 0.386,\n",
       "   'key': 6,\n",
       "   'loudness': -13.385,\n",
       "   'mode': 1,\n",
       "   'speechiness': 0.0611,\n",
       "   'acousticness': 0.447,\n",
       "   'instrumentalness': 5.45e-05,\n",
       "   'liveness': 0.388,\n",
       "   'valence': 0.613,\n",
       "   'tempo': 129.774,\n",
       "   'type': 'audio_features',\n",
       "   'id': '4UMNkcouzvSn4Bm3YAxQEb',\n",
       "   'uri': 'spotify:track:4UMNkcouzvSn4Bm3YAxQEb',\n",
       "   'track_href': 'https://api.spotify.com/v1/tracks/4UMNkcouzvSn4Bm3YAxQEb',\n",
       "   'analysis_url': 'https://api.spotify.com/v1/audio-analysis/4UMNkcouzvSn4Bm3YAxQEb',\n",
       "   'duration_ms': 321400,\n",
       "   'time_signature': 4}],\n",
       " [{'danceability': 0.448,\n",
       "   'energy': 0.143,\n",
       "   'key': 11,\n",
       "   'loudness': -17.012,\n",
       "   'mode': 1,\n",
       "   'speechiness': 0.0328,\n",
       "   'acousticness': 0.929,\n",
       "   'instrumentalness': 0.0356,\n",
       "   'liveness': 0.109,\n",
       "   'valence': 0.0873,\n",
       "   'tempo': 132.829,\n",
       "   'type': 'audio_features',\n",
       "   'id': '0bhBtXHQX3u6dSAPF59qGx',\n",
       "   'uri': 'spotify:track:0bhBtXHQX3u6dSAPF59qGx',\n",
       "   'track_href': 'https://api.spotify.com/v1/tracks/0bhBtXHQX3u6dSAPF59qGx',\n",
       "   'analysis_url': 'https://api.spotify.com/v1/audio-analysis/0bhBtXHQX3u6dSAPF59qGx',\n",
       "   'duration_ms': 219000,\n",
       "   'time_signature': 4}],\n",
       " [{'danceability': 0.801,\n",
       "   'energy': 0.601,\n",
       "   'key': 8,\n",
       "   'loudness': -7.574,\n",
       "   'mode': 0,\n",
       "   'speechiness': 0.255,\n",
       "   'acousticness': 0.0777,\n",
       "   'instrumentalness': 3.23e-05,\n",
       "   'liveness': 0.145,\n",
       "   'valence': 0.74,\n",
       "   'tempo': 159.969,\n",
       "   'type': 'audio_features',\n",
       "   'id': '0hquQWY3xvYqN4qtiquniF',\n",
       "   'uri': 'spotify:track:0hquQWY3xvYqN4qtiquniF',\n",
       "   'track_href': 'https://api.spotify.com/v1/tracks/0hquQWY3xvYqN4qtiquniF',\n",
       "   'analysis_url': 'https://api.spotify.com/v1/audio-analysis/0hquQWY3xvYqN4qtiquniF',\n",
       "   'duration_ms': 182907,\n",
       "   'time_signature': 4}],\n",
       " [{'danceability': 0.374,\n",
       "   'energy': 0.568,\n",
       "   'key': 1,\n",
       "   'loudness': -3.825,\n",
       "   'mode': 0,\n",
       "   'speechiness': 0.109,\n",
       "   'acousticness': 0.219,\n",
       "   'instrumentalness': 0.00219,\n",
       "   'liveness': 0.513,\n",
       "   'valence': 0.111,\n",
       "   'tempo': 84.733,\n",
       "   'type': 'audio_features',\n",
       "   'id': '3DK6m7It6Pw857FcQftMds',\n",
       "   'uri': 'spotify:track:3DK6m7It6Pw857FcQftMds',\n",
       "   'track_href': 'https://api.spotify.com/v1/tracks/3DK6m7It6Pw857FcQftMds',\n",
       "   'analysis_url': 'https://api.spotify.com/v1/audio-analysis/3DK6m7It6Pw857FcQftMds',\n",
       "   'duration_ms': 547733,\n",
       "   'time_signature': 4}],\n",
       " [{'danceability': 0.633,\n",
       "   'energy': 0.395,\n",
       "   'key': 8,\n",
       "   'loudness': -9.638,\n",
       "   'mode': 1,\n",
       "   'speechiness': 0.0857,\n",
       "   'acousticness': 0.692,\n",
       "   'instrumentalness': 0.000222,\n",
       "   'liveness': 0.108,\n",
       "   'valence': 0.123,\n",
       "   'tempo': 138.023,\n",
       "   'type': 'audio_features',\n",
       "   'id': '19YKaevk2bce4odJkP5L22',\n",
       "   'uri': 'spotify:track:19YKaevk2bce4odJkP5L22',\n",
       "   'track_href': 'https://api.spotify.com/v1/tracks/19YKaevk2bce4odJkP5L22',\n",
       "   'analysis_url': 'https://api.spotify.com/v1/audio-analysis/19YKaevk2bce4odJkP5L22',\n",
       "   'duration_ms': 314075,\n",
       "   'time_signature': 4}],\n",
       " [{'danceability': 0.94,\n",
       "   'energy': 0.208,\n",
       "   'key': 9,\n",
       "   'loudness': -15.237,\n",
       "   'mode': 0,\n",
       "   'speechiness': 0.0851,\n",
       "   'acousticness': 0.209,\n",
       "   'instrumentalness': 0.0832,\n",
       "   'liveness': 0.105,\n",
       "   'valence': 0.149,\n",
       "   'tempo': 115.873,\n",
       "   'type': 'audio_features',\n",
       "   'id': '5jPLxdGG7KKX9rM3xrm6Dd',\n",
       "   'uri': 'spotify:track:5jPLxdGG7KKX9rM3xrm6Dd',\n",
       "   'track_href': 'https://api.spotify.com/v1/tracks/5jPLxdGG7KKX9rM3xrm6Dd',\n",
       "   'analysis_url': 'https://api.spotify.com/v1/audio-analysis/5jPLxdGG7KKX9rM3xrm6Dd',\n",
       "   'duration_ms': 188120,\n",
       "   'time_signature': 4}],\n",
       " [{'danceability': 0.587,\n",
       "   'energy': 0.358,\n",
       "   'key': 2,\n",
       "   'loudness': -9.194,\n",
       "   'mode': 1,\n",
       "   'speechiness': 0.0276,\n",
       "   'acousticness': 0.219,\n",
       "   'instrumentalness': 0.00201,\n",
       "   'liveness': 0.192,\n",
       "   'valence': 0.368,\n",
       "   'tempo': 96.685,\n",
       "   'type': 'audio_features',\n",
       "   'id': '0Ppd0oDauQpaQgNvpHzq24',\n",
       "   'uri': 'spotify:track:0Ppd0oDauQpaQgNvpHzq24',\n",
       "   'track_href': 'https://api.spotify.com/v1/tracks/0Ppd0oDauQpaQgNvpHzq24',\n",
       "   'analysis_url': 'https://api.spotify.com/v1/audio-analysis/0Ppd0oDauQpaQgNvpHzq24',\n",
       "   'duration_ms': 297907,\n",
       "   'time_signature': 3}],\n",
       " [{'danceability': 0.405,\n",
       "   'energy': 0.552,\n",
       "   'key': 9,\n",
       "   'loudness': -7.37,\n",
       "   'mode': 1,\n",
       "   'speechiness': 0.0355,\n",
       "   'acousticness': 0.23,\n",
       "   'instrumentalness': 0,\n",
       "   'liveness': 0.283,\n",
       "   'valence': 0.078,\n",
       "   'tempo': 114.897,\n",
       "   'type': 'audio_features',\n",
       "   'id': '7CZpXWKCBO2xaZzcUTlfOL',\n",
       "   'uri': 'spotify:track:7CZpXWKCBO2xaZzcUTlfOL',\n",
       "   'track_href': 'https://api.spotify.com/v1/tracks/7CZpXWKCBO2xaZzcUTlfOL',\n",
       "   'analysis_url': 'https://api.spotify.com/v1/audio-analysis/7CZpXWKCBO2xaZzcUTlfOL',\n",
       "   'duration_ms': 416987,\n",
       "   'time_signature': 4}],\n",
       " [{'danceability': 0.4,\n",
       "   'energy': 0.82,\n",
       "   'key': 11,\n",
       "   'loudness': -12.281,\n",
       "   'mode': 1,\n",
       "   'speechiness': 0.0466,\n",
       "   'acousticness': 0.000295,\n",
       "   'instrumentalness': 0.79,\n",
       "   'liveness': 0.236,\n",
       "   'valence': 0.135,\n",
       "   'tempo': 128.894,\n",
       "   'type': 'audio_features',\n",
       "   'id': '3HfEgAaf0koxBpBB8NvGda',\n",
       "   'uri': 'spotify:track:3HfEgAaf0koxBpBB8NvGda',\n",
       "   'track_href': 'https://api.spotify.com/v1/tracks/3HfEgAaf0koxBpBB8NvGda',\n",
       "   'analysis_url': 'https://api.spotify.com/v1/audio-analysis/3HfEgAaf0koxBpBB8NvGda',\n",
       "   'duration_ms': 251933,\n",
       "   'time_signature': 4}],\n",
       " [{'danceability': 0.592,\n",
       "   'energy': 0.263,\n",
       "   'key': 4,\n",
       "   'loudness': -14.029,\n",
       "   'mode': 0,\n",
       "   'speechiness': 0.0568,\n",
       "   'acousticness': 0.845,\n",
       "   'instrumentalness': 5.68e-06,\n",
       "   'liveness': 0.127,\n",
       "   'valence': 0.109,\n",
       "   'tempo': 76.366,\n",
       "   'type': 'audio_features',\n",
       "   'id': '3B3eOgLJSqPEA0RfboIQVM',\n",
       "   'uri': 'spotify:track:3B3eOgLJSqPEA0RfboIQVM',\n",
       "   'track_href': 'https://api.spotify.com/v1/tracks/3B3eOgLJSqPEA0RfboIQVM',\n",
       "   'analysis_url': 'https://api.spotify.com/v1/audio-analysis/3B3eOgLJSqPEA0RfboIQVM',\n",
       "   'duration_ms': 238520,\n",
       "   'time_signature': 4}],\n",
       " [{'danceability': 0.214,\n",
       "   'energy': 0.786,\n",
       "   'key': 11,\n",
       "   'loudness': -5.701,\n",
       "   'mode': 1,\n",
       "   'speechiness': 0.0587,\n",
       "   'acousticness': 0.255,\n",
       "   'instrumentalness': 0.704,\n",
       "   'liveness': 0.128,\n",
       "   'valence': 0.104,\n",
       "   'tempo': 136.568,\n",
       "   'type': 'audio_features',\n",
       "   'id': '07Be2TgmYSlJzI4aIA3m3n',\n",
       "   'uri': 'spotify:track:07Be2TgmYSlJzI4aIA3m3n',\n",
       "   'track_href': 'https://api.spotify.com/v1/tracks/07Be2TgmYSlJzI4aIA3m3n',\n",
       "   'analysis_url': 'https://api.spotify.com/v1/audio-analysis/07Be2TgmYSlJzI4aIA3m3n',\n",
       "   'duration_ms': 323133,\n",
       "   'time_signature': 4}],\n",
       " [{'danceability': 0.545,\n",
       "   'energy': 0.545,\n",
       "   'key': 9,\n",
       "   'loudness': -7.362,\n",
       "   'mode': 1,\n",
       "   'speechiness': 0.107,\n",
       "   'acousticness': 0.667,\n",
       "   'instrumentalness': 5.48e-05,\n",
       "   'liveness': 0.417,\n",
       "   'valence': 0.549,\n",
       "   'tempo': 159.94,\n",
       "   'type': 'audio_features',\n",
       "   'id': '3xKsf9qdS1CyvXSMEid6g8',\n",
       "   'uri': 'spotify:track:3xKsf9qdS1CyvXSMEid6g8',\n",
       "   'track_href': 'https://api.spotify.com/v1/tracks/3xKsf9qdS1CyvXSMEid6g8',\n",
       "   'analysis_url': 'https://api.spotify.com/v1/audio-analysis/3xKsf9qdS1CyvXSMEid6g8',\n",
       "   'duration_ms': 184516,\n",
       "   'time_signature': 3}],\n",
       " [{'danceability': 0.657,\n",
       "   'energy': 0.733,\n",
       "   'key': 11,\n",
       "   'loudness': -5.395,\n",
       "   'mode': 0,\n",
       "   'speechiness': 0.0264,\n",
       "   'acousticness': 0.302,\n",
       "   'instrumentalness': 0.158,\n",
       "   'liveness': 0.254,\n",
       "   'valence': 0.263,\n",
       "   'tempo': 88.496,\n",
       "   'type': 'audio_features',\n",
       "   'id': '72ccSGl5YcEWm0vhtVpi25',\n",
       "   'uri': 'spotify:track:72ccSGl5YcEWm0vhtVpi25',\n",
       "   'track_href': 'https://api.spotify.com/v1/tracks/72ccSGl5YcEWm0vhtVpi25',\n",
       "   'analysis_url': 'https://api.spotify.com/v1/audio-analysis/72ccSGl5YcEWm0vhtVpi25',\n",
       "   'duration_ms': 318267,\n",
       "   'time_signature': 4}],\n",
       " [{'danceability': 0.535,\n",
       "   'energy': 0.821,\n",
       "   'key': 5,\n",
       "   'loudness': -9.493,\n",
       "   'mode': 1,\n",
       "   'speechiness': 0.0442,\n",
       "   'acousticness': 0.464,\n",
       "   'instrumentalness': 0.965,\n",
       "   'liveness': 0.392,\n",
       "   'valence': 0.259,\n",
       "   'tempo': 90.005,\n",
       "   'type': 'audio_features',\n",
       "   'id': '70RJ8ZttRmTieexbqtrRRf',\n",
       "   'uri': 'spotify:track:70RJ8ZttRmTieexbqtrRRf',\n",
       "   'track_href': 'https://api.spotify.com/v1/tracks/70RJ8ZttRmTieexbqtrRRf',\n",
       "   'analysis_url': 'https://api.spotify.com/v1/audio-analysis/70RJ8ZttRmTieexbqtrRRf',\n",
       "   'duration_ms': 245373,\n",
       "   'time_signature': 4}],\n",
       " [{'danceability': 0.331,\n",
       "   'energy': 0.471,\n",
       "   'key': 2,\n",
       "   'loudness': -5.631,\n",
       "   'mode': 1,\n",
       "   'speechiness': 0.0299,\n",
       "   'acousticness': 0.00644,\n",
       "   'instrumentalness': 0,\n",
       "   'liveness': 0.0653,\n",
       "   'valence': 0.142,\n",
       "   'tempo': 90.057,\n",
       "   'type': 'audio_features',\n",
       "   'id': '6ZaiqbV2GfUtrUlhsu58fN',\n",
       "   'uri': 'spotify:track:6ZaiqbV2GfUtrUlhsu58fN',\n",
       "   'track_href': 'https://api.spotify.com/v1/tracks/6ZaiqbV2GfUtrUlhsu58fN',\n",
       "   'analysis_url': 'https://api.spotify.com/v1/audio-analysis/6ZaiqbV2GfUtrUlhsu58fN',\n",
       "   'duration_ms': 230186,\n",
       "   'time_signature': 4}],\n",
       " [{'danceability': 0.652,\n",
       "   'energy': 0.392,\n",
       "   'key': 5,\n",
       "   'loudness': -12.603,\n",
       "   'mode': 0,\n",
       "   'speechiness': 0.0381,\n",
       "   'acousticness': 0.857,\n",
       "   'instrumentalness': 0.926,\n",
       "   'liveness': 0.0817,\n",
       "   'valence': 0.407,\n",
       "   'tempo': 76.03,\n",
       "   'type': 'audio_features',\n",
       "   'id': '7HTnBZgjsp1T9uF286kQ7o',\n",
       "   'uri': 'spotify:track:7HTnBZgjsp1T9uF286kQ7o',\n",
       "   'track_href': 'https://api.spotify.com/v1/tracks/7HTnBZgjsp1T9uF286kQ7o',\n",
       "   'analysis_url': 'https://api.spotify.com/v1/audio-analysis/7HTnBZgjsp1T9uF286kQ7o',\n",
       "   'duration_ms': 231040,\n",
       "   'time_signature': 4}],\n",
       " [{'danceability': 0.647,\n",
       "   'energy': 0.31,\n",
       "   'key': 4,\n",
       "   'loudness': -10.237,\n",
       "   'mode': 1,\n",
       "   'speechiness': 0.0372,\n",
       "   'acousticness': 0.705,\n",
       "   'instrumentalness': 0.000723,\n",
       "   'liveness': 0.1,\n",
       "   'valence': 0.189,\n",
       "   'tempo': 103.974,\n",
       "   'type': 'audio_features',\n",
       "   'id': '6AY1M1akbsVaQN3ATVyzH7',\n",
       "   'uri': 'spotify:track:6AY1M1akbsVaQN3ATVyzH7',\n",
       "   'track_href': 'https://api.spotify.com/v1/tracks/6AY1M1akbsVaQN3ATVyzH7',\n",
       "   'analysis_url': 'https://api.spotify.com/v1/audio-analysis/6AY1M1akbsVaQN3ATVyzH7',\n",
       "   'duration_ms': 237973,\n",
       "   'time_signature': 4}],\n",
       " [{'danceability': 0.815,\n",
       "   'energy': 0.762,\n",
       "   'key': 2,\n",
       "   'loudness': -5.045,\n",
       "   'mode': 1,\n",
       "   'speechiness': 0.219,\n",
       "   'acousticness': 0.00821,\n",
       "   'instrumentalness': 0,\n",
       "   'liveness': 0.337,\n",
       "   'valence': 0.317,\n",
       "   'tempo': 140.092,\n",
       "   'type': 'audio_features',\n",
       "   'id': '03rcC8SVxCa9UdY5qgkITe',\n",
       "   'uri': 'spotify:track:03rcC8SVxCa9UdY5qgkITe',\n",
       "   'track_href': 'https://api.spotify.com/v1/tracks/03rcC8SVxCa9UdY5qgkITe',\n",
       "   'analysis_url': 'https://api.spotify.com/v1/audio-analysis/03rcC8SVxCa9UdY5qgkITe',\n",
       "   'duration_ms': 130306,\n",
       "   'time_signature': 4}],\n",
       " [{'danceability': 0.559,\n",
       "   'energy': 0.814,\n",
       "   'key': 4,\n",
       "   'loudness': -3.157,\n",
       "   'mode': 0,\n",
       "   'speechiness': 0.0544,\n",
       "   'acousticness': 0.217,\n",
       "   'instrumentalness': 2.29e-05,\n",
       "   'liveness': 0.0968,\n",
       "   'valence': 0.164,\n",
       "   'tempo': 143.851,\n",
       "   'type': 'audio_features',\n",
       "   'id': '53Y6CfiSLbZyHpY9Cm39WM',\n",
       "   'uri': 'spotify:track:53Y6CfiSLbZyHpY9Cm39WM',\n",
       "   'track_href': 'https://api.spotify.com/v1/tracks/53Y6CfiSLbZyHpY9Cm39WM',\n",
       "   'analysis_url': 'https://api.spotify.com/v1/audio-analysis/53Y6CfiSLbZyHpY9Cm39WM',\n",
       "   'duration_ms': 324907,\n",
       "   'time_signature': 4}],\n",
       " [{'danceability': 0.501,\n",
       "   'energy': 0.0958,\n",
       "   'key': 0,\n",
       "   'loudness': -15.605,\n",
       "   'mode': 1,\n",
       "   'speechiness': 0.0433,\n",
       "   'acousticness': 0.77,\n",
       "   'instrumentalness': 0,\n",
       "   'liveness': 0.298,\n",
       "   'valence': 0.204,\n",
       "   'tempo': 108.741,\n",
       "   'type': 'audio_features',\n",
       "   'id': '2LMkwUfqC6S6s6qDVlEuzV',\n",
       "   'uri': 'spotify:track:2LMkwUfqC6S6s6qDVlEuzV',\n",
       "   'track_href': 'https://api.spotify.com/v1/tracks/2LMkwUfqC6S6s6qDVlEuzV',\n",
       "   'analysis_url': 'https://api.spotify.com/v1/audio-analysis/2LMkwUfqC6S6s6qDVlEuzV',\n",
       "   'duration_ms': 248808,\n",
       "   'time_signature': 4}],\n",
       " [{'danceability': 0.324,\n",
       "   'energy': 0.163,\n",
       "   'key': 9,\n",
       "   'loudness': -13.909,\n",
       "   'mode': 0,\n",
       "   'speechiness': 0.0416,\n",
       "   'acousticness': 0.974,\n",
       "   'instrumentalness': 0.844,\n",
       "   'liveness': 0.0892,\n",
       "   'valence': 0.0852,\n",
       "   'tempo': 139.814,\n",
       "   'type': 'audio_features',\n",
       "   'id': '453spNn4mGdYErYt3rGhSX',\n",
       "   'uri': 'spotify:track:453spNn4mGdYErYt3rGhSX',\n",
       "   'track_href': 'https://api.spotify.com/v1/tracks/453spNn4mGdYErYt3rGhSX',\n",
       "   'analysis_url': 'https://api.spotify.com/v1/audio-analysis/453spNn4mGdYErYt3rGhSX',\n",
       "   'duration_ms': 311240,\n",
       "   'time_signature': 4}],\n",
       " [{'danceability': 0.134,\n",
       "   'energy': 0.969,\n",
       "   'key': 10,\n",
       "   'loudness': -19.432,\n",
       "   'mode': 0,\n",
       "   'speechiness': 0.0725,\n",
       "   'acousticness': 0.177,\n",
       "   'instrumentalness': 0.963,\n",
       "   'liveness': 0.606,\n",
       "   'valence': 1e-05,\n",
       "   'tempo': 95.294,\n",
       "   'type': 'audio_features',\n",
       "   'id': '595y6mnfwmHJHH4KjvQ90o',\n",
       "   'uri': 'spotify:track:595y6mnfwmHJHH4KjvQ90o',\n",
       "   'track_href': 'https://api.spotify.com/v1/tracks/595y6mnfwmHJHH4KjvQ90o',\n",
       "   'analysis_url': 'https://api.spotify.com/v1/audio-analysis/595y6mnfwmHJHH4KjvQ90o',\n",
       "   'duration_ms': 142663,\n",
       "   'time_signature': 4}],\n",
       " [{'danceability': 0.508,\n",
       "   'energy': 0.792,\n",
       "   'key': 0,\n",
       "   'loudness': -7.311,\n",
       "   'mode': 0,\n",
       "   'speechiness': 0.0297,\n",
       "   'acousticness': 0.229,\n",
       "   'instrumentalness': 0.124,\n",
       "   'liveness': 0.145,\n",
       "   'valence': 0.601,\n",
       "   'tempo': 147.067,\n",
       "   'type': 'audio_features',\n",
       "   'id': '7H0ya83CMmgFcOhw0UB6ow',\n",
       "   'uri': 'spotify:track:7H0ya83CMmgFcOhw0UB6ow',\n",
       "   'track_href': 'https://api.spotify.com/v1/tracks/7H0ya83CMmgFcOhw0UB6ow',\n",
       "   'analysis_url': 'https://api.spotify.com/v1/audio-analysis/7H0ya83CMmgFcOhw0UB6ow',\n",
       "   'duration_ms': 320467,\n",
       "   'time_signature': 4}],\n",
       " [{'danceability': 0.853,\n",
       "   'energy': 0.495,\n",
       "   'key': 6,\n",
       "   'loudness': -14.63,\n",
       "   'mode': 1,\n",
       "   'speechiness': 0.14,\n",
       "   'acousticness': 0.0917,\n",
       "   'instrumentalness': 0.000217,\n",
       "   'liveness': 0.0844,\n",
       "   'valence': 0.0774,\n",
       "   'tempo': 137.027,\n",
       "   'type': 'audio_features',\n",
       "   'id': '4rmVZajAF7PkrCagGPHbqa',\n",
       "   'uri': 'spotify:track:4rmVZajAF7PkrCagGPHbqa',\n",
       "   'track_href': 'https://api.spotify.com/v1/tracks/4rmVZajAF7PkrCagGPHbqa',\n",
       "   'analysis_url': 'https://api.spotify.com/v1/audio-analysis/4rmVZajAF7PkrCagGPHbqa',\n",
       "   'duration_ms': 243228,\n",
       "   'time_signature': 4}],\n",
       " [{'danceability': 0.453,\n",
       "   'energy': 0.227,\n",
       "   'key': 5,\n",
       "   'loudness': -12.418,\n",
       "   'mode': 0,\n",
       "   'speechiness': 0.0285,\n",
       "   'acousticness': 0.712,\n",
       "   'instrumentalness': 0.468,\n",
       "   'liveness': 0.108,\n",
       "   'valence': 0.161,\n",
       "   'tempo': 125.984,\n",
       "   'type': 'audio_features',\n",
       "   'id': '4SjEdGI6Otmo5DRxAXKS9o',\n",
       "   'uri': 'spotify:track:4SjEdGI6Otmo5DRxAXKS9o',\n",
       "   'track_href': 'https://api.spotify.com/v1/tracks/4SjEdGI6Otmo5DRxAXKS9o',\n",
       "   'analysis_url': 'https://api.spotify.com/v1/audio-analysis/4SjEdGI6Otmo5DRxAXKS9o',\n",
       "   'duration_ms': 285147,\n",
       "   'time_signature': 4}],\n",
       " [{'danceability': 0.168,\n",
       "   'energy': 0.244,\n",
       "   'key': 0,\n",
       "   'loudness': -22.251,\n",
       "   'mode': 1,\n",
       "   'speechiness': 0.0412,\n",
       "   'acousticness': 0.95,\n",
       "   'instrumentalness': 0.986,\n",
       "   'liveness': 0.613,\n",
       "   'valence': 0.101,\n",
       "   'tempo': 55.904,\n",
       "   'type': 'audio_features',\n",
       "   'id': '0s7SSZ4zSjgRkhVw67SyZV',\n",
       "   'uri': 'spotify:track:0s7SSZ4zSjgRkhVw67SyZV',\n",
       "   'track_href': 'https://api.spotify.com/v1/tracks/0s7SSZ4zSjgRkhVw67SyZV',\n",
       "   'analysis_url': 'https://api.spotify.com/v1/audio-analysis/0s7SSZ4zSjgRkhVw67SyZV',\n",
       "   'duration_ms': 114678,\n",
       "   'time_signature': 4}],\n",
       " [{'danceability': 0.352,\n",
       "   'energy': 0.34,\n",
       "   'key': 9,\n",
       "   'loudness': -6.66,\n",
       "   'mode': 0,\n",
       "   'speechiness': 0.0319,\n",
       "   'acousticness': 0.833,\n",
       "   'instrumentalness': 4.08e-05,\n",
       "   'liveness': 0.159,\n",
       "   'valence': 0.0749,\n",
       "   'tempo': 69.791,\n",
       "   'type': 'audio_features',\n",
       "   'id': '6DTFmTnazxFGo6SdwSICwv',\n",
       "   'uri': 'spotify:track:6DTFmTnazxFGo6SdwSICwv',\n",
       "   'track_href': 'https://api.spotify.com/v1/tracks/6DTFmTnazxFGo6SdwSICwv',\n",
       "   'analysis_url': 'https://api.spotify.com/v1/audio-analysis/6DTFmTnazxFGo6SdwSICwv',\n",
       "   'duration_ms': 173773,\n",
       "   'time_signature': 3}],\n",
       " [{'danceability': 0.143,\n",
       "   'energy': 0.0722,\n",
       "   'key': 7,\n",
       "   'loudness': -20.454,\n",
       "   'mode': 1,\n",
       "   'speechiness': 0.0405,\n",
       "   'acousticness': 0.926,\n",
       "   'instrumentalness': 0.787,\n",
       "   'liveness': 0.111,\n",
       "   'valence': 0.105,\n",
       "   'tempo': 69.929,\n",
       "   'type': 'audio_features',\n",
       "   'id': '0K4HD4meXy662mfS8Og0NU',\n",
       "   'uri': 'spotify:track:0K4HD4meXy662mfS8Og0NU',\n",
       "   'track_href': 'https://api.spotify.com/v1/tracks/0K4HD4meXy662mfS8Og0NU',\n",
       "   'analysis_url': 'https://api.spotify.com/v1/audio-analysis/0K4HD4meXy662mfS8Og0NU',\n",
       "   'duration_ms': 167187,\n",
       "   'time_signature': 4}],\n",
       " [{'danceability': 0.678,\n",
       "   'energy': 0.933,\n",
       "   'key': 2,\n",
       "   'loudness': -4.959,\n",
       "   'mode': 1,\n",
       "   'speechiness': 0.14,\n",
       "   'acousticness': 0.0734,\n",
       "   'instrumentalness': 0,\n",
       "   'liveness': 0.0863,\n",
       "   'valence': 0.336,\n",
       "   'tempo': 120.572,\n",
       "   'type': 'audio_features',\n",
       "   'id': '6AzCBeiDuUXGXjznBufswB',\n",
       "   'uri': 'spotify:track:6AzCBeiDuUXGXjznBufswB',\n",
       "   'track_href': 'https://api.spotify.com/v1/tracks/6AzCBeiDuUXGXjznBufswB',\n",
       "   'analysis_url': 'https://api.spotify.com/v1/audio-analysis/6AzCBeiDuUXGXjznBufswB',\n",
       "   'duration_ms': 214720,\n",
       "   'time_signature': 4}],\n",
       " [{'danceability': 0.487,\n",
       "   'energy': 0.509,\n",
       "   'key': 2,\n",
       "   'loudness': -6.935,\n",
       "   'mode': 1,\n",
       "   'speechiness': 0.0294,\n",
       "   'acousticness': 0.15,\n",
       "   'instrumentalness': 4.45e-06,\n",
       "   'liveness': 0.0857,\n",
       "   'valence': 0.181,\n",
       "   'tempo': 77.985,\n",
       "   'type': 'audio_features',\n",
       "   'id': '4Eda1y3heYypvl4KRcJcKs',\n",
       "   'uri': 'spotify:track:4Eda1y3heYypvl4KRcJcKs',\n",
       "   'track_href': 'https://api.spotify.com/v1/tracks/4Eda1y3heYypvl4KRcJcKs',\n",
       "   'analysis_url': 'https://api.spotify.com/v1/audio-analysis/4Eda1y3heYypvl4KRcJcKs',\n",
       "   'duration_ms': 297920,\n",
       "   'time_signature': 4}],\n",
       " [{'danceability': 0.477,\n",
       "   'energy': 0.321,\n",
       "   'key': 9,\n",
       "   'loudness': -17.715,\n",
       "   'mode': 1,\n",
       "   'speechiness': 0.129,\n",
       "   'acousticness': 0.941,\n",
       "   'instrumentalness': 0.364,\n",
       "   'liveness': 0.133,\n",
       "   'valence': 0.394,\n",
       "   'tempo': 144.582,\n",
       "   'type': 'audio_features',\n",
       "   'id': '6MpKc6ceAd2fAMEpkLxkiF',\n",
       "   'uri': 'spotify:track:6MpKc6ceAd2fAMEpkLxkiF',\n",
       "   'track_href': 'https://api.spotify.com/v1/tracks/6MpKc6ceAd2fAMEpkLxkiF',\n",
       "   'analysis_url': 'https://api.spotify.com/v1/audio-analysis/6MpKc6ceAd2fAMEpkLxkiF',\n",
       "   'duration_ms': 201067,\n",
       "   'time_signature': 4}],\n",
       " [{'danceability': 0.62,\n",
       "   'energy': 0.869,\n",
       "   'key': 6,\n",
       "   'loudness': -5.479,\n",
       "   'mode': 1,\n",
       "   'speechiness': 0.0462,\n",
       "   'acousticness': 0.615,\n",
       "   'instrumentalness': 0,\n",
       "   'liveness': 0.131,\n",
       "   'valence': 0.597,\n",
       "   'tempo': 126.019,\n",
       "   'type': 'audio_features',\n",
       "   'id': '5OELUCYgOHKFAvCERnAvfS',\n",
       "   'uri': 'spotify:track:5OELUCYgOHKFAvCERnAvfS',\n",
       "   'track_href': 'https://api.spotify.com/v1/tracks/5OELUCYgOHKFAvCERnAvfS',\n",
       "   'analysis_url': 'https://api.spotify.com/v1/audio-analysis/5OELUCYgOHKFAvCERnAvfS',\n",
       "   'duration_ms': 216573,\n",
       "   'time_signature': 4}],\n",
       " [{'danceability': 0.517,\n",
       "   'energy': 0.206,\n",
       "   'key': 5,\n",
       "   'loudness': -12.233,\n",
       "   'mode': 1,\n",
       "   'speechiness': 0.0421,\n",
       "   'acousticness': 0.924,\n",
       "   'instrumentalness': 0,\n",
       "   'liveness': 0.118,\n",
       "   'valence': 0.489,\n",
       "   'tempo': 80.401,\n",
       "   'type': 'audio_features',\n",
       "   'id': '3kZC0ZmFWrEHdUCmUqlvgZ',\n",
       "   'uri': 'spotify:track:3kZC0ZmFWrEHdUCmUqlvgZ',\n",
       "   'track_href': 'https://api.spotify.com/v1/tracks/3kZC0ZmFWrEHdUCmUqlvgZ',\n",
       "   'analysis_url': 'https://api.spotify.com/v1/audio-analysis/3kZC0ZmFWrEHdUCmUqlvgZ',\n",
       "   'duration_ms': 189187,\n",
       "   'time_signature': 4}],\n",
       " [{'danceability': 0.69,\n",
       "   'energy': 0.578,\n",
       "   'key': 6,\n",
       "   'loudness': -7.436,\n",
       "   'mode': 1,\n",
       "   'speechiness': 0.0929,\n",
       "   'acousticness': 0.167,\n",
       "   'instrumentalness': 0,\n",
       "   'liveness': 0.305,\n",
       "   'valence': 0.416,\n",
       "   'tempo': 99.961,\n",
       "   'type': 'audio_features',\n",
       "   'id': '3G6hD9B2ZHOsgf4WfNu7X1',\n",
       "   'uri': 'spotify:track:3G6hD9B2ZHOsgf4WfNu7X1',\n",
       "   'track_href': 'https://api.spotify.com/v1/tracks/3G6hD9B2ZHOsgf4WfNu7X1',\n",
       "   'analysis_url': 'https://api.spotify.com/v1/audio-analysis/3G6hD9B2ZHOsgf4WfNu7X1',\n",
       "   'duration_ms': 193059,\n",
       "   'time_signature': 4}],\n",
       " [{'danceability': 0.61,\n",
       "   'energy': 0.76,\n",
       "   'key': 0,\n",
       "   'loudness': -7.028,\n",
       "   'mode': 1,\n",
       "   'speechiness': 0.0582,\n",
       "   'acousticness': 0.0411,\n",
       "   'instrumentalness': 0.00975,\n",
       "   'liveness': 0.12,\n",
       "   'valence': 0.458,\n",
       "   'tempo': 129.93,\n",
       "   'type': 'audio_features',\n",
       "   'id': '4iWbvTeormWby3QX0nO85q',\n",
       "   'uri': 'spotify:track:4iWbvTeormWby3QX0nO85q',\n",
       "   'track_href': 'https://api.spotify.com/v1/tracks/4iWbvTeormWby3QX0nO85q',\n",
       "   'analysis_url': 'https://api.spotify.com/v1/audio-analysis/4iWbvTeormWby3QX0nO85q',\n",
       "   'duration_ms': 229000,\n",
       "   'time_signature': 4}],\n",
       " [{'danceability': 0.775,\n",
       "   'energy': 0.298,\n",
       "   'key': 9,\n",
       "   'loudness': -9.351,\n",
       "   'mode': 1,\n",
       "   'speechiness': 0.0517,\n",
       "   'acousticness': 0.211,\n",
       "   'instrumentalness': 0.000233,\n",
       "   'liveness': 0.132,\n",
       "   'valence': 0.0472,\n",
       "   'tempo': 120.091,\n",
       "   'type': 'audio_features',\n",
       "   'id': '0AAMnNeIc6CdnfNU85GwCH',\n",
       "   'uri': 'spotify:track:0AAMnNeIc6CdnfNU85GwCH',\n",
       "   'track_href': 'https://api.spotify.com/v1/tracks/0AAMnNeIc6CdnfNU85GwCH',\n",
       "   'analysis_url': 'https://api.spotify.com/v1/audio-analysis/0AAMnNeIc6CdnfNU85GwCH',\n",
       "   'duration_ms': 189467,\n",
       "   'time_signature': 4}],\n",
       " [{'danceability': 0.557,\n",
       "   'energy': 0.863,\n",
       "   'key': 0,\n",
       "   'loudness': -5.321,\n",
       "   'mode': 0,\n",
       "   'speechiness': 0.0391,\n",
       "   'acousticness': 0.104,\n",
       "   'instrumentalness': 0,\n",
       "   'liveness': 0.697,\n",
       "   'valence': 0.373,\n",
       "   'tempo': 105.362,\n",
       "   'type': 'audio_features',\n",
       "   'id': '3A0cAzFKPefBCz7Z02UnnO',\n",
       "   'uri': 'spotify:track:3A0cAzFKPefBCz7Z02UnnO',\n",
       "   'track_href': 'https://api.spotify.com/v1/tracks/3A0cAzFKPefBCz7Z02UnnO',\n",
       "   'analysis_url': 'https://api.spotify.com/v1/audio-analysis/3A0cAzFKPefBCz7Z02UnnO',\n",
       "   'duration_ms': 187587,\n",
       "   'time_signature': 4}],\n",
       " [{'danceability': 0.632,\n",
       "   'energy': 0.655,\n",
       "   'key': 0,\n",
       "   'loudness': -7.042,\n",
       "   'mode': 1,\n",
       "   'speechiness': 0.0444,\n",
       "   'acousticness': 0.266,\n",
       "   'instrumentalness': 0.189,\n",
       "   'liveness': 0.106,\n",
       "   'valence': 0.168,\n",
       "   'tempo': 121.558,\n",
       "   'type': 'audio_features',\n",
       "   'id': '40F3i6gKdUibqjyZdW1o4D',\n",
       "   'uri': 'spotify:track:40F3i6gKdUibqjyZdW1o4D',\n",
       "   'track_href': 'https://api.spotify.com/v1/tracks/40F3i6gKdUibqjyZdW1o4D',\n",
       "   'analysis_url': 'https://api.spotify.com/v1/audio-analysis/40F3i6gKdUibqjyZdW1o4D',\n",
       "   'duration_ms': 413133,\n",
       "   'time_signature': 4}],\n",
       " [{'danceability': 0.705,\n",
       "   'energy': 0.636,\n",
       "   'key': 6,\n",
       "   'loudness': -5.734,\n",
       "   'mode': 1,\n",
       "   'speechiness': 0.0274,\n",
       "   'acousticness': 0.00784,\n",
       "   'instrumentalness': 9.16e-05,\n",
       "   'liveness': 0.221,\n",
       "   'valence': 0.63,\n",
       "   'tempo': 112.025,\n",
       "   'type': 'audio_features',\n",
       "   'id': '5DAkzBJ48N7z6lwY4eZ0PP',\n",
       "   'uri': 'spotify:track:5DAkzBJ48N7z6lwY4eZ0PP',\n",
       "   'track_href': 'https://api.spotify.com/v1/tracks/5DAkzBJ48N7z6lwY4eZ0PP',\n",
       "   'analysis_url': 'https://api.spotify.com/v1/audio-analysis/5DAkzBJ48N7z6lwY4eZ0PP',\n",
       "   'duration_ms': 204440,\n",
       "   'time_signature': 4}],\n",
       " [{'danceability': 0.677,\n",
       "   'energy': 0.776,\n",
       "   'key': 5,\n",
       "   'loudness': -5.933,\n",
       "   'mode': 1,\n",
       "   'speechiness': 0.0386,\n",
       "   'acousticness': 0.42,\n",
       "   'instrumentalness': 0.000689,\n",
       "   'liveness': 0.0954,\n",
       "   'valence': 0.642,\n",
       "   'tempo': 121.834,\n",
       "   'type': 'audio_features',\n",
       "   'id': '2p07VcUwRZ5sru3mJ0JogS',\n",
       "   'uri': 'spotify:track:2p07VcUwRZ5sru3mJ0JogS',\n",
       "   'track_href': 'https://api.spotify.com/v1/tracks/2p07VcUwRZ5sru3mJ0JogS',\n",
       "   'analysis_url': 'https://api.spotify.com/v1/audio-analysis/2p07VcUwRZ5sru3mJ0JogS',\n",
       "   'duration_ms': 192800,\n",
       "   'time_signature': 4}],\n",
       " [{'danceability': 0.545,\n",
       "   'energy': 0.545,\n",
       "   'key': 9,\n",
       "   'loudness': -7.362,\n",
       "   'mode': 1,\n",
       "   'speechiness': 0.107,\n",
       "   'acousticness': 0.667,\n",
       "   'instrumentalness': 5.48e-05,\n",
       "   'liveness': 0.417,\n",
       "   'valence': 0.549,\n",
       "   'tempo': 159.94,\n",
       "   'type': 'audio_features',\n",
       "   'id': '3xKsf9qdS1CyvXSMEid6g8',\n",
       "   'uri': 'spotify:track:3xKsf9qdS1CyvXSMEid6g8',\n",
       "   'track_href': 'https://api.spotify.com/v1/tracks/3xKsf9qdS1CyvXSMEid6g8',\n",
       "   'analysis_url': 'https://api.spotify.com/v1/audio-analysis/3xKsf9qdS1CyvXSMEid6g8',\n",
       "   'duration_ms': 184516,\n",
       "   'time_signature': 3}],\n",
       " [{'danceability': 0.376,\n",
       "   'energy': 0.41,\n",
       "   'key': 2,\n",
       "   'loudness': -11.452,\n",
       "   'mode': 1,\n",
       "   'speechiness': 0.034,\n",
       "   'acousticness': 0.753,\n",
       "   'instrumentalness': 0.000543,\n",
       "   'liveness': 0.234,\n",
       "   'valence': 0.171,\n",
       "   'tempo': 100.031,\n",
       "   'type': 'audio_features',\n",
       "   'id': '0fOjUafaAhJV16oRBgCtz7',\n",
       "   'uri': 'spotify:track:0fOjUafaAhJV16oRBgCtz7',\n",
       "   'track_href': 'https://api.spotify.com/v1/tracks/0fOjUafaAhJV16oRBgCtz7',\n",
       "   'analysis_url': 'https://api.spotify.com/v1/audio-analysis/0fOjUafaAhJV16oRBgCtz7',\n",
       "   'duration_ms': 234053,\n",
       "   'time_signature': 3}],\n",
       " [{'danceability': 0.628,\n",
       "   'energy': 0.967,\n",
       "   'key': 8,\n",
       "   'loudness': -3.35,\n",
       "   'mode': 1,\n",
       "   'speechiness': 0.063,\n",
       "   'acousticness': 0.000747,\n",
       "   'instrumentalness': 0,\n",
       "   'liveness': 0.0187,\n",
       "   'valence': 0.906,\n",
       "   'tempo': 120.015,\n",
       "   'type': 'audio_features',\n",
       "   'id': '427OHPoIWqO3SsFw77EkDf',\n",
       "   'uri': 'spotify:track:427OHPoIWqO3SsFw77EkDf',\n",
       "   'track_href': 'https://api.spotify.com/v1/tracks/427OHPoIWqO3SsFw77EkDf',\n",
       "   'analysis_url': 'https://api.spotify.com/v1/audio-analysis/427OHPoIWqO3SsFw77EkDf',\n",
       "   'duration_ms': 166000,\n",
       "   'time_signature': 4}],\n",
       " [{'danceability': 0.489,\n",
       "   'energy': 0.539,\n",
       "   'key': 4,\n",
       "   'loudness': -9.885,\n",
       "   'mode': 0,\n",
       "   'speechiness': 0.0407,\n",
       "   'acousticness': 0.354,\n",
       "   'instrumentalness': 0.000118,\n",
       "   'liveness': 0.122,\n",
       "   'valence': 0.12,\n",
       "   'tempo': 145.917,\n",
       "   'type': 'audio_features',\n",
       "   'id': '1Oq9PmXtk8PVjbHzrwM79v',\n",
       "   'uri': 'spotify:track:1Oq9PmXtk8PVjbHzrwM79v',\n",
       "   'track_href': 'https://api.spotify.com/v1/tracks/1Oq9PmXtk8PVjbHzrwM79v',\n",
       "   'analysis_url': 'https://api.spotify.com/v1/audio-analysis/1Oq9PmXtk8PVjbHzrwM79v',\n",
       "   'duration_ms': 242829,\n",
       "   'time_signature': 4}],\n",
       " [{'danceability': 0.638,\n",
       "   'energy': 0.538,\n",
       "   'key': 10,\n",
       "   'loudness': -8.445,\n",
       "   'mode': 1,\n",
       "   'speechiness': 0.0315,\n",
       "   'acousticness': 0.452,\n",
       "   'instrumentalness': 0.000415,\n",
       "   'liveness': 0.0695,\n",
       "   'valence': 0.318,\n",
       "   'tempo': 89.124,\n",
       "   'type': 'audio_features',\n",
       "   'id': '3K07bGe8iljQ3mOKArHLDo',\n",
       "   'uri': 'spotify:track:3K07bGe8iljQ3mOKArHLDo',\n",
       "   'track_href': 'https://api.spotify.com/v1/tracks/3K07bGe8iljQ3mOKArHLDo',\n",
       "   'analysis_url': 'https://api.spotify.com/v1/audio-analysis/3K07bGe8iljQ3mOKArHLDo',\n",
       "   'duration_ms': 240413,\n",
       "   'time_signature': 4}],\n",
       " [{'danceability': 0.374,\n",
       "   'energy': 0.942,\n",
       "   'key': 10,\n",
       "   'loudness': -5.191,\n",
       "   'mode': 1,\n",
       "   'speechiness': 0.0336,\n",
       "   'acousticness': 0.0265,\n",
       "   'instrumentalness': 0.978,\n",
       "   'liveness': 0.361,\n",
       "   'valence': 0.567,\n",
       "   'tempo': 148.0,\n",
       "   'type': 'audio_features',\n",
       "   'id': '2qvOC1CRBtwOcl2dlcOCM1',\n",
       "   'uri': 'spotify:track:2qvOC1CRBtwOcl2dlcOCM1',\n",
       "   'track_href': 'https://api.spotify.com/v1/tracks/2qvOC1CRBtwOcl2dlcOCM1',\n",
       "   'analysis_url': 'https://api.spotify.com/v1/audio-analysis/2qvOC1CRBtwOcl2dlcOCM1',\n",
       "   'duration_ms': 310874,\n",
       "   'time_signature': 4}],\n",
       " [{'danceability': 0.575,\n",
       "   'energy': 0.386,\n",
       "   'key': 9,\n",
       "   'loudness': -9.584,\n",
       "   'mode': 0,\n",
       "   'speechiness': 0.037,\n",
       "   'acousticness': 0.785,\n",
       "   'instrumentalness': 0.000289,\n",
       "   'liveness': 0.229,\n",
       "   'valence': 0.466,\n",
       "   'tempo': 116.408,\n",
       "   'type': 'audio_features',\n",
       "   'id': '2ZWlPOoWh0626oTaHrnl2a',\n",
       "   'uri': 'spotify:track:2ZWlPOoWh0626oTaHrnl2a',\n",
       "   'track_href': 'https://api.spotify.com/v1/tracks/2ZWlPOoWh0626oTaHrnl2a',\n",
       "   'analysis_url': 'https://api.spotify.com/v1/audio-analysis/2ZWlPOoWh0626oTaHrnl2a',\n",
       "   'duration_ms': 249191,\n",
       "   'time_signature': 4}],\n",
       " [{'danceability': 0.502,\n",
       "   'energy': 0.724,\n",
       "   'key': 0,\n",
       "   'loudness': -6.334,\n",
       "   'mode': 1,\n",
       "   'speechiness': 0.0302,\n",
       "   'acousticness': 0.795,\n",
       "   'instrumentalness': 0.822,\n",
       "   'liveness': 0.113,\n",
       "   'valence': 0.698,\n",
       "   'tempo': 81.442,\n",
       "   'type': 'audio_features',\n",
       "   'id': '3D6eU1flnKl9zr9TamgRbY',\n",
       "   'uri': 'spotify:track:3D6eU1flnKl9zr9TamgRbY',\n",
       "   'track_href': 'https://api.spotify.com/v1/tracks/3D6eU1flnKl9zr9TamgRbY',\n",
       "   'analysis_url': 'https://api.spotify.com/v1/audio-analysis/3D6eU1flnKl9zr9TamgRbY',\n",
       "   'duration_ms': 269907,\n",
       "   'time_signature': 4}],\n",
       " [{'danceability': 0.671,\n",
       "   'energy': 0.736,\n",
       "   'key': 8,\n",
       "   'loudness': -6.705,\n",
       "   'mode': 1,\n",
       "   'speechiness': 0.0344,\n",
       "   'acousticness': 0.0547,\n",
       "   'instrumentalness': 0.00381,\n",
       "   'liveness': 0.111,\n",
       "   'valence': 0.89,\n",
       "   'tempo': 141.967,\n",
       "   'type': 'audio_features',\n",
       "   'id': '4JvFNFTjEtZyEzh8w0YzHF',\n",
       "   'uri': 'spotify:track:4JvFNFTjEtZyEzh8w0YzHF',\n",
       "   'track_href': 'https://api.spotify.com/v1/tracks/4JvFNFTjEtZyEzh8w0YzHF',\n",
       "   'analysis_url': 'https://api.spotify.com/v1/audio-analysis/4JvFNFTjEtZyEzh8w0YzHF',\n",
       "   'duration_ms': 246707,\n",
       "   'time_signature': 4}],\n",
       " [{'danceability': 0.371,\n",
       "   'energy': 0.953,\n",
       "   'key': 5,\n",
       "   'loudness': -6.173,\n",
       "   'mode': 1,\n",
       "   'speechiness': 0.0552,\n",
       "   'acousticness': 5.63e-06,\n",
       "   'instrumentalness': 0.226,\n",
       "   'liveness': 0.175,\n",
       "   'valence': 0.339,\n",
       "   'tempo': 139.948,\n",
       "   'type': 'audio_features',\n",
       "   'id': '5UjTFfCq02lcgAYVLaTaLC',\n",
       "   'uri': 'spotify:track:5UjTFfCq02lcgAYVLaTaLC',\n",
       "   'track_href': 'https://api.spotify.com/v1/tracks/5UjTFfCq02lcgAYVLaTaLC',\n",
       "   'analysis_url': 'https://api.spotify.com/v1/audio-analysis/5UjTFfCq02lcgAYVLaTaLC',\n",
       "   'duration_ms': 189800,\n",
       "   'time_signature': 4}],\n",
       " [{'danceability': 0.377,\n",
       "   'energy': 0.253,\n",
       "   'key': 4,\n",
       "   'loudness': -11.155,\n",
       "   'mode': 0,\n",
       "   'speechiness': 0.0387,\n",
       "   'acousticness': 0.975,\n",
       "   'instrumentalness': 0.000259,\n",
       "   'liveness': 0.101,\n",
       "   'valence': 0.367,\n",
       "   'tempo': 125.403,\n",
       "   'type': 'audio_features',\n",
       "   'id': '1BViPjTT585XAhkUUrkts0',\n",
       "   'uri': 'spotify:track:1BViPjTT585XAhkUUrkts0',\n",
       "   'track_href': 'https://api.spotify.com/v1/tracks/1BViPjTT585XAhkUUrkts0',\n",
       "   'analysis_url': 'https://api.spotify.com/v1/audio-analysis/1BViPjTT585XAhkUUrkts0',\n",
       "   'duration_ms': 334570,\n",
       "   'time_signature': 3}],\n",
       " [{'danceability': 0.509,\n",
       "   'energy': 0.542,\n",
       "   'key': 3,\n",
       "   'loudness': -8.027,\n",
       "   'mode': 0,\n",
       "   'speechiness': 0.442,\n",
       "   'acousticness': 0.019,\n",
       "   'instrumentalness': 0.00639,\n",
       "   'liveness': 0.23,\n",
       "   'valence': 0.151,\n",
       "   'tempo': 97.767,\n",
       "   'type': 'audio_features',\n",
       "   'id': '4aOOExMBUyxKnEYb39SrTg',\n",
       "   'uri': 'spotify:track:4aOOExMBUyxKnEYb39SrTg',\n",
       "   'track_href': 'https://api.spotify.com/v1/tracks/4aOOExMBUyxKnEYb39SrTg',\n",
       "   'analysis_url': 'https://api.spotify.com/v1/audio-analysis/4aOOExMBUyxKnEYb39SrTg',\n",
       "   'duration_ms': 78681,\n",
       "   'time_signature': 4}],\n",
       " [{'danceability': 0.585,\n",
       "   'energy': 0.717,\n",
       "   'key': 11,\n",
       "   'loudness': -8.379,\n",
       "   'mode': 0,\n",
       "   'speechiness': 0.0311,\n",
       "   'acousticness': 0.0561,\n",
       "   'instrumentalness': 0.0148,\n",
       "   'liveness': 0.366,\n",
       "   'valence': 0.636,\n",
       "   'tempo': 111.563,\n",
       "   'type': 'audio_features',\n",
       "   'id': '7uMZy0bALAdneerERyr7Ks',\n",
       "   'uri': 'spotify:track:7uMZy0bALAdneerERyr7Ks',\n",
       "   'track_href': 'https://api.spotify.com/v1/tracks/7uMZy0bALAdneerERyr7Ks',\n",
       "   'analysis_url': 'https://api.spotify.com/v1/audio-analysis/7uMZy0bALAdneerERyr7Ks',\n",
       "   'duration_ms': 450984,\n",
       "   'time_signature': 4}],\n",
       " [{'danceability': 0.466,\n",
       "   'energy': 0.165,\n",
       "   'key': 5,\n",
       "   'loudness': -16.0,\n",
       "   'mode': 1,\n",
       "   'speechiness': 0.0483,\n",
       "   'acousticness': 0.774,\n",
       "   'instrumentalness': 4.68e-05,\n",
       "   'liveness': 0.0888,\n",
       "   'valence': 0.0969,\n",
       "   'tempo': 115.957,\n",
       "   'type': 'audio_features',\n",
       "   'id': '3TO6wG55HdfwC8zfOaXAlJ',\n",
       "   'uri': 'spotify:track:3TO6wG55HdfwC8zfOaXAlJ',\n",
       "   'track_href': 'https://api.spotify.com/v1/tracks/3TO6wG55HdfwC8zfOaXAlJ',\n",
       "   'analysis_url': 'https://api.spotify.com/v1/audio-analysis/3TO6wG55HdfwC8zfOaXAlJ',\n",
       "   'duration_ms': 322040,\n",
       "   'time_signature': 3}],\n",
       " [{'danceability': 0.583,\n",
       "   'energy': 0.676,\n",
       "   'key': 6,\n",
       "   'loudness': -4.44,\n",
       "   'mode': 1,\n",
       "   'speechiness': 0.0298,\n",
       "   'acousticness': 0.0289,\n",
       "   'instrumentalness': 0.0634,\n",
       "   'liveness': 0.121,\n",
       "   'valence': 0.134,\n",
       "   'tempo': 77.002,\n",
       "   'type': 'audio_features',\n",
       "   'id': '6dpLxbF7lfCAnC9QRTjNLK',\n",
       "   'uri': 'spotify:track:6dpLxbF7lfCAnC9QRTjNLK',\n",
       "   'track_href': 'https://api.spotify.com/v1/tracks/6dpLxbF7lfCAnC9QRTjNLK',\n",
       "   'analysis_url': 'https://api.spotify.com/v1/audio-analysis/6dpLxbF7lfCAnC9QRTjNLK',\n",
       "   'duration_ms': 157486,\n",
       "   'time_signature': 4}],\n",
       " [{'danceability': 0.107,\n",
       "   'energy': 0.678,\n",
       "   'key': 0,\n",
       "   'loudness': -12.594,\n",
       "   'mode': 1,\n",
       "   'speechiness': 0.0581,\n",
       "   'acousticness': 1.9e-05,\n",
       "   'instrumentalness': 0.871,\n",
       "   'liveness': 0.36,\n",
       "   'valence': 0.145,\n",
       "   'tempo': 92.689,\n",
       "   'type': 'audio_features',\n",
       "   'id': '41R4fI1Z1w2gsJEFQWdeJs',\n",
       "   'uri': 'spotify:track:41R4fI1Z1w2gsJEFQWdeJs',\n",
       "   'track_href': 'https://api.spotify.com/v1/tracks/41R4fI1Z1w2gsJEFQWdeJs',\n",
       "   'analysis_url': 'https://api.spotify.com/v1/audio-analysis/41R4fI1Z1w2gsJEFQWdeJs',\n",
       "   'duration_ms': 331227,\n",
       "   'time_signature': 1}],\n",
       " [{'danceability': 0.669,\n",
       "   'energy': 0.749,\n",
       "   'key': 7,\n",
       "   'loudness': -6.811,\n",
       "   'mode': 0,\n",
       "   'speechiness': 0.141,\n",
       "   'acousticness': 0.413,\n",
       "   'instrumentalness': 0,\n",
       "   'liveness': 0.0848,\n",
       "   'valence': 0.608,\n",
       "   'tempo': 80.169,\n",
       "   'type': 'audio_features',\n",
       "   'id': '2qtoRFCOEL1gRn5q9DJC7F',\n",
       "   'uri': 'spotify:track:2qtoRFCOEL1gRn5q9DJC7F',\n",
       "   'track_href': 'https://api.spotify.com/v1/tracks/2qtoRFCOEL1gRn5q9DJC7F',\n",
       "   'analysis_url': 'https://api.spotify.com/v1/audio-analysis/2qtoRFCOEL1gRn5q9DJC7F',\n",
       "   'duration_ms': 78743,\n",
       "   'time_signature': 4}],\n",
       " [{'danceability': 0.371,\n",
       "   'energy': 0.441,\n",
       "   'key': 7,\n",
       "   'loudness': -10.936,\n",
       "   'mode': 1,\n",
       "   'speechiness': 0.0305,\n",
       "   'acousticness': 0.00627,\n",
       "   'instrumentalness': 0.617,\n",
       "   'liveness': 0.102,\n",
       "   'valence': 0.0966,\n",
       "   'tempo': 96.698,\n",
       "   'type': 'audio_features',\n",
       "   'id': '4gb6bKMg61GGfbhPTifP8A',\n",
       "   'uri': 'spotify:track:4gb6bKMg61GGfbhPTifP8A',\n",
       "   'track_href': 'https://api.spotify.com/v1/tracks/4gb6bKMg61GGfbhPTifP8A',\n",
       "   'analysis_url': 'https://api.spotify.com/v1/audio-analysis/4gb6bKMg61GGfbhPTifP8A',\n",
       "   'duration_ms': 382600,\n",
       "   'time_signature': 3}],\n",
       " [{'danceability': 0.466,\n",
       "   'energy': 0.51,\n",
       "   'key': 1,\n",
       "   'loudness': -14.373,\n",
       "   'mode': 1,\n",
       "   'speechiness': 0.0715,\n",
       "   'acousticness': 0.92,\n",
       "   'instrumentalness': 0.719,\n",
       "   'liveness': 0.105,\n",
       "   'valence': 0.187,\n",
       "   'tempo': 117.316,\n",
       "   'type': 'audio_features',\n",
       "   'id': '2MhDAsciLk9txdni5CL8iw',\n",
       "   'uri': 'spotify:track:2MhDAsciLk9txdni5CL8iw',\n",
       "   'track_href': 'https://api.spotify.com/v1/tracks/2MhDAsciLk9txdni5CL8iw',\n",
       "   'analysis_url': 'https://api.spotify.com/v1/audio-analysis/2MhDAsciLk9txdni5CL8iw',\n",
       "   'duration_ms': 348973,\n",
       "   'time_signature': 4}]]"
      ]
     },
     "execution_count": 63,
     "metadata": {},
     "output_type": "execute_result"
    }
   ],
   "source": [
    "audio_features"
   ]
  },
  {
   "cell_type": "code",
   "execution_count": 64,
   "metadata": {},
   "outputs": [
    {
     "name": "stdout",
     "output_type": "stream",
     "text": [
      "    danceability  energy  key  loudness  mode  speechiness  acousticness  \\\n",
      "0          0.368   0.318    4   -11.182     1       0.0358      0.627000   \n",
      "1          0.283   0.451    7    -8.585     1       0.0452      0.020300   \n",
      "2          0.565   0.284    9   -11.881     1       0.0286      0.023000   \n",
      "3          0.669   0.574    4    -6.442     0       0.0286      0.017500   \n",
      "4          0.727   0.710    4    -6.142     1       0.0742      0.010400   \n",
      "..           ...     ...  ...       ...   ...          ...           ...   \n",
      "95         0.583   0.676    6    -4.440     1       0.0298      0.028900   \n",
      "96         0.107   0.678    0   -12.594     1       0.0581      0.000019   \n",
      "97         0.669   0.749    7    -6.811     0       0.1410      0.413000   \n",
      "98         0.371   0.441    7   -10.936     1       0.0305      0.006270   \n",
      "99         0.466   0.510    1   -14.373     1       0.0715      0.920000   \n",
      "\n",
      "    instrumentalness  liveness  valence    tempo  duration_ms  time_signature  \n",
      "0            0.18800    0.0804   0.1220   81.116       305213               4  \n",
      "1            0.00318    0.0463   0.0683   91.116       757440               3  \n",
      "2            0.09800    0.1130   0.3140  131.309       363773               3  \n",
      "3            0.00294    0.1460   0.2730  120.013       196400               4  \n",
      "4            0.00000    0.1070   0.3780   81.995       287480               4  \n",
      "..               ...       ...      ...      ...          ...             ...  \n",
      "95           0.06340    0.1210   0.1340   77.002       157486               4  \n",
      "96           0.87100    0.3600   0.1450   92.689       331227               1  \n",
      "97           0.00000    0.0848   0.6080   80.169        78743               4  \n",
      "98           0.61700    0.1020   0.0966   96.698       382600               3  \n",
      "99           0.71900    0.1050   0.1870  117.316       348973               4  \n",
      "\n",
      "[100 rows x 13 columns]\n"
     ]
    }
   ],
   "source": [
    "numerical_data = []\n",
    "for inner_list in audio_features:\n",
    "    # Extract numerical data from each dictionary\n",
    "    numerical_dict = {key: value for dict_ in inner_list for key, value in dict_.items() if isinstance(value, (int, float))}\n",
    "    \n",
    "    # Append the numerical data to the list\n",
    "    numerical_data.append(numerical_dict)\n",
    "\n",
    "# Convert the list of dictionaries into a DataFrame\n",
    "feature_df = pd.DataFrame(numerical_data)\n",
    "\n",
    "# Display the DataFrame\n",
    "print(feature_df)"
   ]
  },
  {
   "cell_type": "code",
   "execution_count": 65,
   "metadata": {},
   "outputs": [],
   "source": [
    "normalized_df=(feature_df-feature_df.min())/(feature_df.max()-feature_df.min())"
   ]
  },
  {
   "cell_type": "code",
   "execution_count": 73,
   "metadata": {},
   "outputs": [
    {
     "data": {
      "application/vnd.plotly.v1+json": {
       "config": {
        "plotlyServerURL": "https://plot.ly"
       },
       "data": [
        {
         "alignmentgroup": "True",
         "bingroup": "x",
         "hovertemplate": "danceability=%{x}<br>count=%{y}<extra></extra>",
         "legendgroup": "",
         "marker": {
          "color": "#636efa",
          "pattern": {
           "shape": ""
          }
         },
         "name": "",
         "offsetgroup": "",
         "orientation": "v",
         "showlegend": false,
         "type": "histogram",
         "x": [
          0.368,
          0.283,
          0.565,
          0.669,
          0.727,
          0.581,
          0.376,
          0.585,
          0.528,
          0.478,
          0.347,
          0.445,
          0.588,
          0.65,
          0.355,
          0.516,
          0.242,
          0.534,
          0.435,
          0.431,
          0.615,
          0.39,
          0.617,
          0.772,
          0.667,
          0.2,
          0.377,
          0.669,
          0.639,
          0.407,
          0.566,
          0.451,
          0.361,
          0.439,
          0.167,
          0.282,
          0.459,
          0.645,
          0.814,
          0.586,
          0.674,
          0.587,
          0.448,
          0.801,
          0.374,
          0.633,
          0.94,
          0.587,
          0.405,
          0.4,
          0.592,
          0.214,
          0.545,
          0.657,
          0.535,
          0.331,
          0.652,
          0.647,
          0.815,
          0.559,
          0.501,
          0.324,
          0.134,
          0.508,
          0.853,
          0.453,
          0.168,
          0.352,
          0.143,
          0.678,
          0.487,
          0.477,
          0.62,
          0.517,
          0.69,
          0.61,
          0.775,
          0.557,
          0.632,
          0.705,
          0.677,
          0.545,
          0.376,
          0.628,
          0.489,
          0.638,
          0.374,
          0.575,
          0.502,
          0.671,
          0.371,
          0.377,
          0.509,
          0.585,
          0.466,
          0.583,
          0.107,
          0.669,
          0.371,
          0.466
         ],
         "xaxis": "x",
         "yaxis": "y"
        }
       ],
       "layout": {
        "barmode": "relative",
        "legend": {
         "tracegroupgap": 0
        },
        "margin": {
         "t": 60
        },
        "template": {
         "data": {
          "bar": [
           {
            "error_x": {
             "color": "#2a3f5f"
            },
            "error_y": {
             "color": "#2a3f5f"
            },
            "marker": {
             "line": {
              "color": "white",
              "width": 0.5
             },
             "pattern": {
              "fillmode": "overlay",
              "size": 10,
              "solidity": 0.2
             }
            },
            "type": "bar"
           }
          ],
          "barpolar": [
           {
            "marker": {
             "line": {
              "color": "white",
              "width": 0.5
             },
             "pattern": {
              "fillmode": "overlay",
              "size": 10,
              "solidity": 0.2
             }
            },
            "type": "barpolar"
           }
          ],
          "carpet": [
           {
            "aaxis": {
             "endlinecolor": "#2a3f5f",
             "gridcolor": "#C8D4E3",
             "linecolor": "#C8D4E3",
             "minorgridcolor": "#C8D4E3",
             "startlinecolor": "#2a3f5f"
            },
            "baxis": {
             "endlinecolor": "#2a3f5f",
             "gridcolor": "#C8D4E3",
             "linecolor": "#C8D4E3",
             "minorgridcolor": "#C8D4E3",
             "startlinecolor": "#2a3f5f"
            },
            "type": "carpet"
           }
          ],
          "choropleth": [
           {
            "colorbar": {
             "outlinewidth": 0,
             "ticks": ""
            },
            "type": "choropleth"
           }
          ],
          "contour": [
           {
            "colorbar": {
             "outlinewidth": 0,
             "ticks": ""
            },
            "colorscale": [
             [
              0,
              "#0d0887"
             ],
             [
              0.1111111111111111,
              "#46039f"
             ],
             [
              0.2222222222222222,
              "#7201a8"
             ],
             [
              0.3333333333333333,
              "#9c179e"
             ],
             [
              0.4444444444444444,
              "#bd3786"
             ],
             [
              0.5555555555555556,
              "#d8576b"
             ],
             [
              0.6666666666666666,
              "#ed7953"
             ],
             [
              0.7777777777777778,
              "#fb9f3a"
             ],
             [
              0.8888888888888888,
              "#fdca26"
             ],
             [
              1,
              "#f0f921"
             ]
            ],
            "type": "contour"
           }
          ],
          "contourcarpet": [
           {
            "colorbar": {
             "outlinewidth": 0,
             "ticks": ""
            },
            "type": "contourcarpet"
           }
          ],
          "heatmap": [
           {
            "colorbar": {
             "outlinewidth": 0,
             "ticks": ""
            },
            "colorscale": [
             [
              0,
              "#0d0887"
             ],
             [
              0.1111111111111111,
              "#46039f"
             ],
             [
              0.2222222222222222,
              "#7201a8"
             ],
             [
              0.3333333333333333,
              "#9c179e"
             ],
             [
              0.4444444444444444,
              "#bd3786"
             ],
             [
              0.5555555555555556,
              "#d8576b"
             ],
             [
              0.6666666666666666,
              "#ed7953"
             ],
             [
              0.7777777777777778,
              "#fb9f3a"
             ],
             [
              0.8888888888888888,
              "#fdca26"
             ],
             [
              1,
              "#f0f921"
             ]
            ],
            "type": "heatmap"
           }
          ],
          "heatmapgl": [
           {
            "colorbar": {
             "outlinewidth": 0,
             "ticks": ""
            },
            "colorscale": [
             [
              0,
              "#0d0887"
             ],
             [
              0.1111111111111111,
              "#46039f"
             ],
             [
              0.2222222222222222,
              "#7201a8"
             ],
             [
              0.3333333333333333,
              "#9c179e"
             ],
             [
              0.4444444444444444,
              "#bd3786"
             ],
             [
              0.5555555555555556,
              "#d8576b"
             ],
             [
              0.6666666666666666,
              "#ed7953"
             ],
             [
              0.7777777777777778,
              "#fb9f3a"
             ],
             [
              0.8888888888888888,
              "#fdca26"
             ],
             [
              1,
              "#f0f921"
             ]
            ],
            "type": "heatmapgl"
           }
          ],
          "histogram": [
           {
            "marker": {
             "pattern": {
              "fillmode": "overlay",
              "size": 10,
              "solidity": 0.2
             }
            },
            "type": "histogram"
           }
          ],
          "histogram2d": [
           {
            "colorbar": {
             "outlinewidth": 0,
             "ticks": ""
            },
            "colorscale": [
             [
              0,
              "#0d0887"
             ],
             [
              0.1111111111111111,
              "#46039f"
             ],
             [
              0.2222222222222222,
              "#7201a8"
             ],
             [
              0.3333333333333333,
              "#9c179e"
             ],
             [
              0.4444444444444444,
              "#bd3786"
             ],
             [
              0.5555555555555556,
              "#d8576b"
             ],
             [
              0.6666666666666666,
              "#ed7953"
             ],
             [
              0.7777777777777778,
              "#fb9f3a"
             ],
             [
              0.8888888888888888,
              "#fdca26"
             ],
             [
              1,
              "#f0f921"
             ]
            ],
            "type": "histogram2d"
           }
          ],
          "histogram2dcontour": [
           {
            "colorbar": {
             "outlinewidth": 0,
             "ticks": ""
            },
            "colorscale": [
             [
              0,
              "#0d0887"
             ],
             [
              0.1111111111111111,
              "#46039f"
             ],
             [
              0.2222222222222222,
              "#7201a8"
             ],
             [
              0.3333333333333333,
              "#9c179e"
             ],
             [
              0.4444444444444444,
              "#bd3786"
             ],
             [
              0.5555555555555556,
              "#d8576b"
             ],
             [
              0.6666666666666666,
              "#ed7953"
             ],
             [
              0.7777777777777778,
              "#fb9f3a"
             ],
             [
              0.8888888888888888,
              "#fdca26"
             ],
             [
              1,
              "#f0f921"
             ]
            ],
            "type": "histogram2dcontour"
           }
          ],
          "mesh3d": [
           {
            "colorbar": {
             "outlinewidth": 0,
             "ticks": ""
            },
            "type": "mesh3d"
           }
          ],
          "parcoords": [
           {
            "line": {
             "colorbar": {
              "outlinewidth": 0,
              "ticks": ""
             }
            },
            "type": "parcoords"
           }
          ],
          "pie": [
           {
            "automargin": true,
            "type": "pie"
           }
          ],
          "scatter": [
           {
            "fillpattern": {
             "fillmode": "overlay",
             "size": 10,
             "solidity": 0.2
            },
            "type": "scatter"
           }
          ],
          "scatter3d": [
           {
            "line": {
             "colorbar": {
              "outlinewidth": 0,
              "ticks": ""
             }
            },
            "marker": {
             "colorbar": {
              "outlinewidth": 0,
              "ticks": ""
             }
            },
            "type": "scatter3d"
           }
          ],
          "scattercarpet": [
           {
            "marker": {
             "colorbar": {
              "outlinewidth": 0,
              "ticks": ""
             }
            },
            "type": "scattercarpet"
           }
          ],
          "scattergeo": [
           {
            "marker": {
             "colorbar": {
              "outlinewidth": 0,
              "ticks": ""
             }
            },
            "type": "scattergeo"
           }
          ],
          "scattergl": [
           {
            "marker": {
             "colorbar": {
              "outlinewidth": 0,
              "ticks": ""
             }
            },
            "type": "scattergl"
           }
          ],
          "scattermapbox": [
           {
            "marker": {
             "colorbar": {
              "outlinewidth": 0,
              "ticks": ""
             }
            },
            "type": "scattermapbox"
           }
          ],
          "scatterpolar": [
           {
            "marker": {
             "colorbar": {
              "outlinewidth": 0,
              "ticks": ""
             }
            },
            "type": "scatterpolar"
           }
          ],
          "scatterpolargl": [
           {
            "marker": {
             "colorbar": {
              "outlinewidth": 0,
              "ticks": ""
             }
            },
            "type": "scatterpolargl"
           }
          ],
          "scatterternary": [
           {
            "marker": {
             "colorbar": {
              "outlinewidth": 0,
              "ticks": ""
             }
            },
            "type": "scatterternary"
           }
          ],
          "surface": [
           {
            "colorbar": {
             "outlinewidth": 0,
             "ticks": ""
            },
            "colorscale": [
             [
              0,
              "#0d0887"
             ],
             [
              0.1111111111111111,
              "#46039f"
             ],
             [
              0.2222222222222222,
              "#7201a8"
             ],
             [
              0.3333333333333333,
              "#9c179e"
             ],
             [
              0.4444444444444444,
              "#bd3786"
             ],
             [
              0.5555555555555556,
              "#d8576b"
             ],
             [
              0.6666666666666666,
              "#ed7953"
             ],
             [
              0.7777777777777778,
              "#fb9f3a"
             ],
             [
              0.8888888888888888,
              "#fdca26"
             ],
             [
              1,
              "#f0f921"
             ]
            ],
            "type": "surface"
           }
          ],
          "table": [
           {
            "cells": {
             "fill": {
              "color": "#EBF0F8"
             },
             "line": {
              "color": "white"
             }
            },
            "header": {
             "fill": {
              "color": "#C8D4E3"
             },
             "line": {
              "color": "white"
             }
            },
            "type": "table"
           }
          ]
         },
         "layout": {
          "annotationdefaults": {
           "arrowcolor": "#2a3f5f",
           "arrowhead": 0,
           "arrowwidth": 1
          },
          "autotypenumbers": "strict",
          "coloraxis": {
           "colorbar": {
            "outlinewidth": 0,
            "ticks": ""
           }
          },
          "colorscale": {
           "diverging": [
            [
             0,
             "#8e0152"
            ],
            [
             0.1,
             "#c51b7d"
            ],
            [
             0.2,
             "#de77ae"
            ],
            [
             0.3,
             "#f1b6da"
            ],
            [
             0.4,
             "#fde0ef"
            ],
            [
             0.5,
             "#f7f7f7"
            ],
            [
             0.6,
             "#e6f5d0"
            ],
            [
             0.7,
             "#b8e186"
            ],
            [
             0.8,
             "#7fbc41"
            ],
            [
             0.9,
             "#4d9221"
            ],
            [
             1,
             "#276419"
            ]
           ],
           "sequential": [
            [
             0,
             "#0d0887"
            ],
            [
             0.1111111111111111,
             "#46039f"
            ],
            [
             0.2222222222222222,
             "#7201a8"
            ],
            [
             0.3333333333333333,
             "#9c179e"
            ],
            [
             0.4444444444444444,
             "#bd3786"
            ],
            [
             0.5555555555555556,
             "#d8576b"
            ],
            [
             0.6666666666666666,
             "#ed7953"
            ],
            [
             0.7777777777777778,
             "#fb9f3a"
            ],
            [
             0.8888888888888888,
             "#fdca26"
            ],
            [
             1,
             "#f0f921"
            ]
           ],
           "sequentialminus": [
            [
             0,
             "#0d0887"
            ],
            [
             0.1111111111111111,
             "#46039f"
            ],
            [
             0.2222222222222222,
             "#7201a8"
            ],
            [
             0.3333333333333333,
             "#9c179e"
            ],
            [
             0.4444444444444444,
             "#bd3786"
            ],
            [
             0.5555555555555556,
             "#d8576b"
            ],
            [
             0.6666666666666666,
             "#ed7953"
            ],
            [
             0.7777777777777778,
             "#fb9f3a"
            ],
            [
             0.8888888888888888,
             "#fdca26"
            ],
            [
             1,
             "#f0f921"
            ]
           ]
          },
          "colorway": [
           "#636efa",
           "#EF553B",
           "#00cc96",
           "#ab63fa",
           "#FFA15A",
           "#19d3f3",
           "#FF6692",
           "#B6E880",
           "#FF97FF",
           "#FECB52"
          ],
          "font": {
           "color": "#2a3f5f"
          },
          "geo": {
           "bgcolor": "white",
           "lakecolor": "white",
           "landcolor": "white",
           "showlakes": true,
           "showland": true,
           "subunitcolor": "#C8D4E3"
          },
          "hoverlabel": {
           "align": "left"
          },
          "hovermode": "closest",
          "mapbox": {
           "style": "light"
          },
          "paper_bgcolor": "white",
          "plot_bgcolor": "white",
          "polar": {
           "angularaxis": {
            "gridcolor": "#EBF0F8",
            "linecolor": "#EBF0F8",
            "ticks": ""
           },
           "bgcolor": "white",
           "radialaxis": {
            "gridcolor": "#EBF0F8",
            "linecolor": "#EBF0F8",
            "ticks": ""
           }
          },
          "scene": {
           "xaxis": {
            "backgroundcolor": "white",
            "gridcolor": "#DFE8F3",
            "gridwidth": 2,
            "linecolor": "#EBF0F8",
            "showbackground": true,
            "ticks": "",
            "zerolinecolor": "#EBF0F8"
           },
           "yaxis": {
            "backgroundcolor": "white",
            "gridcolor": "#DFE8F3",
            "gridwidth": 2,
            "linecolor": "#EBF0F8",
            "showbackground": true,
            "ticks": "",
            "zerolinecolor": "#EBF0F8"
           },
           "zaxis": {
            "backgroundcolor": "white",
            "gridcolor": "#DFE8F3",
            "gridwidth": 2,
            "linecolor": "#EBF0F8",
            "showbackground": true,
            "ticks": "",
            "zerolinecolor": "#EBF0F8"
           }
          },
          "shapedefaults": {
           "line": {
            "color": "#2a3f5f"
           }
          },
          "ternary": {
           "aaxis": {
            "gridcolor": "#DFE8F3",
            "linecolor": "#A2B1C6",
            "ticks": ""
           },
           "baxis": {
            "gridcolor": "#DFE8F3",
            "linecolor": "#A2B1C6",
            "ticks": ""
           },
           "bgcolor": "white",
           "caxis": {
            "gridcolor": "#DFE8F3",
            "linecolor": "#A2B1C6",
            "ticks": ""
           }
          },
          "title": {
           "x": 0.05
          },
          "xaxis": {
           "automargin": true,
           "gridcolor": "#EBF0F8",
           "linecolor": "#EBF0F8",
           "ticks": "",
           "title": {
            "standoff": 15
           },
           "zerolinecolor": "#EBF0F8",
           "zerolinewidth": 2
          },
          "yaxis": {
           "automargin": true,
           "gridcolor": "#EBF0F8",
           "linecolor": "#EBF0F8",
           "ticks": "",
           "title": {
            "standoff": 15
           },
           "zerolinecolor": "#EBF0F8",
           "zerolinewidth": 2
          }
         }
        },
        "xaxis": {
         "anchor": "y",
         "domain": [
          0,
          1
         ],
         "title": {
          "text": "danceability"
         }
        },
        "yaxis": {
         "anchor": "x",
         "domain": [
          0,
          1
         ],
         "title": {
          "text": "count"
         }
        }
       }
      }
     },
     "metadata": {},
     "output_type": "display_data"
    }
   ],
   "source": [
    "fig = px.histogram(feature_df, x=\"danceability\")\n",
    "fig.show()"
   ]
  },
  {
   "cell_type": "code",
   "execution_count": 74,
   "metadata": {},
   "outputs": [
    {
     "data": {
      "application/vnd.plotly.v1+json": {
       "config": {
        "plotlyServerURL": "https://plot.ly"
       },
       "data": [
        {
         "alignmentgroup": "True",
         "bingroup": "x",
         "hovertemplate": "instrumentalness=%{x}<br>count=%{y}<extra></extra>",
         "legendgroup": "",
         "marker": {
          "color": "#636efa",
          "pattern": {
           "shape": ""
          }
         },
         "name": "",
         "offsetgroup": "",
         "orientation": "v",
         "showlegend": false,
         "type": "histogram",
         "x": [
          0.188,
          0.00318,
          0.098,
          0.00294,
          0,
          0,
          0.0000413,
          0.0000984,
          0.838,
          0.00000636,
          0.126,
          0.37,
          0.0584,
          0.838,
          0.00165,
          0.579,
          0.0271,
          0.835,
          0,
          0.095,
          0.0000223,
          0.00227,
          0.925,
          0,
          0.0122,
          0.277,
          0.00000115,
          0.176,
          0,
          0.00142,
          0,
          0.301,
          0.974,
          0.0000484,
          0.797,
          0.0142,
          0.00000295,
          0.0121,
          0,
          0,
          0,
          0.0000545,
          0.0356,
          0.0000323,
          0.00219,
          0.000222,
          0.0832,
          0.00201,
          0,
          0.79,
          0.00000568,
          0.704,
          0.0000548,
          0.158,
          0.965,
          0,
          0.926,
          0.000723,
          0,
          0.0000229,
          0,
          0.844,
          0.963,
          0.124,
          0.000217,
          0.468,
          0.986,
          0.0000408,
          0.787,
          0,
          0.00000445,
          0.364,
          0,
          0,
          0,
          0.00975,
          0.000233,
          0,
          0.189,
          0.0000916,
          0.000689,
          0.0000548,
          0.000543,
          0,
          0.000118,
          0.000415,
          0.978,
          0.000289,
          0.822,
          0.00381,
          0.226,
          0.000259,
          0.00639,
          0.0148,
          0.0000468,
          0.0634,
          0.871,
          0,
          0.617,
          0.719
         ],
         "xaxis": "x",
         "yaxis": "y"
        }
       ],
       "layout": {
        "barmode": "relative",
        "legend": {
         "tracegroupgap": 0
        },
        "margin": {
         "t": 60
        },
        "template": {
         "data": {
          "bar": [
           {
            "error_x": {
             "color": "#2a3f5f"
            },
            "error_y": {
             "color": "#2a3f5f"
            },
            "marker": {
             "line": {
              "color": "white",
              "width": 0.5
             },
             "pattern": {
              "fillmode": "overlay",
              "size": 10,
              "solidity": 0.2
             }
            },
            "type": "bar"
           }
          ],
          "barpolar": [
           {
            "marker": {
             "line": {
              "color": "white",
              "width": 0.5
             },
             "pattern": {
              "fillmode": "overlay",
              "size": 10,
              "solidity": 0.2
             }
            },
            "type": "barpolar"
           }
          ],
          "carpet": [
           {
            "aaxis": {
             "endlinecolor": "#2a3f5f",
             "gridcolor": "#C8D4E3",
             "linecolor": "#C8D4E3",
             "minorgridcolor": "#C8D4E3",
             "startlinecolor": "#2a3f5f"
            },
            "baxis": {
             "endlinecolor": "#2a3f5f",
             "gridcolor": "#C8D4E3",
             "linecolor": "#C8D4E3",
             "minorgridcolor": "#C8D4E3",
             "startlinecolor": "#2a3f5f"
            },
            "type": "carpet"
           }
          ],
          "choropleth": [
           {
            "colorbar": {
             "outlinewidth": 0,
             "ticks": ""
            },
            "type": "choropleth"
           }
          ],
          "contour": [
           {
            "colorbar": {
             "outlinewidth": 0,
             "ticks": ""
            },
            "colorscale": [
             [
              0,
              "#0d0887"
             ],
             [
              0.1111111111111111,
              "#46039f"
             ],
             [
              0.2222222222222222,
              "#7201a8"
             ],
             [
              0.3333333333333333,
              "#9c179e"
             ],
             [
              0.4444444444444444,
              "#bd3786"
             ],
             [
              0.5555555555555556,
              "#d8576b"
             ],
             [
              0.6666666666666666,
              "#ed7953"
             ],
             [
              0.7777777777777778,
              "#fb9f3a"
             ],
             [
              0.8888888888888888,
              "#fdca26"
             ],
             [
              1,
              "#f0f921"
             ]
            ],
            "type": "contour"
           }
          ],
          "contourcarpet": [
           {
            "colorbar": {
             "outlinewidth": 0,
             "ticks": ""
            },
            "type": "contourcarpet"
           }
          ],
          "heatmap": [
           {
            "colorbar": {
             "outlinewidth": 0,
             "ticks": ""
            },
            "colorscale": [
             [
              0,
              "#0d0887"
             ],
             [
              0.1111111111111111,
              "#46039f"
             ],
             [
              0.2222222222222222,
              "#7201a8"
             ],
             [
              0.3333333333333333,
              "#9c179e"
             ],
             [
              0.4444444444444444,
              "#bd3786"
             ],
             [
              0.5555555555555556,
              "#d8576b"
             ],
             [
              0.6666666666666666,
              "#ed7953"
             ],
             [
              0.7777777777777778,
              "#fb9f3a"
             ],
             [
              0.8888888888888888,
              "#fdca26"
             ],
             [
              1,
              "#f0f921"
             ]
            ],
            "type": "heatmap"
           }
          ],
          "heatmapgl": [
           {
            "colorbar": {
             "outlinewidth": 0,
             "ticks": ""
            },
            "colorscale": [
             [
              0,
              "#0d0887"
             ],
             [
              0.1111111111111111,
              "#46039f"
             ],
             [
              0.2222222222222222,
              "#7201a8"
             ],
             [
              0.3333333333333333,
              "#9c179e"
             ],
             [
              0.4444444444444444,
              "#bd3786"
             ],
             [
              0.5555555555555556,
              "#d8576b"
             ],
             [
              0.6666666666666666,
              "#ed7953"
             ],
             [
              0.7777777777777778,
              "#fb9f3a"
             ],
             [
              0.8888888888888888,
              "#fdca26"
             ],
             [
              1,
              "#f0f921"
             ]
            ],
            "type": "heatmapgl"
           }
          ],
          "histogram": [
           {
            "marker": {
             "pattern": {
              "fillmode": "overlay",
              "size": 10,
              "solidity": 0.2
             }
            },
            "type": "histogram"
           }
          ],
          "histogram2d": [
           {
            "colorbar": {
             "outlinewidth": 0,
             "ticks": ""
            },
            "colorscale": [
             [
              0,
              "#0d0887"
             ],
             [
              0.1111111111111111,
              "#46039f"
             ],
             [
              0.2222222222222222,
              "#7201a8"
             ],
             [
              0.3333333333333333,
              "#9c179e"
             ],
             [
              0.4444444444444444,
              "#bd3786"
             ],
             [
              0.5555555555555556,
              "#d8576b"
             ],
             [
              0.6666666666666666,
              "#ed7953"
             ],
             [
              0.7777777777777778,
              "#fb9f3a"
             ],
             [
              0.8888888888888888,
              "#fdca26"
             ],
             [
              1,
              "#f0f921"
             ]
            ],
            "type": "histogram2d"
           }
          ],
          "histogram2dcontour": [
           {
            "colorbar": {
             "outlinewidth": 0,
             "ticks": ""
            },
            "colorscale": [
             [
              0,
              "#0d0887"
             ],
             [
              0.1111111111111111,
              "#46039f"
             ],
             [
              0.2222222222222222,
              "#7201a8"
             ],
             [
              0.3333333333333333,
              "#9c179e"
             ],
             [
              0.4444444444444444,
              "#bd3786"
             ],
             [
              0.5555555555555556,
              "#d8576b"
             ],
             [
              0.6666666666666666,
              "#ed7953"
             ],
             [
              0.7777777777777778,
              "#fb9f3a"
             ],
             [
              0.8888888888888888,
              "#fdca26"
             ],
             [
              1,
              "#f0f921"
             ]
            ],
            "type": "histogram2dcontour"
           }
          ],
          "mesh3d": [
           {
            "colorbar": {
             "outlinewidth": 0,
             "ticks": ""
            },
            "type": "mesh3d"
           }
          ],
          "parcoords": [
           {
            "line": {
             "colorbar": {
              "outlinewidth": 0,
              "ticks": ""
             }
            },
            "type": "parcoords"
           }
          ],
          "pie": [
           {
            "automargin": true,
            "type": "pie"
           }
          ],
          "scatter": [
           {
            "fillpattern": {
             "fillmode": "overlay",
             "size": 10,
             "solidity": 0.2
            },
            "type": "scatter"
           }
          ],
          "scatter3d": [
           {
            "line": {
             "colorbar": {
              "outlinewidth": 0,
              "ticks": ""
             }
            },
            "marker": {
             "colorbar": {
              "outlinewidth": 0,
              "ticks": ""
             }
            },
            "type": "scatter3d"
           }
          ],
          "scattercarpet": [
           {
            "marker": {
             "colorbar": {
              "outlinewidth": 0,
              "ticks": ""
             }
            },
            "type": "scattercarpet"
           }
          ],
          "scattergeo": [
           {
            "marker": {
             "colorbar": {
              "outlinewidth": 0,
              "ticks": ""
             }
            },
            "type": "scattergeo"
           }
          ],
          "scattergl": [
           {
            "marker": {
             "colorbar": {
              "outlinewidth": 0,
              "ticks": ""
             }
            },
            "type": "scattergl"
           }
          ],
          "scattermapbox": [
           {
            "marker": {
             "colorbar": {
              "outlinewidth": 0,
              "ticks": ""
             }
            },
            "type": "scattermapbox"
           }
          ],
          "scatterpolar": [
           {
            "marker": {
             "colorbar": {
              "outlinewidth": 0,
              "ticks": ""
             }
            },
            "type": "scatterpolar"
           }
          ],
          "scatterpolargl": [
           {
            "marker": {
             "colorbar": {
              "outlinewidth": 0,
              "ticks": ""
             }
            },
            "type": "scatterpolargl"
           }
          ],
          "scatterternary": [
           {
            "marker": {
             "colorbar": {
              "outlinewidth": 0,
              "ticks": ""
             }
            },
            "type": "scatterternary"
           }
          ],
          "surface": [
           {
            "colorbar": {
             "outlinewidth": 0,
             "ticks": ""
            },
            "colorscale": [
             [
              0,
              "#0d0887"
             ],
             [
              0.1111111111111111,
              "#46039f"
             ],
             [
              0.2222222222222222,
              "#7201a8"
             ],
             [
              0.3333333333333333,
              "#9c179e"
             ],
             [
              0.4444444444444444,
              "#bd3786"
             ],
             [
              0.5555555555555556,
              "#d8576b"
             ],
             [
              0.6666666666666666,
              "#ed7953"
             ],
             [
              0.7777777777777778,
              "#fb9f3a"
             ],
             [
              0.8888888888888888,
              "#fdca26"
             ],
             [
              1,
              "#f0f921"
             ]
            ],
            "type": "surface"
           }
          ],
          "table": [
           {
            "cells": {
             "fill": {
              "color": "#EBF0F8"
             },
             "line": {
              "color": "white"
             }
            },
            "header": {
             "fill": {
              "color": "#C8D4E3"
             },
             "line": {
              "color": "white"
             }
            },
            "type": "table"
           }
          ]
         },
         "layout": {
          "annotationdefaults": {
           "arrowcolor": "#2a3f5f",
           "arrowhead": 0,
           "arrowwidth": 1
          },
          "autotypenumbers": "strict",
          "coloraxis": {
           "colorbar": {
            "outlinewidth": 0,
            "ticks": ""
           }
          },
          "colorscale": {
           "diverging": [
            [
             0,
             "#8e0152"
            ],
            [
             0.1,
             "#c51b7d"
            ],
            [
             0.2,
             "#de77ae"
            ],
            [
             0.3,
             "#f1b6da"
            ],
            [
             0.4,
             "#fde0ef"
            ],
            [
             0.5,
             "#f7f7f7"
            ],
            [
             0.6,
             "#e6f5d0"
            ],
            [
             0.7,
             "#b8e186"
            ],
            [
             0.8,
             "#7fbc41"
            ],
            [
             0.9,
             "#4d9221"
            ],
            [
             1,
             "#276419"
            ]
           ],
           "sequential": [
            [
             0,
             "#0d0887"
            ],
            [
             0.1111111111111111,
             "#46039f"
            ],
            [
             0.2222222222222222,
             "#7201a8"
            ],
            [
             0.3333333333333333,
             "#9c179e"
            ],
            [
             0.4444444444444444,
             "#bd3786"
            ],
            [
             0.5555555555555556,
             "#d8576b"
            ],
            [
             0.6666666666666666,
             "#ed7953"
            ],
            [
             0.7777777777777778,
             "#fb9f3a"
            ],
            [
             0.8888888888888888,
             "#fdca26"
            ],
            [
             1,
             "#f0f921"
            ]
           ],
           "sequentialminus": [
            [
             0,
             "#0d0887"
            ],
            [
             0.1111111111111111,
             "#46039f"
            ],
            [
             0.2222222222222222,
             "#7201a8"
            ],
            [
             0.3333333333333333,
             "#9c179e"
            ],
            [
             0.4444444444444444,
             "#bd3786"
            ],
            [
             0.5555555555555556,
             "#d8576b"
            ],
            [
             0.6666666666666666,
             "#ed7953"
            ],
            [
             0.7777777777777778,
             "#fb9f3a"
            ],
            [
             0.8888888888888888,
             "#fdca26"
            ],
            [
             1,
             "#f0f921"
            ]
           ]
          },
          "colorway": [
           "#636efa",
           "#EF553B",
           "#00cc96",
           "#ab63fa",
           "#FFA15A",
           "#19d3f3",
           "#FF6692",
           "#B6E880",
           "#FF97FF",
           "#FECB52"
          ],
          "font": {
           "color": "#2a3f5f"
          },
          "geo": {
           "bgcolor": "white",
           "lakecolor": "white",
           "landcolor": "white",
           "showlakes": true,
           "showland": true,
           "subunitcolor": "#C8D4E3"
          },
          "hoverlabel": {
           "align": "left"
          },
          "hovermode": "closest",
          "mapbox": {
           "style": "light"
          },
          "paper_bgcolor": "white",
          "plot_bgcolor": "white",
          "polar": {
           "angularaxis": {
            "gridcolor": "#EBF0F8",
            "linecolor": "#EBF0F8",
            "ticks": ""
           },
           "bgcolor": "white",
           "radialaxis": {
            "gridcolor": "#EBF0F8",
            "linecolor": "#EBF0F8",
            "ticks": ""
           }
          },
          "scene": {
           "xaxis": {
            "backgroundcolor": "white",
            "gridcolor": "#DFE8F3",
            "gridwidth": 2,
            "linecolor": "#EBF0F8",
            "showbackground": true,
            "ticks": "",
            "zerolinecolor": "#EBF0F8"
           },
           "yaxis": {
            "backgroundcolor": "white",
            "gridcolor": "#DFE8F3",
            "gridwidth": 2,
            "linecolor": "#EBF0F8",
            "showbackground": true,
            "ticks": "",
            "zerolinecolor": "#EBF0F8"
           },
           "zaxis": {
            "backgroundcolor": "white",
            "gridcolor": "#DFE8F3",
            "gridwidth": 2,
            "linecolor": "#EBF0F8",
            "showbackground": true,
            "ticks": "",
            "zerolinecolor": "#EBF0F8"
           }
          },
          "shapedefaults": {
           "line": {
            "color": "#2a3f5f"
           }
          },
          "ternary": {
           "aaxis": {
            "gridcolor": "#DFE8F3",
            "linecolor": "#A2B1C6",
            "ticks": ""
           },
           "baxis": {
            "gridcolor": "#DFE8F3",
            "linecolor": "#A2B1C6",
            "ticks": ""
           },
           "bgcolor": "white",
           "caxis": {
            "gridcolor": "#DFE8F3",
            "linecolor": "#A2B1C6",
            "ticks": ""
           }
          },
          "title": {
           "x": 0.05
          },
          "xaxis": {
           "automargin": true,
           "gridcolor": "#EBF0F8",
           "linecolor": "#EBF0F8",
           "ticks": "",
           "title": {
            "standoff": 15
           },
           "zerolinecolor": "#EBF0F8",
           "zerolinewidth": 2
          },
          "yaxis": {
           "automargin": true,
           "gridcolor": "#EBF0F8",
           "linecolor": "#EBF0F8",
           "ticks": "",
           "title": {
            "standoff": 15
           },
           "zerolinecolor": "#EBF0F8",
           "zerolinewidth": 2
          }
         }
        },
        "xaxis": {
         "anchor": "y",
         "domain": [
          0,
          1
         ],
         "title": {
          "text": "instrumentalness"
         }
        },
        "yaxis": {
         "anchor": "x",
         "domain": [
          0,
          1
         ],
         "title": {
          "text": "count"
         }
        }
       }
      }
     },
     "metadata": {},
     "output_type": "display_data"
    }
   ],
   "source": [
    "fig = px.histogram(feature_df, x=\"instrumentalness\")\n",
    "fig.show()"
   ]
  },
  {
   "cell_type": "code",
   "execution_count": 75,
   "metadata": {},
   "outputs": [
    {
     "data": {
      "application/vnd.plotly.v1+json": {
       "config": {
        "plotlyServerURL": "https://plot.ly"
       },
       "data": [
        {
         "alignmentgroup": "True",
         "bingroup": "x",
         "hovertemplate": "acousticness=%{x}<br>count=%{y}<extra></extra>",
         "legendgroup": "",
         "marker": {
          "color": "#636efa",
          "pattern": {
           "shape": ""
          }
         },
         "name": "",
         "offsetgroup": "",
         "orientation": "v",
         "showlegend": false,
         "type": "histogram",
         "x": [
          0.627,
          0.0203,
          0.023,
          0.0175,
          0.0104,
          0.768,
          0.402,
          0.198,
          0.526,
          0.915,
          0.263,
          0.26,
          0.32,
          0.0553,
          0.2,
          0.832,
          0.000257,
          0.209,
          0.0175,
          0.287,
          0.0352,
          0.928,
          0.459,
          0.69,
          0.456,
          0.66,
          0.00889,
          0.487,
          0.91,
          0.000316,
          0.0477,
          0.987,
          0.561,
          0.0148,
          0.316,
          0.0647,
          0.171,
          0.0562,
          0.0166,
          0.111,
          0.0609,
          0.447,
          0.929,
          0.0777,
          0.219,
          0.692,
          0.209,
          0.219,
          0.23,
          0.000295,
          0.845,
          0.255,
          0.667,
          0.302,
          0.464,
          0.00644,
          0.857,
          0.705,
          0.00821,
          0.217,
          0.77,
          0.974,
          0.177,
          0.229,
          0.0917,
          0.712,
          0.95,
          0.833,
          0.926,
          0.0734,
          0.15,
          0.941,
          0.615,
          0.924,
          0.167,
          0.0411,
          0.211,
          0.104,
          0.266,
          0.00784,
          0.42,
          0.667,
          0.753,
          0.000747,
          0.354,
          0.452,
          0.0265,
          0.785,
          0.795,
          0.0547,
          0.00000563,
          0.975,
          0.019,
          0.0561,
          0.774,
          0.0289,
          0.000019,
          0.413,
          0.00627,
          0.92
         ],
         "xaxis": "x",
         "yaxis": "y"
        }
       ],
       "layout": {
        "barmode": "relative",
        "legend": {
         "tracegroupgap": 0
        },
        "margin": {
         "t": 60
        },
        "template": {
         "data": {
          "bar": [
           {
            "error_x": {
             "color": "#2a3f5f"
            },
            "error_y": {
             "color": "#2a3f5f"
            },
            "marker": {
             "line": {
              "color": "white",
              "width": 0.5
             },
             "pattern": {
              "fillmode": "overlay",
              "size": 10,
              "solidity": 0.2
             }
            },
            "type": "bar"
           }
          ],
          "barpolar": [
           {
            "marker": {
             "line": {
              "color": "white",
              "width": 0.5
             },
             "pattern": {
              "fillmode": "overlay",
              "size": 10,
              "solidity": 0.2
             }
            },
            "type": "barpolar"
           }
          ],
          "carpet": [
           {
            "aaxis": {
             "endlinecolor": "#2a3f5f",
             "gridcolor": "#C8D4E3",
             "linecolor": "#C8D4E3",
             "minorgridcolor": "#C8D4E3",
             "startlinecolor": "#2a3f5f"
            },
            "baxis": {
             "endlinecolor": "#2a3f5f",
             "gridcolor": "#C8D4E3",
             "linecolor": "#C8D4E3",
             "minorgridcolor": "#C8D4E3",
             "startlinecolor": "#2a3f5f"
            },
            "type": "carpet"
           }
          ],
          "choropleth": [
           {
            "colorbar": {
             "outlinewidth": 0,
             "ticks": ""
            },
            "type": "choropleth"
           }
          ],
          "contour": [
           {
            "colorbar": {
             "outlinewidth": 0,
             "ticks": ""
            },
            "colorscale": [
             [
              0,
              "#0d0887"
             ],
             [
              0.1111111111111111,
              "#46039f"
             ],
             [
              0.2222222222222222,
              "#7201a8"
             ],
             [
              0.3333333333333333,
              "#9c179e"
             ],
             [
              0.4444444444444444,
              "#bd3786"
             ],
             [
              0.5555555555555556,
              "#d8576b"
             ],
             [
              0.6666666666666666,
              "#ed7953"
             ],
             [
              0.7777777777777778,
              "#fb9f3a"
             ],
             [
              0.8888888888888888,
              "#fdca26"
             ],
             [
              1,
              "#f0f921"
             ]
            ],
            "type": "contour"
           }
          ],
          "contourcarpet": [
           {
            "colorbar": {
             "outlinewidth": 0,
             "ticks": ""
            },
            "type": "contourcarpet"
           }
          ],
          "heatmap": [
           {
            "colorbar": {
             "outlinewidth": 0,
             "ticks": ""
            },
            "colorscale": [
             [
              0,
              "#0d0887"
             ],
             [
              0.1111111111111111,
              "#46039f"
             ],
             [
              0.2222222222222222,
              "#7201a8"
             ],
             [
              0.3333333333333333,
              "#9c179e"
             ],
             [
              0.4444444444444444,
              "#bd3786"
             ],
             [
              0.5555555555555556,
              "#d8576b"
             ],
             [
              0.6666666666666666,
              "#ed7953"
             ],
             [
              0.7777777777777778,
              "#fb9f3a"
             ],
             [
              0.8888888888888888,
              "#fdca26"
             ],
             [
              1,
              "#f0f921"
             ]
            ],
            "type": "heatmap"
           }
          ],
          "heatmapgl": [
           {
            "colorbar": {
             "outlinewidth": 0,
             "ticks": ""
            },
            "colorscale": [
             [
              0,
              "#0d0887"
             ],
             [
              0.1111111111111111,
              "#46039f"
             ],
             [
              0.2222222222222222,
              "#7201a8"
             ],
             [
              0.3333333333333333,
              "#9c179e"
             ],
             [
              0.4444444444444444,
              "#bd3786"
             ],
             [
              0.5555555555555556,
              "#d8576b"
             ],
             [
              0.6666666666666666,
              "#ed7953"
             ],
             [
              0.7777777777777778,
              "#fb9f3a"
             ],
             [
              0.8888888888888888,
              "#fdca26"
             ],
             [
              1,
              "#f0f921"
             ]
            ],
            "type": "heatmapgl"
           }
          ],
          "histogram": [
           {
            "marker": {
             "pattern": {
              "fillmode": "overlay",
              "size": 10,
              "solidity": 0.2
             }
            },
            "type": "histogram"
           }
          ],
          "histogram2d": [
           {
            "colorbar": {
             "outlinewidth": 0,
             "ticks": ""
            },
            "colorscale": [
             [
              0,
              "#0d0887"
             ],
             [
              0.1111111111111111,
              "#46039f"
             ],
             [
              0.2222222222222222,
              "#7201a8"
             ],
             [
              0.3333333333333333,
              "#9c179e"
             ],
             [
              0.4444444444444444,
              "#bd3786"
             ],
             [
              0.5555555555555556,
              "#d8576b"
             ],
             [
              0.6666666666666666,
              "#ed7953"
             ],
             [
              0.7777777777777778,
              "#fb9f3a"
             ],
             [
              0.8888888888888888,
              "#fdca26"
             ],
             [
              1,
              "#f0f921"
             ]
            ],
            "type": "histogram2d"
           }
          ],
          "histogram2dcontour": [
           {
            "colorbar": {
             "outlinewidth": 0,
             "ticks": ""
            },
            "colorscale": [
             [
              0,
              "#0d0887"
             ],
             [
              0.1111111111111111,
              "#46039f"
             ],
             [
              0.2222222222222222,
              "#7201a8"
             ],
             [
              0.3333333333333333,
              "#9c179e"
             ],
             [
              0.4444444444444444,
              "#bd3786"
             ],
             [
              0.5555555555555556,
              "#d8576b"
             ],
             [
              0.6666666666666666,
              "#ed7953"
             ],
             [
              0.7777777777777778,
              "#fb9f3a"
             ],
             [
              0.8888888888888888,
              "#fdca26"
             ],
             [
              1,
              "#f0f921"
             ]
            ],
            "type": "histogram2dcontour"
           }
          ],
          "mesh3d": [
           {
            "colorbar": {
             "outlinewidth": 0,
             "ticks": ""
            },
            "type": "mesh3d"
           }
          ],
          "parcoords": [
           {
            "line": {
             "colorbar": {
              "outlinewidth": 0,
              "ticks": ""
             }
            },
            "type": "parcoords"
           }
          ],
          "pie": [
           {
            "automargin": true,
            "type": "pie"
           }
          ],
          "scatter": [
           {
            "fillpattern": {
             "fillmode": "overlay",
             "size": 10,
             "solidity": 0.2
            },
            "type": "scatter"
           }
          ],
          "scatter3d": [
           {
            "line": {
             "colorbar": {
              "outlinewidth": 0,
              "ticks": ""
             }
            },
            "marker": {
             "colorbar": {
              "outlinewidth": 0,
              "ticks": ""
             }
            },
            "type": "scatter3d"
           }
          ],
          "scattercarpet": [
           {
            "marker": {
             "colorbar": {
              "outlinewidth": 0,
              "ticks": ""
             }
            },
            "type": "scattercarpet"
           }
          ],
          "scattergeo": [
           {
            "marker": {
             "colorbar": {
              "outlinewidth": 0,
              "ticks": ""
             }
            },
            "type": "scattergeo"
           }
          ],
          "scattergl": [
           {
            "marker": {
             "colorbar": {
              "outlinewidth": 0,
              "ticks": ""
             }
            },
            "type": "scattergl"
           }
          ],
          "scattermapbox": [
           {
            "marker": {
             "colorbar": {
              "outlinewidth": 0,
              "ticks": ""
             }
            },
            "type": "scattermapbox"
           }
          ],
          "scatterpolar": [
           {
            "marker": {
             "colorbar": {
              "outlinewidth": 0,
              "ticks": ""
             }
            },
            "type": "scatterpolar"
           }
          ],
          "scatterpolargl": [
           {
            "marker": {
             "colorbar": {
              "outlinewidth": 0,
              "ticks": ""
             }
            },
            "type": "scatterpolargl"
           }
          ],
          "scatterternary": [
           {
            "marker": {
             "colorbar": {
              "outlinewidth": 0,
              "ticks": ""
             }
            },
            "type": "scatterternary"
           }
          ],
          "surface": [
           {
            "colorbar": {
             "outlinewidth": 0,
             "ticks": ""
            },
            "colorscale": [
             [
              0,
              "#0d0887"
             ],
             [
              0.1111111111111111,
              "#46039f"
             ],
             [
              0.2222222222222222,
              "#7201a8"
             ],
             [
              0.3333333333333333,
              "#9c179e"
             ],
             [
              0.4444444444444444,
              "#bd3786"
             ],
             [
              0.5555555555555556,
              "#d8576b"
             ],
             [
              0.6666666666666666,
              "#ed7953"
             ],
             [
              0.7777777777777778,
              "#fb9f3a"
             ],
             [
              0.8888888888888888,
              "#fdca26"
             ],
             [
              1,
              "#f0f921"
             ]
            ],
            "type": "surface"
           }
          ],
          "table": [
           {
            "cells": {
             "fill": {
              "color": "#EBF0F8"
             },
             "line": {
              "color": "white"
             }
            },
            "header": {
             "fill": {
              "color": "#C8D4E3"
             },
             "line": {
              "color": "white"
             }
            },
            "type": "table"
           }
          ]
         },
         "layout": {
          "annotationdefaults": {
           "arrowcolor": "#2a3f5f",
           "arrowhead": 0,
           "arrowwidth": 1
          },
          "autotypenumbers": "strict",
          "coloraxis": {
           "colorbar": {
            "outlinewidth": 0,
            "ticks": ""
           }
          },
          "colorscale": {
           "diverging": [
            [
             0,
             "#8e0152"
            ],
            [
             0.1,
             "#c51b7d"
            ],
            [
             0.2,
             "#de77ae"
            ],
            [
             0.3,
             "#f1b6da"
            ],
            [
             0.4,
             "#fde0ef"
            ],
            [
             0.5,
             "#f7f7f7"
            ],
            [
             0.6,
             "#e6f5d0"
            ],
            [
             0.7,
             "#b8e186"
            ],
            [
             0.8,
             "#7fbc41"
            ],
            [
             0.9,
             "#4d9221"
            ],
            [
             1,
             "#276419"
            ]
           ],
           "sequential": [
            [
             0,
             "#0d0887"
            ],
            [
             0.1111111111111111,
             "#46039f"
            ],
            [
             0.2222222222222222,
             "#7201a8"
            ],
            [
             0.3333333333333333,
             "#9c179e"
            ],
            [
             0.4444444444444444,
             "#bd3786"
            ],
            [
             0.5555555555555556,
             "#d8576b"
            ],
            [
             0.6666666666666666,
             "#ed7953"
            ],
            [
             0.7777777777777778,
             "#fb9f3a"
            ],
            [
             0.8888888888888888,
             "#fdca26"
            ],
            [
             1,
             "#f0f921"
            ]
           ],
           "sequentialminus": [
            [
             0,
             "#0d0887"
            ],
            [
             0.1111111111111111,
             "#46039f"
            ],
            [
             0.2222222222222222,
             "#7201a8"
            ],
            [
             0.3333333333333333,
             "#9c179e"
            ],
            [
             0.4444444444444444,
             "#bd3786"
            ],
            [
             0.5555555555555556,
             "#d8576b"
            ],
            [
             0.6666666666666666,
             "#ed7953"
            ],
            [
             0.7777777777777778,
             "#fb9f3a"
            ],
            [
             0.8888888888888888,
             "#fdca26"
            ],
            [
             1,
             "#f0f921"
            ]
           ]
          },
          "colorway": [
           "#636efa",
           "#EF553B",
           "#00cc96",
           "#ab63fa",
           "#FFA15A",
           "#19d3f3",
           "#FF6692",
           "#B6E880",
           "#FF97FF",
           "#FECB52"
          ],
          "font": {
           "color": "#2a3f5f"
          },
          "geo": {
           "bgcolor": "white",
           "lakecolor": "white",
           "landcolor": "white",
           "showlakes": true,
           "showland": true,
           "subunitcolor": "#C8D4E3"
          },
          "hoverlabel": {
           "align": "left"
          },
          "hovermode": "closest",
          "mapbox": {
           "style": "light"
          },
          "paper_bgcolor": "white",
          "plot_bgcolor": "white",
          "polar": {
           "angularaxis": {
            "gridcolor": "#EBF0F8",
            "linecolor": "#EBF0F8",
            "ticks": ""
           },
           "bgcolor": "white",
           "radialaxis": {
            "gridcolor": "#EBF0F8",
            "linecolor": "#EBF0F8",
            "ticks": ""
           }
          },
          "scene": {
           "xaxis": {
            "backgroundcolor": "white",
            "gridcolor": "#DFE8F3",
            "gridwidth": 2,
            "linecolor": "#EBF0F8",
            "showbackground": true,
            "ticks": "",
            "zerolinecolor": "#EBF0F8"
           },
           "yaxis": {
            "backgroundcolor": "white",
            "gridcolor": "#DFE8F3",
            "gridwidth": 2,
            "linecolor": "#EBF0F8",
            "showbackground": true,
            "ticks": "",
            "zerolinecolor": "#EBF0F8"
           },
           "zaxis": {
            "backgroundcolor": "white",
            "gridcolor": "#DFE8F3",
            "gridwidth": 2,
            "linecolor": "#EBF0F8",
            "showbackground": true,
            "ticks": "",
            "zerolinecolor": "#EBF0F8"
           }
          },
          "shapedefaults": {
           "line": {
            "color": "#2a3f5f"
           }
          },
          "ternary": {
           "aaxis": {
            "gridcolor": "#DFE8F3",
            "linecolor": "#A2B1C6",
            "ticks": ""
           },
           "baxis": {
            "gridcolor": "#DFE8F3",
            "linecolor": "#A2B1C6",
            "ticks": ""
           },
           "bgcolor": "white",
           "caxis": {
            "gridcolor": "#DFE8F3",
            "linecolor": "#A2B1C6",
            "ticks": ""
           }
          },
          "title": {
           "x": 0.05
          },
          "xaxis": {
           "automargin": true,
           "gridcolor": "#EBF0F8",
           "linecolor": "#EBF0F8",
           "ticks": "",
           "title": {
            "standoff": 15
           },
           "zerolinecolor": "#EBF0F8",
           "zerolinewidth": 2
          },
          "yaxis": {
           "automargin": true,
           "gridcolor": "#EBF0F8",
           "linecolor": "#EBF0F8",
           "ticks": "",
           "title": {
            "standoff": 15
           },
           "zerolinecolor": "#EBF0F8",
           "zerolinewidth": 2
          }
         }
        },
        "xaxis": {
         "anchor": "y",
         "domain": [
          0,
          1
         ],
         "title": {
          "text": "acousticness"
         }
        },
        "yaxis": {
         "anchor": "x",
         "domain": [
          0,
          1
         ],
         "title": {
          "text": "count"
         }
        }
       }
      }
     },
     "metadata": {},
     "output_type": "display_data"
    }
   ],
   "source": [
    "fig = px.histogram(feature_df, x=\"acousticness\")\n",
    "fig.show()"
   ]
  },
  {
   "cell_type": "code",
   "execution_count": 76,
   "metadata": {},
   "outputs": [
    {
     "data": {
      "application/vnd.plotly.v1+json": {
       "config": {
        "plotlyServerURL": "https://plot.ly"
       },
       "data": [
        {
         "alignmentgroup": "True",
         "bingroup": "x",
         "hovertemplate": "valence=%{x}<br>count=%{y}<extra></extra>",
         "legendgroup": "",
         "marker": {
          "color": "#636efa",
          "pattern": {
           "shape": ""
          }
         },
         "name": "",
         "offsetgroup": "",
         "orientation": "v",
         "showlegend": false,
         "type": "histogram",
         "x": [
          0.122,
          0.0683,
          0.314,
          0.273,
          0.378,
          0.452,
          0.164,
          0.355,
          0.371,
          0.354,
          0.0709,
          0.208,
          0.176,
          0.771,
          0.439,
          0.167,
          0.452,
          0.427,
          0.206,
          0.0436,
          0.525,
          0.172,
          0.152,
          0.323,
          0.882,
          0.073,
          0.787,
          0.566,
          0.695,
          0.227,
          0.22,
          0.389,
          0.238,
          0.551,
          0.19,
          0.211,
          0.703,
          0.666,
          0.208,
          0.508,
          0.0759,
          0.613,
          0.0873,
          0.74,
          0.111,
          0.123,
          0.149,
          0.368,
          0.078,
          0.135,
          0.109,
          0.104,
          0.549,
          0.263,
          0.259,
          0.142,
          0.407,
          0.189,
          0.317,
          0.164,
          0.204,
          0.0852,
          0.00001,
          0.601,
          0.0774,
          0.161,
          0.101,
          0.0749,
          0.105,
          0.336,
          0.181,
          0.394,
          0.597,
          0.489,
          0.416,
          0.458,
          0.0472,
          0.373,
          0.168,
          0.63,
          0.642,
          0.549,
          0.171,
          0.906,
          0.12,
          0.318,
          0.567,
          0.466,
          0.698,
          0.89,
          0.339,
          0.367,
          0.151,
          0.636,
          0.0969,
          0.134,
          0.145,
          0.608,
          0.0966,
          0.187
         ],
         "xaxis": "x",
         "yaxis": "y"
        }
       ],
       "layout": {
        "barmode": "relative",
        "legend": {
         "tracegroupgap": 0
        },
        "margin": {
         "t": 60
        },
        "template": {
         "data": {
          "bar": [
           {
            "error_x": {
             "color": "#2a3f5f"
            },
            "error_y": {
             "color": "#2a3f5f"
            },
            "marker": {
             "line": {
              "color": "white",
              "width": 0.5
             },
             "pattern": {
              "fillmode": "overlay",
              "size": 10,
              "solidity": 0.2
             }
            },
            "type": "bar"
           }
          ],
          "barpolar": [
           {
            "marker": {
             "line": {
              "color": "white",
              "width": 0.5
             },
             "pattern": {
              "fillmode": "overlay",
              "size": 10,
              "solidity": 0.2
             }
            },
            "type": "barpolar"
           }
          ],
          "carpet": [
           {
            "aaxis": {
             "endlinecolor": "#2a3f5f",
             "gridcolor": "#C8D4E3",
             "linecolor": "#C8D4E3",
             "minorgridcolor": "#C8D4E3",
             "startlinecolor": "#2a3f5f"
            },
            "baxis": {
             "endlinecolor": "#2a3f5f",
             "gridcolor": "#C8D4E3",
             "linecolor": "#C8D4E3",
             "minorgridcolor": "#C8D4E3",
             "startlinecolor": "#2a3f5f"
            },
            "type": "carpet"
           }
          ],
          "choropleth": [
           {
            "colorbar": {
             "outlinewidth": 0,
             "ticks": ""
            },
            "type": "choropleth"
           }
          ],
          "contour": [
           {
            "colorbar": {
             "outlinewidth": 0,
             "ticks": ""
            },
            "colorscale": [
             [
              0,
              "#0d0887"
             ],
             [
              0.1111111111111111,
              "#46039f"
             ],
             [
              0.2222222222222222,
              "#7201a8"
             ],
             [
              0.3333333333333333,
              "#9c179e"
             ],
             [
              0.4444444444444444,
              "#bd3786"
             ],
             [
              0.5555555555555556,
              "#d8576b"
             ],
             [
              0.6666666666666666,
              "#ed7953"
             ],
             [
              0.7777777777777778,
              "#fb9f3a"
             ],
             [
              0.8888888888888888,
              "#fdca26"
             ],
             [
              1,
              "#f0f921"
             ]
            ],
            "type": "contour"
           }
          ],
          "contourcarpet": [
           {
            "colorbar": {
             "outlinewidth": 0,
             "ticks": ""
            },
            "type": "contourcarpet"
           }
          ],
          "heatmap": [
           {
            "colorbar": {
             "outlinewidth": 0,
             "ticks": ""
            },
            "colorscale": [
             [
              0,
              "#0d0887"
             ],
             [
              0.1111111111111111,
              "#46039f"
             ],
             [
              0.2222222222222222,
              "#7201a8"
             ],
             [
              0.3333333333333333,
              "#9c179e"
             ],
             [
              0.4444444444444444,
              "#bd3786"
             ],
             [
              0.5555555555555556,
              "#d8576b"
             ],
             [
              0.6666666666666666,
              "#ed7953"
             ],
             [
              0.7777777777777778,
              "#fb9f3a"
             ],
             [
              0.8888888888888888,
              "#fdca26"
             ],
             [
              1,
              "#f0f921"
             ]
            ],
            "type": "heatmap"
           }
          ],
          "heatmapgl": [
           {
            "colorbar": {
             "outlinewidth": 0,
             "ticks": ""
            },
            "colorscale": [
             [
              0,
              "#0d0887"
             ],
             [
              0.1111111111111111,
              "#46039f"
             ],
             [
              0.2222222222222222,
              "#7201a8"
             ],
             [
              0.3333333333333333,
              "#9c179e"
             ],
             [
              0.4444444444444444,
              "#bd3786"
             ],
             [
              0.5555555555555556,
              "#d8576b"
             ],
             [
              0.6666666666666666,
              "#ed7953"
             ],
             [
              0.7777777777777778,
              "#fb9f3a"
             ],
             [
              0.8888888888888888,
              "#fdca26"
             ],
             [
              1,
              "#f0f921"
             ]
            ],
            "type": "heatmapgl"
           }
          ],
          "histogram": [
           {
            "marker": {
             "pattern": {
              "fillmode": "overlay",
              "size": 10,
              "solidity": 0.2
             }
            },
            "type": "histogram"
           }
          ],
          "histogram2d": [
           {
            "colorbar": {
             "outlinewidth": 0,
             "ticks": ""
            },
            "colorscale": [
             [
              0,
              "#0d0887"
             ],
             [
              0.1111111111111111,
              "#46039f"
             ],
             [
              0.2222222222222222,
              "#7201a8"
             ],
             [
              0.3333333333333333,
              "#9c179e"
             ],
             [
              0.4444444444444444,
              "#bd3786"
             ],
             [
              0.5555555555555556,
              "#d8576b"
             ],
             [
              0.6666666666666666,
              "#ed7953"
             ],
             [
              0.7777777777777778,
              "#fb9f3a"
             ],
             [
              0.8888888888888888,
              "#fdca26"
             ],
             [
              1,
              "#f0f921"
             ]
            ],
            "type": "histogram2d"
           }
          ],
          "histogram2dcontour": [
           {
            "colorbar": {
             "outlinewidth": 0,
             "ticks": ""
            },
            "colorscale": [
             [
              0,
              "#0d0887"
             ],
             [
              0.1111111111111111,
              "#46039f"
             ],
             [
              0.2222222222222222,
              "#7201a8"
             ],
             [
              0.3333333333333333,
              "#9c179e"
             ],
             [
              0.4444444444444444,
              "#bd3786"
             ],
             [
              0.5555555555555556,
              "#d8576b"
             ],
             [
              0.6666666666666666,
              "#ed7953"
             ],
             [
              0.7777777777777778,
              "#fb9f3a"
             ],
             [
              0.8888888888888888,
              "#fdca26"
             ],
             [
              1,
              "#f0f921"
             ]
            ],
            "type": "histogram2dcontour"
           }
          ],
          "mesh3d": [
           {
            "colorbar": {
             "outlinewidth": 0,
             "ticks": ""
            },
            "type": "mesh3d"
           }
          ],
          "parcoords": [
           {
            "line": {
             "colorbar": {
              "outlinewidth": 0,
              "ticks": ""
             }
            },
            "type": "parcoords"
           }
          ],
          "pie": [
           {
            "automargin": true,
            "type": "pie"
           }
          ],
          "scatter": [
           {
            "fillpattern": {
             "fillmode": "overlay",
             "size": 10,
             "solidity": 0.2
            },
            "type": "scatter"
           }
          ],
          "scatter3d": [
           {
            "line": {
             "colorbar": {
              "outlinewidth": 0,
              "ticks": ""
             }
            },
            "marker": {
             "colorbar": {
              "outlinewidth": 0,
              "ticks": ""
             }
            },
            "type": "scatter3d"
           }
          ],
          "scattercarpet": [
           {
            "marker": {
             "colorbar": {
              "outlinewidth": 0,
              "ticks": ""
             }
            },
            "type": "scattercarpet"
           }
          ],
          "scattergeo": [
           {
            "marker": {
             "colorbar": {
              "outlinewidth": 0,
              "ticks": ""
             }
            },
            "type": "scattergeo"
           }
          ],
          "scattergl": [
           {
            "marker": {
             "colorbar": {
              "outlinewidth": 0,
              "ticks": ""
             }
            },
            "type": "scattergl"
           }
          ],
          "scattermapbox": [
           {
            "marker": {
             "colorbar": {
              "outlinewidth": 0,
              "ticks": ""
             }
            },
            "type": "scattermapbox"
           }
          ],
          "scatterpolar": [
           {
            "marker": {
             "colorbar": {
              "outlinewidth": 0,
              "ticks": ""
             }
            },
            "type": "scatterpolar"
           }
          ],
          "scatterpolargl": [
           {
            "marker": {
             "colorbar": {
              "outlinewidth": 0,
              "ticks": ""
             }
            },
            "type": "scatterpolargl"
           }
          ],
          "scatterternary": [
           {
            "marker": {
             "colorbar": {
              "outlinewidth": 0,
              "ticks": ""
             }
            },
            "type": "scatterternary"
           }
          ],
          "surface": [
           {
            "colorbar": {
             "outlinewidth": 0,
             "ticks": ""
            },
            "colorscale": [
             [
              0,
              "#0d0887"
             ],
             [
              0.1111111111111111,
              "#46039f"
             ],
             [
              0.2222222222222222,
              "#7201a8"
             ],
             [
              0.3333333333333333,
              "#9c179e"
             ],
             [
              0.4444444444444444,
              "#bd3786"
             ],
             [
              0.5555555555555556,
              "#d8576b"
             ],
             [
              0.6666666666666666,
              "#ed7953"
             ],
             [
              0.7777777777777778,
              "#fb9f3a"
             ],
             [
              0.8888888888888888,
              "#fdca26"
             ],
             [
              1,
              "#f0f921"
             ]
            ],
            "type": "surface"
           }
          ],
          "table": [
           {
            "cells": {
             "fill": {
              "color": "#EBF0F8"
             },
             "line": {
              "color": "white"
             }
            },
            "header": {
             "fill": {
              "color": "#C8D4E3"
             },
             "line": {
              "color": "white"
             }
            },
            "type": "table"
           }
          ]
         },
         "layout": {
          "annotationdefaults": {
           "arrowcolor": "#2a3f5f",
           "arrowhead": 0,
           "arrowwidth": 1
          },
          "autotypenumbers": "strict",
          "coloraxis": {
           "colorbar": {
            "outlinewidth": 0,
            "ticks": ""
           }
          },
          "colorscale": {
           "diverging": [
            [
             0,
             "#8e0152"
            ],
            [
             0.1,
             "#c51b7d"
            ],
            [
             0.2,
             "#de77ae"
            ],
            [
             0.3,
             "#f1b6da"
            ],
            [
             0.4,
             "#fde0ef"
            ],
            [
             0.5,
             "#f7f7f7"
            ],
            [
             0.6,
             "#e6f5d0"
            ],
            [
             0.7,
             "#b8e186"
            ],
            [
             0.8,
             "#7fbc41"
            ],
            [
             0.9,
             "#4d9221"
            ],
            [
             1,
             "#276419"
            ]
           ],
           "sequential": [
            [
             0,
             "#0d0887"
            ],
            [
             0.1111111111111111,
             "#46039f"
            ],
            [
             0.2222222222222222,
             "#7201a8"
            ],
            [
             0.3333333333333333,
             "#9c179e"
            ],
            [
             0.4444444444444444,
             "#bd3786"
            ],
            [
             0.5555555555555556,
             "#d8576b"
            ],
            [
             0.6666666666666666,
             "#ed7953"
            ],
            [
             0.7777777777777778,
             "#fb9f3a"
            ],
            [
             0.8888888888888888,
             "#fdca26"
            ],
            [
             1,
             "#f0f921"
            ]
           ],
           "sequentialminus": [
            [
             0,
             "#0d0887"
            ],
            [
             0.1111111111111111,
             "#46039f"
            ],
            [
             0.2222222222222222,
             "#7201a8"
            ],
            [
             0.3333333333333333,
             "#9c179e"
            ],
            [
             0.4444444444444444,
             "#bd3786"
            ],
            [
             0.5555555555555556,
             "#d8576b"
            ],
            [
             0.6666666666666666,
             "#ed7953"
            ],
            [
             0.7777777777777778,
             "#fb9f3a"
            ],
            [
             0.8888888888888888,
             "#fdca26"
            ],
            [
             1,
             "#f0f921"
            ]
           ]
          },
          "colorway": [
           "#636efa",
           "#EF553B",
           "#00cc96",
           "#ab63fa",
           "#FFA15A",
           "#19d3f3",
           "#FF6692",
           "#B6E880",
           "#FF97FF",
           "#FECB52"
          ],
          "font": {
           "color": "#2a3f5f"
          },
          "geo": {
           "bgcolor": "white",
           "lakecolor": "white",
           "landcolor": "white",
           "showlakes": true,
           "showland": true,
           "subunitcolor": "#C8D4E3"
          },
          "hoverlabel": {
           "align": "left"
          },
          "hovermode": "closest",
          "mapbox": {
           "style": "light"
          },
          "paper_bgcolor": "white",
          "plot_bgcolor": "white",
          "polar": {
           "angularaxis": {
            "gridcolor": "#EBF0F8",
            "linecolor": "#EBF0F8",
            "ticks": ""
           },
           "bgcolor": "white",
           "radialaxis": {
            "gridcolor": "#EBF0F8",
            "linecolor": "#EBF0F8",
            "ticks": ""
           }
          },
          "scene": {
           "xaxis": {
            "backgroundcolor": "white",
            "gridcolor": "#DFE8F3",
            "gridwidth": 2,
            "linecolor": "#EBF0F8",
            "showbackground": true,
            "ticks": "",
            "zerolinecolor": "#EBF0F8"
           },
           "yaxis": {
            "backgroundcolor": "white",
            "gridcolor": "#DFE8F3",
            "gridwidth": 2,
            "linecolor": "#EBF0F8",
            "showbackground": true,
            "ticks": "",
            "zerolinecolor": "#EBF0F8"
           },
           "zaxis": {
            "backgroundcolor": "white",
            "gridcolor": "#DFE8F3",
            "gridwidth": 2,
            "linecolor": "#EBF0F8",
            "showbackground": true,
            "ticks": "",
            "zerolinecolor": "#EBF0F8"
           }
          },
          "shapedefaults": {
           "line": {
            "color": "#2a3f5f"
           }
          },
          "ternary": {
           "aaxis": {
            "gridcolor": "#DFE8F3",
            "linecolor": "#A2B1C6",
            "ticks": ""
           },
           "baxis": {
            "gridcolor": "#DFE8F3",
            "linecolor": "#A2B1C6",
            "ticks": ""
           },
           "bgcolor": "white",
           "caxis": {
            "gridcolor": "#DFE8F3",
            "linecolor": "#A2B1C6",
            "ticks": ""
           }
          },
          "title": {
           "x": 0.05
          },
          "xaxis": {
           "automargin": true,
           "gridcolor": "#EBF0F8",
           "linecolor": "#EBF0F8",
           "ticks": "",
           "title": {
            "standoff": 15
           },
           "zerolinecolor": "#EBF0F8",
           "zerolinewidth": 2
          },
          "yaxis": {
           "automargin": true,
           "gridcolor": "#EBF0F8",
           "linecolor": "#EBF0F8",
           "ticks": "",
           "title": {
            "standoff": 15
           },
           "zerolinecolor": "#EBF0F8",
           "zerolinewidth": 2
          }
         }
        },
        "xaxis": {
         "anchor": "y",
         "domain": [
          0,
          1
         ],
         "title": {
          "text": "valence"
         }
        },
        "yaxis": {
         "anchor": "x",
         "domain": [
          0,
          1
         ],
         "title": {
          "text": "count"
         }
        }
       }
      }
     },
     "metadata": {},
     "output_type": "display_data"
    }
   ],
   "source": [
    "fig = px.histogram(feature_df, x=\"valence\")\n",
    "fig.show()"
   ]
  },
  {
   "cell_type": "code",
   "execution_count": 77,
   "metadata": {},
   "outputs": [
    {
     "data": {
      "application/vnd.plotly.v1+json": {
       "config": {
        "plotlyServerURL": "https://plot.ly"
       },
       "data": [
        {
         "alignmentgroup": "True",
         "bingroup": "x",
         "hovertemplate": "tempo=%{x}<br>count=%{y}<extra></extra>",
         "legendgroup": "",
         "marker": {
          "color": "#636efa",
          "pattern": {
           "shape": ""
          }
         },
         "name": "",
         "offsetgroup": "",
         "orientation": "v",
         "showlegend": false,
         "type": "histogram",
         "x": [
          81.116,
          91.116,
          131.309,
          120.013,
          81.995,
          80.099,
          123.344,
          119.686,
          98.29,
          120.129,
          130.233,
          158.259,
          180.52,
          196.567,
          161.368,
          128.378,
          88.537,
          98.018,
          80.082,
          113.87,
          137.544,
          103.057,
          100.363,
          125.321,
          86.576,
          181.164,
          145.254,
          110.668,
          140.72,
          180.027,
          111.96,
          131.074,
          95.92,
          81.833,
          102.026,
          126.914,
          106.175,
          90.565,
          150.005,
          133.629,
          121.987,
          129.774,
          132.829,
          159.969,
          84.733,
          138.023,
          115.873,
          96.685,
          114.897,
          128.894,
          76.366,
          136.568,
          159.94,
          88.496,
          90.005,
          90.057,
          76.03,
          103.974,
          140.092,
          143.851,
          108.741,
          139.814,
          95.294,
          147.067,
          137.027,
          125.984,
          55.904,
          69.791,
          69.929,
          120.572,
          77.985,
          144.582,
          126.019,
          80.401,
          99.961,
          129.93,
          120.091,
          105.362,
          121.558,
          112.025,
          121.834,
          159.94,
          100.031,
          120.015,
          145.917,
          89.124,
          148,
          116.408,
          81.442,
          141.967,
          139.948,
          125.403,
          97.767,
          111.563,
          115.957,
          77.002,
          92.689,
          80.169,
          96.698,
          117.316
         ],
         "xaxis": "x",
         "yaxis": "y"
        }
       ],
       "layout": {
        "barmode": "relative",
        "legend": {
         "tracegroupgap": 0
        },
        "margin": {
         "t": 60
        },
        "template": {
         "data": {
          "bar": [
           {
            "error_x": {
             "color": "#2a3f5f"
            },
            "error_y": {
             "color": "#2a3f5f"
            },
            "marker": {
             "line": {
              "color": "white",
              "width": 0.5
             },
             "pattern": {
              "fillmode": "overlay",
              "size": 10,
              "solidity": 0.2
             }
            },
            "type": "bar"
           }
          ],
          "barpolar": [
           {
            "marker": {
             "line": {
              "color": "white",
              "width": 0.5
             },
             "pattern": {
              "fillmode": "overlay",
              "size": 10,
              "solidity": 0.2
             }
            },
            "type": "barpolar"
           }
          ],
          "carpet": [
           {
            "aaxis": {
             "endlinecolor": "#2a3f5f",
             "gridcolor": "#C8D4E3",
             "linecolor": "#C8D4E3",
             "minorgridcolor": "#C8D4E3",
             "startlinecolor": "#2a3f5f"
            },
            "baxis": {
             "endlinecolor": "#2a3f5f",
             "gridcolor": "#C8D4E3",
             "linecolor": "#C8D4E3",
             "minorgridcolor": "#C8D4E3",
             "startlinecolor": "#2a3f5f"
            },
            "type": "carpet"
           }
          ],
          "choropleth": [
           {
            "colorbar": {
             "outlinewidth": 0,
             "ticks": ""
            },
            "type": "choropleth"
           }
          ],
          "contour": [
           {
            "colorbar": {
             "outlinewidth": 0,
             "ticks": ""
            },
            "colorscale": [
             [
              0,
              "#0d0887"
             ],
             [
              0.1111111111111111,
              "#46039f"
             ],
             [
              0.2222222222222222,
              "#7201a8"
             ],
             [
              0.3333333333333333,
              "#9c179e"
             ],
             [
              0.4444444444444444,
              "#bd3786"
             ],
             [
              0.5555555555555556,
              "#d8576b"
             ],
             [
              0.6666666666666666,
              "#ed7953"
             ],
             [
              0.7777777777777778,
              "#fb9f3a"
             ],
             [
              0.8888888888888888,
              "#fdca26"
             ],
             [
              1,
              "#f0f921"
             ]
            ],
            "type": "contour"
           }
          ],
          "contourcarpet": [
           {
            "colorbar": {
             "outlinewidth": 0,
             "ticks": ""
            },
            "type": "contourcarpet"
           }
          ],
          "heatmap": [
           {
            "colorbar": {
             "outlinewidth": 0,
             "ticks": ""
            },
            "colorscale": [
             [
              0,
              "#0d0887"
             ],
             [
              0.1111111111111111,
              "#46039f"
             ],
             [
              0.2222222222222222,
              "#7201a8"
             ],
             [
              0.3333333333333333,
              "#9c179e"
             ],
             [
              0.4444444444444444,
              "#bd3786"
             ],
             [
              0.5555555555555556,
              "#d8576b"
             ],
             [
              0.6666666666666666,
              "#ed7953"
             ],
             [
              0.7777777777777778,
              "#fb9f3a"
             ],
             [
              0.8888888888888888,
              "#fdca26"
             ],
             [
              1,
              "#f0f921"
             ]
            ],
            "type": "heatmap"
           }
          ],
          "heatmapgl": [
           {
            "colorbar": {
             "outlinewidth": 0,
             "ticks": ""
            },
            "colorscale": [
             [
              0,
              "#0d0887"
             ],
             [
              0.1111111111111111,
              "#46039f"
             ],
             [
              0.2222222222222222,
              "#7201a8"
             ],
             [
              0.3333333333333333,
              "#9c179e"
             ],
             [
              0.4444444444444444,
              "#bd3786"
             ],
             [
              0.5555555555555556,
              "#d8576b"
             ],
             [
              0.6666666666666666,
              "#ed7953"
             ],
             [
              0.7777777777777778,
              "#fb9f3a"
             ],
             [
              0.8888888888888888,
              "#fdca26"
             ],
             [
              1,
              "#f0f921"
             ]
            ],
            "type": "heatmapgl"
           }
          ],
          "histogram": [
           {
            "marker": {
             "pattern": {
              "fillmode": "overlay",
              "size": 10,
              "solidity": 0.2
             }
            },
            "type": "histogram"
           }
          ],
          "histogram2d": [
           {
            "colorbar": {
             "outlinewidth": 0,
             "ticks": ""
            },
            "colorscale": [
             [
              0,
              "#0d0887"
             ],
             [
              0.1111111111111111,
              "#46039f"
             ],
             [
              0.2222222222222222,
              "#7201a8"
             ],
             [
              0.3333333333333333,
              "#9c179e"
             ],
             [
              0.4444444444444444,
              "#bd3786"
             ],
             [
              0.5555555555555556,
              "#d8576b"
             ],
             [
              0.6666666666666666,
              "#ed7953"
             ],
             [
              0.7777777777777778,
              "#fb9f3a"
             ],
             [
              0.8888888888888888,
              "#fdca26"
             ],
             [
              1,
              "#f0f921"
             ]
            ],
            "type": "histogram2d"
           }
          ],
          "histogram2dcontour": [
           {
            "colorbar": {
             "outlinewidth": 0,
             "ticks": ""
            },
            "colorscale": [
             [
              0,
              "#0d0887"
             ],
             [
              0.1111111111111111,
              "#46039f"
             ],
             [
              0.2222222222222222,
              "#7201a8"
             ],
             [
              0.3333333333333333,
              "#9c179e"
             ],
             [
              0.4444444444444444,
              "#bd3786"
             ],
             [
              0.5555555555555556,
              "#d8576b"
             ],
             [
              0.6666666666666666,
              "#ed7953"
             ],
             [
              0.7777777777777778,
              "#fb9f3a"
             ],
             [
              0.8888888888888888,
              "#fdca26"
             ],
             [
              1,
              "#f0f921"
             ]
            ],
            "type": "histogram2dcontour"
           }
          ],
          "mesh3d": [
           {
            "colorbar": {
             "outlinewidth": 0,
             "ticks": ""
            },
            "type": "mesh3d"
           }
          ],
          "parcoords": [
           {
            "line": {
             "colorbar": {
              "outlinewidth": 0,
              "ticks": ""
             }
            },
            "type": "parcoords"
           }
          ],
          "pie": [
           {
            "automargin": true,
            "type": "pie"
           }
          ],
          "scatter": [
           {
            "fillpattern": {
             "fillmode": "overlay",
             "size": 10,
             "solidity": 0.2
            },
            "type": "scatter"
           }
          ],
          "scatter3d": [
           {
            "line": {
             "colorbar": {
              "outlinewidth": 0,
              "ticks": ""
             }
            },
            "marker": {
             "colorbar": {
              "outlinewidth": 0,
              "ticks": ""
             }
            },
            "type": "scatter3d"
           }
          ],
          "scattercarpet": [
           {
            "marker": {
             "colorbar": {
              "outlinewidth": 0,
              "ticks": ""
             }
            },
            "type": "scattercarpet"
           }
          ],
          "scattergeo": [
           {
            "marker": {
             "colorbar": {
              "outlinewidth": 0,
              "ticks": ""
             }
            },
            "type": "scattergeo"
           }
          ],
          "scattergl": [
           {
            "marker": {
             "colorbar": {
              "outlinewidth": 0,
              "ticks": ""
             }
            },
            "type": "scattergl"
           }
          ],
          "scattermapbox": [
           {
            "marker": {
             "colorbar": {
              "outlinewidth": 0,
              "ticks": ""
             }
            },
            "type": "scattermapbox"
           }
          ],
          "scatterpolar": [
           {
            "marker": {
             "colorbar": {
              "outlinewidth": 0,
              "ticks": ""
             }
            },
            "type": "scatterpolar"
           }
          ],
          "scatterpolargl": [
           {
            "marker": {
             "colorbar": {
              "outlinewidth": 0,
              "ticks": ""
             }
            },
            "type": "scatterpolargl"
           }
          ],
          "scatterternary": [
           {
            "marker": {
             "colorbar": {
              "outlinewidth": 0,
              "ticks": ""
             }
            },
            "type": "scatterternary"
           }
          ],
          "surface": [
           {
            "colorbar": {
             "outlinewidth": 0,
             "ticks": ""
            },
            "colorscale": [
             [
              0,
              "#0d0887"
             ],
             [
              0.1111111111111111,
              "#46039f"
             ],
             [
              0.2222222222222222,
              "#7201a8"
             ],
             [
              0.3333333333333333,
              "#9c179e"
             ],
             [
              0.4444444444444444,
              "#bd3786"
             ],
             [
              0.5555555555555556,
              "#d8576b"
             ],
             [
              0.6666666666666666,
              "#ed7953"
             ],
             [
              0.7777777777777778,
              "#fb9f3a"
             ],
             [
              0.8888888888888888,
              "#fdca26"
             ],
             [
              1,
              "#f0f921"
             ]
            ],
            "type": "surface"
           }
          ],
          "table": [
           {
            "cells": {
             "fill": {
              "color": "#EBF0F8"
             },
             "line": {
              "color": "white"
             }
            },
            "header": {
             "fill": {
              "color": "#C8D4E3"
             },
             "line": {
              "color": "white"
             }
            },
            "type": "table"
           }
          ]
         },
         "layout": {
          "annotationdefaults": {
           "arrowcolor": "#2a3f5f",
           "arrowhead": 0,
           "arrowwidth": 1
          },
          "autotypenumbers": "strict",
          "coloraxis": {
           "colorbar": {
            "outlinewidth": 0,
            "ticks": ""
           }
          },
          "colorscale": {
           "diverging": [
            [
             0,
             "#8e0152"
            ],
            [
             0.1,
             "#c51b7d"
            ],
            [
             0.2,
             "#de77ae"
            ],
            [
             0.3,
             "#f1b6da"
            ],
            [
             0.4,
             "#fde0ef"
            ],
            [
             0.5,
             "#f7f7f7"
            ],
            [
             0.6,
             "#e6f5d0"
            ],
            [
             0.7,
             "#b8e186"
            ],
            [
             0.8,
             "#7fbc41"
            ],
            [
             0.9,
             "#4d9221"
            ],
            [
             1,
             "#276419"
            ]
           ],
           "sequential": [
            [
             0,
             "#0d0887"
            ],
            [
             0.1111111111111111,
             "#46039f"
            ],
            [
             0.2222222222222222,
             "#7201a8"
            ],
            [
             0.3333333333333333,
             "#9c179e"
            ],
            [
             0.4444444444444444,
             "#bd3786"
            ],
            [
             0.5555555555555556,
             "#d8576b"
            ],
            [
             0.6666666666666666,
             "#ed7953"
            ],
            [
             0.7777777777777778,
             "#fb9f3a"
            ],
            [
             0.8888888888888888,
             "#fdca26"
            ],
            [
             1,
             "#f0f921"
            ]
           ],
           "sequentialminus": [
            [
             0,
             "#0d0887"
            ],
            [
             0.1111111111111111,
             "#46039f"
            ],
            [
             0.2222222222222222,
             "#7201a8"
            ],
            [
             0.3333333333333333,
             "#9c179e"
            ],
            [
             0.4444444444444444,
             "#bd3786"
            ],
            [
             0.5555555555555556,
             "#d8576b"
            ],
            [
             0.6666666666666666,
             "#ed7953"
            ],
            [
             0.7777777777777778,
             "#fb9f3a"
            ],
            [
             0.8888888888888888,
             "#fdca26"
            ],
            [
             1,
             "#f0f921"
            ]
           ]
          },
          "colorway": [
           "#636efa",
           "#EF553B",
           "#00cc96",
           "#ab63fa",
           "#FFA15A",
           "#19d3f3",
           "#FF6692",
           "#B6E880",
           "#FF97FF",
           "#FECB52"
          ],
          "font": {
           "color": "#2a3f5f"
          },
          "geo": {
           "bgcolor": "white",
           "lakecolor": "white",
           "landcolor": "white",
           "showlakes": true,
           "showland": true,
           "subunitcolor": "#C8D4E3"
          },
          "hoverlabel": {
           "align": "left"
          },
          "hovermode": "closest",
          "mapbox": {
           "style": "light"
          },
          "paper_bgcolor": "white",
          "plot_bgcolor": "white",
          "polar": {
           "angularaxis": {
            "gridcolor": "#EBF0F8",
            "linecolor": "#EBF0F8",
            "ticks": ""
           },
           "bgcolor": "white",
           "radialaxis": {
            "gridcolor": "#EBF0F8",
            "linecolor": "#EBF0F8",
            "ticks": ""
           }
          },
          "scene": {
           "xaxis": {
            "backgroundcolor": "white",
            "gridcolor": "#DFE8F3",
            "gridwidth": 2,
            "linecolor": "#EBF0F8",
            "showbackground": true,
            "ticks": "",
            "zerolinecolor": "#EBF0F8"
           },
           "yaxis": {
            "backgroundcolor": "white",
            "gridcolor": "#DFE8F3",
            "gridwidth": 2,
            "linecolor": "#EBF0F8",
            "showbackground": true,
            "ticks": "",
            "zerolinecolor": "#EBF0F8"
           },
           "zaxis": {
            "backgroundcolor": "white",
            "gridcolor": "#DFE8F3",
            "gridwidth": 2,
            "linecolor": "#EBF0F8",
            "showbackground": true,
            "ticks": "",
            "zerolinecolor": "#EBF0F8"
           }
          },
          "shapedefaults": {
           "line": {
            "color": "#2a3f5f"
           }
          },
          "ternary": {
           "aaxis": {
            "gridcolor": "#DFE8F3",
            "linecolor": "#A2B1C6",
            "ticks": ""
           },
           "baxis": {
            "gridcolor": "#DFE8F3",
            "linecolor": "#A2B1C6",
            "ticks": ""
           },
           "bgcolor": "white",
           "caxis": {
            "gridcolor": "#DFE8F3",
            "linecolor": "#A2B1C6",
            "ticks": ""
           }
          },
          "title": {
           "x": 0.05
          },
          "xaxis": {
           "automargin": true,
           "gridcolor": "#EBF0F8",
           "linecolor": "#EBF0F8",
           "ticks": "",
           "title": {
            "standoff": 15
           },
           "zerolinecolor": "#EBF0F8",
           "zerolinewidth": 2
          },
          "yaxis": {
           "automargin": true,
           "gridcolor": "#EBF0F8",
           "linecolor": "#EBF0F8",
           "ticks": "",
           "title": {
            "standoff": 15
           },
           "zerolinecolor": "#EBF0F8",
           "zerolinewidth": 2
          }
         }
        },
        "xaxis": {
         "anchor": "y",
         "domain": [
          0,
          1
         ],
         "title": {
          "text": "tempo"
         }
        },
        "yaxis": {
         "anchor": "x",
         "domain": [
          0,
          1
         ],
         "title": {
          "text": "count"
         }
        }
       }
      }
     },
     "metadata": {},
     "output_type": "display_data"
    }
   ],
   "source": [
    "fig = px.histogram(feature_df, x=\"tempo\")\n",
    "fig.show()"
   ]
  },
  {
   "cell_type": "code",
   "execution_count": 79,
   "metadata": {},
   "outputs": [
    {
     "data": {
      "application/vnd.plotly.v1+json": {
       "config": {
        "plotlyServerURL": "https://plot.ly"
       },
       "data": [
        {
         "alignmentgroup": "True",
         "bingroup": "x",
         "hovertemplate": "speechiness=%{x}<br>count=%{y}<extra></extra>",
         "legendgroup": "",
         "marker": {
          "color": "#636efa",
          "pattern": {
           "shape": ""
          }
         },
         "name": "",
         "offsetgroup": "",
         "orientation": "v",
         "showlegend": false,
         "type": "histogram",
         "x": [
          0.0358,
          0.0452,
          0.0286,
          0.0286,
          0.0742,
          0.0321,
          0.0327,
          0.261,
          0.0259,
          0.0317,
          0.0315,
          0.0292,
          0.196,
          0.0546,
          0.0378,
          0.0342,
          0.112,
          0.0244,
          0.0721,
          0.0296,
          0.273,
          0.0518,
          0.027,
          0.0926,
          0.18,
          0.0395,
          0.157,
          0.036,
          0.474,
          0.0666,
          0.0335,
          0.0378,
          0.0345,
          0.0409,
          0.0345,
          0.0324,
          0.263,
          0.036,
          0.243,
          0.0615,
          0.0311,
          0.0611,
          0.0328,
          0.255,
          0.109,
          0.0857,
          0.0851,
          0.0276,
          0.0355,
          0.0466,
          0.0568,
          0.0587,
          0.107,
          0.0264,
          0.0442,
          0.0299,
          0.0381,
          0.0372,
          0.219,
          0.0544,
          0.0433,
          0.0416,
          0.0725,
          0.0297,
          0.14,
          0.0285,
          0.0412,
          0.0319,
          0.0405,
          0.14,
          0.0294,
          0.129,
          0.0462,
          0.0421,
          0.0929,
          0.0582,
          0.0517,
          0.0391,
          0.0444,
          0.0274,
          0.0386,
          0.107,
          0.034,
          0.063,
          0.0407,
          0.0315,
          0.0336,
          0.037,
          0.0302,
          0.0344,
          0.0552,
          0.0387,
          0.442,
          0.0311,
          0.0483,
          0.0298,
          0.0581,
          0.141,
          0.0305,
          0.0715
         ],
         "xaxis": "x",
         "yaxis": "y"
        }
       ],
       "layout": {
        "barmode": "relative",
        "legend": {
         "tracegroupgap": 0
        },
        "margin": {
         "t": 60
        },
        "template": {
         "data": {
          "bar": [
           {
            "error_x": {
             "color": "#2a3f5f"
            },
            "error_y": {
             "color": "#2a3f5f"
            },
            "marker": {
             "line": {
              "color": "white",
              "width": 0.5
             },
             "pattern": {
              "fillmode": "overlay",
              "size": 10,
              "solidity": 0.2
             }
            },
            "type": "bar"
           }
          ],
          "barpolar": [
           {
            "marker": {
             "line": {
              "color": "white",
              "width": 0.5
             },
             "pattern": {
              "fillmode": "overlay",
              "size": 10,
              "solidity": 0.2
             }
            },
            "type": "barpolar"
           }
          ],
          "carpet": [
           {
            "aaxis": {
             "endlinecolor": "#2a3f5f",
             "gridcolor": "#C8D4E3",
             "linecolor": "#C8D4E3",
             "minorgridcolor": "#C8D4E3",
             "startlinecolor": "#2a3f5f"
            },
            "baxis": {
             "endlinecolor": "#2a3f5f",
             "gridcolor": "#C8D4E3",
             "linecolor": "#C8D4E3",
             "minorgridcolor": "#C8D4E3",
             "startlinecolor": "#2a3f5f"
            },
            "type": "carpet"
           }
          ],
          "choropleth": [
           {
            "colorbar": {
             "outlinewidth": 0,
             "ticks": ""
            },
            "type": "choropleth"
           }
          ],
          "contour": [
           {
            "colorbar": {
             "outlinewidth": 0,
             "ticks": ""
            },
            "colorscale": [
             [
              0,
              "#0d0887"
             ],
             [
              0.1111111111111111,
              "#46039f"
             ],
             [
              0.2222222222222222,
              "#7201a8"
             ],
             [
              0.3333333333333333,
              "#9c179e"
             ],
             [
              0.4444444444444444,
              "#bd3786"
             ],
             [
              0.5555555555555556,
              "#d8576b"
             ],
             [
              0.6666666666666666,
              "#ed7953"
             ],
             [
              0.7777777777777778,
              "#fb9f3a"
             ],
             [
              0.8888888888888888,
              "#fdca26"
             ],
             [
              1,
              "#f0f921"
             ]
            ],
            "type": "contour"
           }
          ],
          "contourcarpet": [
           {
            "colorbar": {
             "outlinewidth": 0,
             "ticks": ""
            },
            "type": "contourcarpet"
           }
          ],
          "heatmap": [
           {
            "colorbar": {
             "outlinewidth": 0,
             "ticks": ""
            },
            "colorscale": [
             [
              0,
              "#0d0887"
             ],
             [
              0.1111111111111111,
              "#46039f"
             ],
             [
              0.2222222222222222,
              "#7201a8"
             ],
             [
              0.3333333333333333,
              "#9c179e"
             ],
             [
              0.4444444444444444,
              "#bd3786"
             ],
             [
              0.5555555555555556,
              "#d8576b"
             ],
             [
              0.6666666666666666,
              "#ed7953"
             ],
             [
              0.7777777777777778,
              "#fb9f3a"
             ],
             [
              0.8888888888888888,
              "#fdca26"
             ],
             [
              1,
              "#f0f921"
             ]
            ],
            "type": "heatmap"
           }
          ],
          "heatmapgl": [
           {
            "colorbar": {
             "outlinewidth": 0,
             "ticks": ""
            },
            "colorscale": [
             [
              0,
              "#0d0887"
             ],
             [
              0.1111111111111111,
              "#46039f"
             ],
             [
              0.2222222222222222,
              "#7201a8"
             ],
             [
              0.3333333333333333,
              "#9c179e"
             ],
             [
              0.4444444444444444,
              "#bd3786"
             ],
             [
              0.5555555555555556,
              "#d8576b"
             ],
             [
              0.6666666666666666,
              "#ed7953"
             ],
             [
              0.7777777777777778,
              "#fb9f3a"
             ],
             [
              0.8888888888888888,
              "#fdca26"
             ],
             [
              1,
              "#f0f921"
             ]
            ],
            "type": "heatmapgl"
           }
          ],
          "histogram": [
           {
            "marker": {
             "pattern": {
              "fillmode": "overlay",
              "size": 10,
              "solidity": 0.2
             }
            },
            "type": "histogram"
           }
          ],
          "histogram2d": [
           {
            "colorbar": {
             "outlinewidth": 0,
             "ticks": ""
            },
            "colorscale": [
             [
              0,
              "#0d0887"
             ],
             [
              0.1111111111111111,
              "#46039f"
             ],
             [
              0.2222222222222222,
              "#7201a8"
             ],
             [
              0.3333333333333333,
              "#9c179e"
             ],
             [
              0.4444444444444444,
              "#bd3786"
             ],
             [
              0.5555555555555556,
              "#d8576b"
             ],
             [
              0.6666666666666666,
              "#ed7953"
             ],
             [
              0.7777777777777778,
              "#fb9f3a"
             ],
             [
              0.8888888888888888,
              "#fdca26"
             ],
             [
              1,
              "#f0f921"
             ]
            ],
            "type": "histogram2d"
           }
          ],
          "histogram2dcontour": [
           {
            "colorbar": {
             "outlinewidth": 0,
             "ticks": ""
            },
            "colorscale": [
             [
              0,
              "#0d0887"
             ],
             [
              0.1111111111111111,
              "#46039f"
             ],
             [
              0.2222222222222222,
              "#7201a8"
             ],
             [
              0.3333333333333333,
              "#9c179e"
             ],
             [
              0.4444444444444444,
              "#bd3786"
             ],
             [
              0.5555555555555556,
              "#d8576b"
             ],
             [
              0.6666666666666666,
              "#ed7953"
             ],
             [
              0.7777777777777778,
              "#fb9f3a"
             ],
             [
              0.8888888888888888,
              "#fdca26"
             ],
             [
              1,
              "#f0f921"
             ]
            ],
            "type": "histogram2dcontour"
           }
          ],
          "mesh3d": [
           {
            "colorbar": {
             "outlinewidth": 0,
             "ticks": ""
            },
            "type": "mesh3d"
           }
          ],
          "parcoords": [
           {
            "line": {
             "colorbar": {
              "outlinewidth": 0,
              "ticks": ""
             }
            },
            "type": "parcoords"
           }
          ],
          "pie": [
           {
            "automargin": true,
            "type": "pie"
           }
          ],
          "scatter": [
           {
            "fillpattern": {
             "fillmode": "overlay",
             "size": 10,
             "solidity": 0.2
            },
            "type": "scatter"
           }
          ],
          "scatter3d": [
           {
            "line": {
             "colorbar": {
              "outlinewidth": 0,
              "ticks": ""
             }
            },
            "marker": {
             "colorbar": {
              "outlinewidth": 0,
              "ticks": ""
             }
            },
            "type": "scatter3d"
           }
          ],
          "scattercarpet": [
           {
            "marker": {
             "colorbar": {
              "outlinewidth": 0,
              "ticks": ""
             }
            },
            "type": "scattercarpet"
           }
          ],
          "scattergeo": [
           {
            "marker": {
             "colorbar": {
              "outlinewidth": 0,
              "ticks": ""
             }
            },
            "type": "scattergeo"
           }
          ],
          "scattergl": [
           {
            "marker": {
             "colorbar": {
              "outlinewidth": 0,
              "ticks": ""
             }
            },
            "type": "scattergl"
           }
          ],
          "scattermapbox": [
           {
            "marker": {
             "colorbar": {
              "outlinewidth": 0,
              "ticks": ""
             }
            },
            "type": "scattermapbox"
           }
          ],
          "scatterpolar": [
           {
            "marker": {
             "colorbar": {
              "outlinewidth": 0,
              "ticks": ""
             }
            },
            "type": "scatterpolar"
           }
          ],
          "scatterpolargl": [
           {
            "marker": {
             "colorbar": {
              "outlinewidth": 0,
              "ticks": ""
             }
            },
            "type": "scatterpolargl"
           }
          ],
          "scatterternary": [
           {
            "marker": {
             "colorbar": {
              "outlinewidth": 0,
              "ticks": ""
             }
            },
            "type": "scatterternary"
           }
          ],
          "surface": [
           {
            "colorbar": {
             "outlinewidth": 0,
             "ticks": ""
            },
            "colorscale": [
             [
              0,
              "#0d0887"
             ],
             [
              0.1111111111111111,
              "#46039f"
             ],
             [
              0.2222222222222222,
              "#7201a8"
             ],
             [
              0.3333333333333333,
              "#9c179e"
             ],
             [
              0.4444444444444444,
              "#bd3786"
             ],
             [
              0.5555555555555556,
              "#d8576b"
             ],
             [
              0.6666666666666666,
              "#ed7953"
             ],
             [
              0.7777777777777778,
              "#fb9f3a"
             ],
             [
              0.8888888888888888,
              "#fdca26"
             ],
             [
              1,
              "#f0f921"
             ]
            ],
            "type": "surface"
           }
          ],
          "table": [
           {
            "cells": {
             "fill": {
              "color": "#EBF0F8"
             },
             "line": {
              "color": "white"
             }
            },
            "header": {
             "fill": {
              "color": "#C8D4E3"
             },
             "line": {
              "color": "white"
             }
            },
            "type": "table"
           }
          ]
         },
         "layout": {
          "annotationdefaults": {
           "arrowcolor": "#2a3f5f",
           "arrowhead": 0,
           "arrowwidth": 1
          },
          "autotypenumbers": "strict",
          "coloraxis": {
           "colorbar": {
            "outlinewidth": 0,
            "ticks": ""
           }
          },
          "colorscale": {
           "diverging": [
            [
             0,
             "#8e0152"
            ],
            [
             0.1,
             "#c51b7d"
            ],
            [
             0.2,
             "#de77ae"
            ],
            [
             0.3,
             "#f1b6da"
            ],
            [
             0.4,
             "#fde0ef"
            ],
            [
             0.5,
             "#f7f7f7"
            ],
            [
             0.6,
             "#e6f5d0"
            ],
            [
             0.7,
             "#b8e186"
            ],
            [
             0.8,
             "#7fbc41"
            ],
            [
             0.9,
             "#4d9221"
            ],
            [
             1,
             "#276419"
            ]
           ],
           "sequential": [
            [
             0,
             "#0d0887"
            ],
            [
             0.1111111111111111,
             "#46039f"
            ],
            [
             0.2222222222222222,
             "#7201a8"
            ],
            [
             0.3333333333333333,
             "#9c179e"
            ],
            [
             0.4444444444444444,
             "#bd3786"
            ],
            [
             0.5555555555555556,
             "#d8576b"
            ],
            [
             0.6666666666666666,
             "#ed7953"
            ],
            [
             0.7777777777777778,
             "#fb9f3a"
            ],
            [
             0.8888888888888888,
             "#fdca26"
            ],
            [
             1,
             "#f0f921"
            ]
           ],
           "sequentialminus": [
            [
             0,
             "#0d0887"
            ],
            [
             0.1111111111111111,
             "#46039f"
            ],
            [
             0.2222222222222222,
             "#7201a8"
            ],
            [
             0.3333333333333333,
             "#9c179e"
            ],
            [
             0.4444444444444444,
             "#bd3786"
            ],
            [
             0.5555555555555556,
             "#d8576b"
            ],
            [
             0.6666666666666666,
             "#ed7953"
            ],
            [
             0.7777777777777778,
             "#fb9f3a"
            ],
            [
             0.8888888888888888,
             "#fdca26"
            ],
            [
             1,
             "#f0f921"
            ]
           ]
          },
          "colorway": [
           "#636efa",
           "#EF553B",
           "#00cc96",
           "#ab63fa",
           "#FFA15A",
           "#19d3f3",
           "#FF6692",
           "#B6E880",
           "#FF97FF",
           "#FECB52"
          ],
          "font": {
           "color": "#2a3f5f"
          },
          "geo": {
           "bgcolor": "white",
           "lakecolor": "white",
           "landcolor": "white",
           "showlakes": true,
           "showland": true,
           "subunitcolor": "#C8D4E3"
          },
          "hoverlabel": {
           "align": "left"
          },
          "hovermode": "closest",
          "mapbox": {
           "style": "light"
          },
          "paper_bgcolor": "white",
          "plot_bgcolor": "white",
          "polar": {
           "angularaxis": {
            "gridcolor": "#EBF0F8",
            "linecolor": "#EBF0F8",
            "ticks": ""
           },
           "bgcolor": "white",
           "radialaxis": {
            "gridcolor": "#EBF0F8",
            "linecolor": "#EBF0F8",
            "ticks": ""
           }
          },
          "scene": {
           "xaxis": {
            "backgroundcolor": "white",
            "gridcolor": "#DFE8F3",
            "gridwidth": 2,
            "linecolor": "#EBF0F8",
            "showbackground": true,
            "ticks": "",
            "zerolinecolor": "#EBF0F8"
           },
           "yaxis": {
            "backgroundcolor": "white",
            "gridcolor": "#DFE8F3",
            "gridwidth": 2,
            "linecolor": "#EBF0F8",
            "showbackground": true,
            "ticks": "",
            "zerolinecolor": "#EBF0F8"
           },
           "zaxis": {
            "backgroundcolor": "white",
            "gridcolor": "#DFE8F3",
            "gridwidth": 2,
            "linecolor": "#EBF0F8",
            "showbackground": true,
            "ticks": "",
            "zerolinecolor": "#EBF0F8"
           }
          },
          "shapedefaults": {
           "line": {
            "color": "#2a3f5f"
           }
          },
          "ternary": {
           "aaxis": {
            "gridcolor": "#DFE8F3",
            "linecolor": "#A2B1C6",
            "ticks": ""
           },
           "baxis": {
            "gridcolor": "#DFE8F3",
            "linecolor": "#A2B1C6",
            "ticks": ""
           },
           "bgcolor": "white",
           "caxis": {
            "gridcolor": "#DFE8F3",
            "linecolor": "#A2B1C6",
            "ticks": ""
           }
          },
          "title": {
           "x": 0.05
          },
          "xaxis": {
           "automargin": true,
           "gridcolor": "#EBF0F8",
           "linecolor": "#EBF0F8",
           "ticks": "",
           "title": {
            "standoff": 15
           },
           "zerolinecolor": "#EBF0F8",
           "zerolinewidth": 2
          },
          "yaxis": {
           "automargin": true,
           "gridcolor": "#EBF0F8",
           "linecolor": "#EBF0F8",
           "ticks": "",
           "title": {
            "standoff": 15
           },
           "zerolinecolor": "#EBF0F8",
           "zerolinewidth": 2
          }
         }
        },
        "xaxis": {
         "anchor": "y",
         "domain": [
          0,
          1
         ],
         "title": {
          "text": "speechiness"
         }
        },
        "yaxis": {
         "anchor": "x",
         "domain": [
          0,
          1
         ],
         "title": {
          "text": "count"
         }
        }
       }
      }
     },
     "metadata": {},
     "output_type": "display_data"
    }
   ],
   "source": [
    "fig = px.histogram(feature_df, x=\"speechiness\")\n",
    "fig.show()"
   ]
  },
  {
   "cell_type": "code",
   "execution_count": 88,
   "metadata": {},
   "outputs": [
    {
     "data": {
      "application/vnd.plotly.v1+json": {
       "config": {
        "plotlyServerURL": "https://plot.ly"
       },
       "data": [
        {
         "hovertemplate": "PC1=%{x}<br>PC2=%{y}<br>Cluster=%{marker.color}<extra></extra>",
         "legendgroup": "",
         "marker": {
          "color": [
           4,
           2,
           2,
           1,
           1,
           4,
           2,
           3,
           0,
           4,
           2,
           2,
           3,
           3,
           4,
           2,
           1,
           0,
           1,
           1,
           3,
           4,
           0,
           4,
           1,
           2,
           3,
           1,
           3,
           1,
           1,
           4,
           0,
           4,
           0,
           1,
           1,
           1,
           3,
           1,
           4,
           4,
           4,
           3,
           1,
           4,
           4,
           2,
           4,
           0,
           0,
           0,
           3,
           1,
           0,
           1,
           0,
           4,
           3,
           1,
           4,
           0,
           0,
           1,
           4,
           0,
           0,
           0,
           0,
           1,
           1,
           4,
           1,
           4,
           1,
           1,
           4,
           1,
           1,
           1,
           1,
           3,
           4,
           1,
           1,
           4,
           0,
           0,
           0,
           1,
           1,
           0,
           3,
           1,
           2,
           1,
           2,
           1,
           2,
           0
          ],
          "coloraxis": "coloraxis",
          "symbol": "circle"
         },
         "mode": "markers",
         "name": "",
         "orientation": "v",
         "showlegend": false,
         "type": "scatter",
         "x": [
          1.8708848492774564,
          1.8672891774102076,
          0.8073060278574792,
          -1.416403713658415,
          -1.5363882199650878,
          0.9375013849595161,
          1.2581204225568674,
          -1.2557004425129212,
          0.35490985454293217,
          0.7694077869650038,
          2.1830994467248415,
          0.7516512586170495,
          -1.1604330360441315,
          -1.4950931112194192,
          -0.5047313199566303,
          1.904217013029973,
          -1.082411698231646,
          0.2114946315675832,
          -0.9345228854079776,
          1.3278744471943302,
          -2.200477739057767,
          2.81124962682482,
          0.05290600440411161,
          -0.6248595557043516,
          -1.4860220667724198,
          2.5842149425911733,
          -2.2969650924528575,
          -0.7044143012911256,
          -0.7714121349848165,
          -1.7104722439130686,
          -1.0458534177308445,
          1.9018594420330295,
          2.2731399908347862,
          0.5782932362318131,
          2.1597846297672807,
          -0.5524301002895625,
          -3.1254987629258935,
          -2.0043830017542725,
          -2.3226891864395416,
          -1.4368023801596055,
          -0.9386684451580186,
          0.02221022893234279,
          2.50457167764136,
          -3.227267500572023,
          -0.12613290060271395,
          0.45086182710865946,
          -0.05316471545622094,
          0.45897219575782466,
          0.4080128927882653,
          0.3883118249378326,
          1.5470791199360978,
          0.44711695657782835,
          -0.5636086855910721,
          -0.9174787940323581,
          0.4415094045784641,
          0.04334386332365091,
          1.3789209680709846,
          0.767271495095805,
          -2.9306447332021315,
          -1.5931683132037842,
          2.011444921309525,
          2.9471842053433432,
          1.69037654912702,
          -1.5455142813387022,
          -0.5439263067674168,
          1.7446713322368221,
          4.398839678512157,
          1.6496836286810563,
          4.480225507731016,
          -2.383690451198954,
          0.05771521373409709,
          1.5850081325813694,
          -1.6147118719501017,
          1.2813224338304863,
          -1.2936111015505465,
          -1.721662139817628,
          -0.1065449689333576,
          -1.9277813764908602,
          -0.3518666335159011,
          -1.9669636068414231,
          -1.7973780223571418,
          -0.5636086855910721,
          1.8172874051426315,
          -3.2706232410940292,
          -0.10614330140554068,
          -0.148724847262751,
          -1.0366789905792755,
          0.11111105463269567,
          0.061542355305086636,
          -2.4318201182619705,
          -1.4276225413386252,
          1.807748064241318,
          -1.9864216085601065,
          -1.345598140348032,
          2.72265538027904,
          -0.9238125398494438,
          2.8961668701630545,
          -2.033853037527269,
          1.7975363661220436,
          2.0227505837586994
         ],
         "xaxis": "x",
         "y": [
          0.17527053075255505,
          -3.705098837561544,
          -0.8300882211978436,
          -0.11295590559187679,
          -0.3122592445923268,
          1.426540307938446,
          -1.6856036401271794,
          0.6859766836562713,
          -0.14124358067814582,
          1.1830627369211468,
          -1.1155922685238038,
          -1.484509419474384,
          0.040899070109728416,
          0.301559479909544,
          -0.38585897346522824,
          0.020402203252630063,
          -1.3633348565780488,
          -0.44292870440105747,
          -1.4905385294899043,
          -1.5874819314167627,
          -0.6817666391251476,
          1.252635880207203,
          0.16823275336860777,
          1.691007830285011,
          2.5039703153250983,
          -3.5927829562695663,
          0.27805740379349025,
          0.9631560353296582,
          4.2969178751221575,
          -1.344749485721923,
          -0.6780251158167664,
          2.207740951032744,
          -0.1009457514298215,
          0.7124151491678472,
          -0.9238210232359901,
          -1.7452562648261978,
          0.41857157906128417,
          -0.031238421958240562,
          0.6487790117912057,
          -0.012622117746368344,
          -0.7094933883502208,
          0.8286433513224459,
          1.691096772145689,
          1.4906892447557563,
          -2.130264997793074,
          0.6065578859942085,
          2.0491388101408488,
          -0.4384024962388343,
          -1.5100095547720904,
          -1.2432140834690086,
          1.687773181774411,
          -2.065028710563704,
          0.33420505589092003,
          -0.6552065051652595,
          -0.4844834847303131,
          -0.9682886608087958,
          1.5031473821140164,
          1.1454665561921344,
          0.622619060876822,
          -1.3493911176980438,
          1.5887977876666906,
          0.6139376426985552,
          -0.7917062309708863,
          -0.7754679262636108,
          1.0484302947175768,
          0.6338803926980467,
          1.6652630314596266,
          0.07122758100671375,
          1.6363285060765342,
          -0.3475052712267071,
          -0.6575755631324453,
          2.1314168078302114,
          0.23104688281451666,
          2.044513052713217,
          0.5218552759271208,
          -0.37323324411934367,
          0.8308824673445186,
          -0.7034031799060353,
          -1.0742713552954992,
          0.057405162240732506,
          0.42626914515869807,
          0.33420505589092003,
          -0.020947218695173467,
          -0.18848685484948302,
          -0.1152855464845686,
          0.48477333513999504,
          -2.04949636595782,
          1.141404558716653,
          0.15358094254740093,
          0.020990960964087157,
          -1.3297276025431763,
          0.25187644616559424,
          1.606352275608147,
          -1.0947620223435013,
          0.5107648018506528,
          -0.5011797296584248,
          -3.6182011816075055,
          1.510318086924055,
          -1.9212037375284214,
          0.43488432700792445
         ],
         "yaxis": "y"
        }
       ],
       "layout": {
        "coloraxis": {
         "colorbar": {
          "title": {
           "text": "Cluster"
          }
         },
         "colorscale": [
          [
           0,
           "#0d0887"
          ],
          [
           0.1111111111111111,
           "#46039f"
          ],
          [
           0.2222222222222222,
           "#7201a8"
          ],
          [
           0.3333333333333333,
           "#9c179e"
          ],
          [
           0.4444444444444444,
           "#bd3786"
          ],
          [
           0.5555555555555556,
           "#d8576b"
          ],
          [
           0.6666666666666666,
           "#ed7953"
          ],
          [
           0.7777777777777778,
           "#fb9f3a"
          ],
          [
           0.8888888888888888,
           "#fdca26"
          ],
          [
           1,
           "#f0f921"
          ]
         ]
        },
        "legend": {
         "tracegroupgap": 0
        },
        "template": {
         "data": {
          "bar": [
           {
            "error_x": {
             "color": "#2a3f5f"
            },
            "error_y": {
             "color": "#2a3f5f"
            },
            "marker": {
             "line": {
              "color": "white",
              "width": 0.5
             },
             "pattern": {
              "fillmode": "overlay",
              "size": 10,
              "solidity": 0.2
             }
            },
            "type": "bar"
           }
          ],
          "barpolar": [
           {
            "marker": {
             "line": {
              "color": "white",
              "width": 0.5
             },
             "pattern": {
              "fillmode": "overlay",
              "size": 10,
              "solidity": 0.2
             }
            },
            "type": "barpolar"
           }
          ],
          "carpet": [
           {
            "aaxis": {
             "endlinecolor": "#2a3f5f",
             "gridcolor": "#C8D4E3",
             "linecolor": "#C8D4E3",
             "minorgridcolor": "#C8D4E3",
             "startlinecolor": "#2a3f5f"
            },
            "baxis": {
             "endlinecolor": "#2a3f5f",
             "gridcolor": "#C8D4E3",
             "linecolor": "#C8D4E3",
             "minorgridcolor": "#C8D4E3",
             "startlinecolor": "#2a3f5f"
            },
            "type": "carpet"
           }
          ],
          "choropleth": [
           {
            "colorbar": {
             "outlinewidth": 0,
             "ticks": ""
            },
            "type": "choropleth"
           }
          ],
          "contour": [
           {
            "colorbar": {
             "outlinewidth": 0,
             "ticks": ""
            },
            "colorscale": [
             [
              0,
              "#0d0887"
             ],
             [
              0.1111111111111111,
              "#46039f"
             ],
             [
              0.2222222222222222,
              "#7201a8"
             ],
             [
              0.3333333333333333,
              "#9c179e"
             ],
             [
              0.4444444444444444,
              "#bd3786"
             ],
             [
              0.5555555555555556,
              "#d8576b"
             ],
             [
              0.6666666666666666,
              "#ed7953"
             ],
             [
              0.7777777777777778,
              "#fb9f3a"
             ],
             [
              0.8888888888888888,
              "#fdca26"
             ],
             [
              1,
              "#f0f921"
             ]
            ],
            "type": "contour"
           }
          ],
          "contourcarpet": [
           {
            "colorbar": {
             "outlinewidth": 0,
             "ticks": ""
            },
            "type": "contourcarpet"
           }
          ],
          "heatmap": [
           {
            "colorbar": {
             "outlinewidth": 0,
             "ticks": ""
            },
            "colorscale": [
             [
              0,
              "#0d0887"
             ],
             [
              0.1111111111111111,
              "#46039f"
             ],
             [
              0.2222222222222222,
              "#7201a8"
             ],
             [
              0.3333333333333333,
              "#9c179e"
             ],
             [
              0.4444444444444444,
              "#bd3786"
             ],
             [
              0.5555555555555556,
              "#d8576b"
             ],
             [
              0.6666666666666666,
              "#ed7953"
             ],
             [
              0.7777777777777778,
              "#fb9f3a"
             ],
             [
              0.8888888888888888,
              "#fdca26"
             ],
             [
              1,
              "#f0f921"
             ]
            ],
            "type": "heatmap"
           }
          ],
          "heatmapgl": [
           {
            "colorbar": {
             "outlinewidth": 0,
             "ticks": ""
            },
            "colorscale": [
             [
              0,
              "#0d0887"
             ],
             [
              0.1111111111111111,
              "#46039f"
             ],
             [
              0.2222222222222222,
              "#7201a8"
             ],
             [
              0.3333333333333333,
              "#9c179e"
             ],
             [
              0.4444444444444444,
              "#bd3786"
             ],
             [
              0.5555555555555556,
              "#d8576b"
             ],
             [
              0.6666666666666666,
              "#ed7953"
             ],
             [
              0.7777777777777778,
              "#fb9f3a"
             ],
             [
              0.8888888888888888,
              "#fdca26"
             ],
             [
              1,
              "#f0f921"
             ]
            ],
            "type": "heatmapgl"
           }
          ],
          "histogram": [
           {
            "marker": {
             "pattern": {
              "fillmode": "overlay",
              "size": 10,
              "solidity": 0.2
             }
            },
            "type": "histogram"
           }
          ],
          "histogram2d": [
           {
            "colorbar": {
             "outlinewidth": 0,
             "ticks": ""
            },
            "colorscale": [
             [
              0,
              "#0d0887"
             ],
             [
              0.1111111111111111,
              "#46039f"
             ],
             [
              0.2222222222222222,
              "#7201a8"
             ],
             [
              0.3333333333333333,
              "#9c179e"
             ],
             [
              0.4444444444444444,
              "#bd3786"
             ],
             [
              0.5555555555555556,
              "#d8576b"
             ],
             [
              0.6666666666666666,
              "#ed7953"
             ],
             [
              0.7777777777777778,
              "#fb9f3a"
             ],
             [
              0.8888888888888888,
              "#fdca26"
             ],
             [
              1,
              "#f0f921"
             ]
            ],
            "type": "histogram2d"
           }
          ],
          "histogram2dcontour": [
           {
            "colorbar": {
             "outlinewidth": 0,
             "ticks": ""
            },
            "colorscale": [
             [
              0,
              "#0d0887"
             ],
             [
              0.1111111111111111,
              "#46039f"
             ],
             [
              0.2222222222222222,
              "#7201a8"
             ],
             [
              0.3333333333333333,
              "#9c179e"
             ],
             [
              0.4444444444444444,
              "#bd3786"
             ],
             [
              0.5555555555555556,
              "#d8576b"
             ],
             [
              0.6666666666666666,
              "#ed7953"
             ],
             [
              0.7777777777777778,
              "#fb9f3a"
             ],
             [
              0.8888888888888888,
              "#fdca26"
             ],
             [
              1,
              "#f0f921"
             ]
            ],
            "type": "histogram2dcontour"
           }
          ],
          "mesh3d": [
           {
            "colorbar": {
             "outlinewidth": 0,
             "ticks": ""
            },
            "type": "mesh3d"
           }
          ],
          "parcoords": [
           {
            "line": {
             "colorbar": {
              "outlinewidth": 0,
              "ticks": ""
             }
            },
            "type": "parcoords"
           }
          ],
          "pie": [
           {
            "automargin": true,
            "type": "pie"
           }
          ],
          "scatter": [
           {
            "fillpattern": {
             "fillmode": "overlay",
             "size": 10,
             "solidity": 0.2
            },
            "type": "scatter"
           }
          ],
          "scatter3d": [
           {
            "line": {
             "colorbar": {
              "outlinewidth": 0,
              "ticks": ""
             }
            },
            "marker": {
             "colorbar": {
              "outlinewidth": 0,
              "ticks": ""
             }
            },
            "type": "scatter3d"
           }
          ],
          "scattercarpet": [
           {
            "marker": {
             "colorbar": {
              "outlinewidth": 0,
              "ticks": ""
             }
            },
            "type": "scattercarpet"
           }
          ],
          "scattergeo": [
           {
            "marker": {
             "colorbar": {
              "outlinewidth": 0,
              "ticks": ""
             }
            },
            "type": "scattergeo"
           }
          ],
          "scattergl": [
           {
            "marker": {
             "colorbar": {
              "outlinewidth": 0,
              "ticks": ""
             }
            },
            "type": "scattergl"
           }
          ],
          "scattermapbox": [
           {
            "marker": {
             "colorbar": {
              "outlinewidth": 0,
              "ticks": ""
             }
            },
            "type": "scattermapbox"
           }
          ],
          "scatterpolar": [
           {
            "marker": {
             "colorbar": {
              "outlinewidth": 0,
              "ticks": ""
             }
            },
            "type": "scatterpolar"
           }
          ],
          "scatterpolargl": [
           {
            "marker": {
             "colorbar": {
              "outlinewidth": 0,
              "ticks": ""
             }
            },
            "type": "scatterpolargl"
           }
          ],
          "scatterternary": [
           {
            "marker": {
             "colorbar": {
              "outlinewidth": 0,
              "ticks": ""
             }
            },
            "type": "scatterternary"
           }
          ],
          "surface": [
           {
            "colorbar": {
             "outlinewidth": 0,
             "ticks": ""
            },
            "colorscale": [
             [
              0,
              "#0d0887"
             ],
             [
              0.1111111111111111,
              "#46039f"
             ],
             [
              0.2222222222222222,
              "#7201a8"
             ],
             [
              0.3333333333333333,
              "#9c179e"
             ],
             [
              0.4444444444444444,
              "#bd3786"
             ],
             [
              0.5555555555555556,
              "#d8576b"
             ],
             [
              0.6666666666666666,
              "#ed7953"
             ],
             [
              0.7777777777777778,
              "#fb9f3a"
             ],
             [
              0.8888888888888888,
              "#fdca26"
             ],
             [
              1,
              "#f0f921"
             ]
            ],
            "type": "surface"
           }
          ],
          "table": [
           {
            "cells": {
             "fill": {
              "color": "#EBF0F8"
             },
             "line": {
              "color": "white"
             }
            },
            "header": {
             "fill": {
              "color": "#C8D4E3"
             },
             "line": {
              "color": "white"
             }
            },
            "type": "table"
           }
          ]
         },
         "layout": {
          "annotationdefaults": {
           "arrowcolor": "#2a3f5f",
           "arrowhead": 0,
           "arrowwidth": 1
          },
          "autotypenumbers": "strict",
          "coloraxis": {
           "colorbar": {
            "outlinewidth": 0,
            "ticks": ""
           }
          },
          "colorscale": {
           "diverging": [
            [
             0,
             "#8e0152"
            ],
            [
             0.1,
             "#c51b7d"
            ],
            [
             0.2,
             "#de77ae"
            ],
            [
             0.3,
             "#f1b6da"
            ],
            [
             0.4,
             "#fde0ef"
            ],
            [
             0.5,
             "#f7f7f7"
            ],
            [
             0.6,
             "#e6f5d0"
            ],
            [
             0.7,
             "#b8e186"
            ],
            [
             0.8,
             "#7fbc41"
            ],
            [
             0.9,
             "#4d9221"
            ],
            [
             1,
             "#276419"
            ]
           ],
           "sequential": [
            [
             0,
             "#0d0887"
            ],
            [
             0.1111111111111111,
             "#46039f"
            ],
            [
             0.2222222222222222,
             "#7201a8"
            ],
            [
             0.3333333333333333,
             "#9c179e"
            ],
            [
             0.4444444444444444,
             "#bd3786"
            ],
            [
             0.5555555555555556,
             "#d8576b"
            ],
            [
             0.6666666666666666,
             "#ed7953"
            ],
            [
             0.7777777777777778,
             "#fb9f3a"
            ],
            [
             0.8888888888888888,
             "#fdca26"
            ],
            [
             1,
             "#f0f921"
            ]
           ],
           "sequentialminus": [
            [
             0,
             "#0d0887"
            ],
            [
             0.1111111111111111,
             "#46039f"
            ],
            [
             0.2222222222222222,
             "#7201a8"
            ],
            [
             0.3333333333333333,
             "#9c179e"
            ],
            [
             0.4444444444444444,
             "#bd3786"
            ],
            [
             0.5555555555555556,
             "#d8576b"
            ],
            [
             0.6666666666666666,
             "#ed7953"
            ],
            [
             0.7777777777777778,
             "#fb9f3a"
            ],
            [
             0.8888888888888888,
             "#fdca26"
            ],
            [
             1,
             "#f0f921"
            ]
           ]
          },
          "colorway": [
           "#636efa",
           "#EF553B",
           "#00cc96",
           "#ab63fa",
           "#FFA15A",
           "#19d3f3",
           "#FF6692",
           "#B6E880",
           "#FF97FF",
           "#FECB52"
          ],
          "font": {
           "color": "#2a3f5f"
          },
          "geo": {
           "bgcolor": "white",
           "lakecolor": "white",
           "landcolor": "white",
           "showlakes": true,
           "showland": true,
           "subunitcolor": "#C8D4E3"
          },
          "hoverlabel": {
           "align": "left"
          },
          "hovermode": "closest",
          "mapbox": {
           "style": "light"
          },
          "paper_bgcolor": "white",
          "plot_bgcolor": "white",
          "polar": {
           "angularaxis": {
            "gridcolor": "#EBF0F8",
            "linecolor": "#EBF0F8",
            "ticks": ""
           },
           "bgcolor": "white",
           "radialaxis": {
            "gridcolor": "#EBF0F8",
            "linecolor": "#EBF0F8",
            "ticks": ""
           }
          },
          "scene": {
           "xaxis": {
            "backgroundcolor": "white",
            "gridcolor": "#DFE8F3",
            "gridwidth": 2,
            "linecolor": "#EBF0F8",
            "showbackground": true,
            "ticks": "",
            "zerolinecolor": "#EBF0F8"
           },
           "yaxis": {
            "backgroundcolor": "white",
            "gridcolor": "#DFE8F3",
            "gridwidth": 2,
            "linecolor": "#EBF0F8",
            "showbackground": true,
            "ticks": "",
            "zerolinecolor": "#EBF0F8"
           },
           "zaxis": {
            "backgroundcolor": "white",
            "gridcolor": "#DFE8F3",
            "gridwidth": 2,
            "linecolor": "#EBF0F8",
            "showbackground": true,
            "ticks": "",
            "zerolinecolor": "#EBF0F8"
           }
          },
          "shapedefaults": {
           "line": {
            "color": "#2a3f5f"
           }
          },
          "ternary": {
           "aaxis": {
            "gridcolor": "#DFE8F3",
            "linecolor": "#A2B1C6",
            "ticks": ""
           },
           "baxis": {
            "gridcolor": "#DFE8F3",
            "linecolor": "#A2B1C6",
            "ticks": ""
           },
           "bgcolor": "white",
           "caxis": {
            "gridcolor": "#DFE8F3",
            "linecolor": "#A2B1C6",
            "ticks": ""
           }
          },
          "title": {
           "x": 0.05
          },
          "xaxis": {
           "automargin": true,
           "gridcolor": "#EBF0F8",
           "linecolor": "#EBF0F8",
           "ticks": "",
           "title": {
            "standoff": 15
           },
           "zerolinecolor": "#EBF0F8",
           "zerolinewidth": 2
          },
          "yaxis": {
           "automargin": true,
           "gridcolor": "#EBF0F8",
           "linecolor": "#EBF0F8",
           "ticks": "",
           "title": {
            "standoff": 15
           },
           "zerolinecolor": "#EBF0F8",
           "zerolinewidth": 2
          }
         }
        },
        "title": {
         "text": "PCA Plot"
        },
        "xaxis": {
         "anchor": "y",
         "domain": [
          0,
          1
         ],
         "title": {
          "text": "PC1"
         }
        },
        "yaxis": {
         "anchor": "x",
         "domain": [
          0,
          1
         ],
         "title": {
          "text": "PC2"
         }
        }
       }
      }
     },
     "metadata": {},
     "output_type": "display_data"
    },
    {
     "data": {
      "application/vnd.plotly.v1+json": {
       "config": {
        "plotlyServerURL": "https://plot.ly"
       },
       "data": [
        {
         "hovertemplate": "TSNE1=%{x}<br>TSNE2=%{y}<br>Cluster=%{marker.color}<extra></extra>",
         "legendgroup": "",
         "marker": {
          "color": [
           4,
           2,
           2,
           1,
           1,
           4,
           2,
           3,
           0,
           4,
           2,
           2,
           3,
           3,
           4,
           2,
           1,
           0,
           1,
           1,
           3,
           4,
           0,
           4,
           1,
           2,
           3,
           1,
           3,
           1,
           1,
           4,
           0,
           4,
           0,
           1,
           1,
           1,
           3,
           1,
           4,
           4,
           4,
           3,
           1,
           4,
           4,
           2,
           4,
           0,
           0,
           0,
           3,
           1,
           0,
           1,
           0,
           4,
           3,
           1,
           4,
           0,
           0,
           1,
           4,
           0,
           0,
           0,
           0,
           1,
           1,
           4,
           1,
           4,
           1,
           1,
           4,
           1,
           1,
           1,
           1,
           3,
           4,
           1,
           1,
           4,
           0,
           0,
           0,
           1,
           1,
           0,
           3,
           1,
           2,
           1,
           2,
           1,
           2,
           0
          ],
          "coloraxis": "coloraxis",
          "symbol": "circle"
         },
         "mode": "markers",
         "name": "",
         "orientation": "v",
         "showlegend": false,
         "type": "scatter",
         "x": [
          2.360340118408203,
          2.948688268661499,
          2.6236252784729004,
          0.3351309895515442,
          -0.6191169023513794,
          3.9514718055725098,
          2.6667754650115967,
          -3.3617382049560547,
          -1.269792079925537,
          3.286393165588379,
          3.1518173217773438,
          3.585132122039795,
          -1.4379620552062988,
          -3.9407126903533936,
          -3.3940465450286865,
          3.5813424587249756,
          1.9579373598098755,
          -1.4086856842041016,
          1.8266555070877075,
          0.5273187160491943,
          -3.5736238956451416,
          4.52015495300293,
          -0.8732743859291077,
          2.2310287952423096,
          -0.9529602527618408,
          3.386530876159668,
          -4.773152828216553,
          0.41000595688819885,
          -1.8562605381011963,
          -2.6170568466186523,
          0.1467583328485489,
          4.824550628662109,
          -0.4965745806694031,
          4.916996479034424,
          1.3424291610717773,
          -1.9239028692245483,
          -5.154399871826172,
          0.15957358479499817,
          -3.1977689266204834,
          -0.3429526686668396,
          0.7095906138420105,
          4.041067123413086,
          5.285641193389893,
          -2.384891986846924,
          -6.175730228424072,
          2.348297357559204,
          2.7640914916992188,
          2.7544667720794678,
          0.7317431569099426,
          -2.806231737136841,
          2.995018482208252,
          -2.911764144897461,
          -5.112170696258545,
          2.1449759006500244,
          -1.5280795097351074,
          -0.238300159573555,
          0.23827670514583588,
          2.7776715755462646,
          -3.5226731300354004,
          -0.12409841269254684,
          4.392451763153076,
          1.7232741117477417,
          -2.536985397338867,
          -0.7046844959259033,
          2.1271018981933594,
          1.8757331371307373,
          6.403031349182129,
          3.3036715984344482,
          6.064779281616211,
          -1.9851195812225342,
          -0.09212268888950348,
          5.203476905822754,
          -1.8584933280944824,
          3.782830238342285,
          -0.41286319494247437,
          -1.7494786977767944,
          1.8685898780822754,
          -5.580545902252197,
          -0.870954155921936,
          -1.1695468425750732,
          -1.7704213857650757,
          -5.112170696258545,
          3.835247039794922,
          -2.6108789443969727,
          0.6234800219535828,
          1.5724424123764038,
          -3.3503530025482178,
          3.245452404022217,
          -1.0000237226486206,
          -2.6206777095794678,
          -2.5847434997558594,
          3.313525676727295,
          -2.780822515487671,
          2.5994858741760254,
          4.1870222091674805,
          0.03985106945037842,
          1.3581897020339966,
          -0.021249979734420776,
          2.0863935947418213,
          0.48657241463661194
         ],
         "xaxis": "x",
         "y": [
          2.6136276721954346,
          8.031853675842285,
          6.450992107391357,
          -2.139728546142578,
          -0.1410001516342163,
          1.0752038955688477,
          6.882443904876709,
          -4.732608318328857,
          4.0731353759765625,
          1.821389079093933,
          6.159743309020996,
          6.218031406402588,
          -3.2665977478027344,
          -1.5401138067245483,
          1.1752874851226807,
          5.348351001739502,
          -3.7917566299438477,
          3.945754289627075,
          -3.37709379196167,
          2.5268115997314453,
          -4.622000217437744,
          4.3215436935424805,
          3.500331401824951,
          0.3052116930484772,
          -4.908101558685303,
          8.164915084838867,
          -0.3764318823814392,
          -2.916436195373535,
          -5.854175567626953,
          0.4511425495147705,
          -2.0334513187408447,
          2.2379565238952637,
          5.5627665519714355,
          -0.21383455395698547,
          4.251912593841553,
          1.127647876739502,
          -2.9480955600738525,
          -3.2957394123077393,
          -3.7214865684509277,
          -2.5094857215881348,
          0.14943045377731323,
          0.4341419041156769,
          2.3279666900634766,
          -3.2318267822265625,
          -1.7476063966751099,
          1.0468372106552124,
          -1.0998445749282837,
          5.347104549407959,
          1.8179805278778076,
          4.031022548675537,
          2.8419668674468994,
          3.771739959716797,
          1.1500290632247925,
          -2.8972434997558594,
          4.970219612121582,
          1.2568432092666626,
          3.9454472064971924,
          1.7580448389053345,
          -3.471604824066162,
          -1.9301902055740356,
          3.245948553085327,
          4.042747497558594,
          5.7913498878479,
          -2.534006357192993,
          -0.7866127490997314,
          3.755650758743286,
          4.443168640136719,
          3.692570686340332,
          3.6274406909942627,
          -0.49247193336486816,
          1.212733268737793,
          2.0449604988098145,
          -1.2728290557861328,
          1.9036920070648193,
          -0.550700843334198,
          -0.2049953043460846,
          -0.12856221199035645,
          -2.5343384742736816,
          1.3679496049880981,
          -0.9313475489616394,
          -1.2869699001312256,
          1.1500290632247925,
          4.701338291168213,
          -1.6327219009399414,
          -1.701979637145996,
          0.5548893213272095,
          3.4630789756774902,
          0.026773110032081604,
          4.571639537811279,
          -1.5293320417404175,
          0.8609960079193115,
          4.229545593261719,
          -5.298058032989502,
          -3.1122145652770996,
          4.941439151763916,
          0.3170938789844513,
          7.429325103759766,
          -4.027932643890381,
          6.582117557525635,
          5.1727213859558105
         ],
         "yaxis": "y"
        }
       ],
       "layout": {
        "coloraxis": {
         "colorbar": {
          "title": {
           "text": "Cluster"
          }
         },
         "colorscale": [
          [
           0,
           "#0d0887"
          ],
          [
           0.1111111111111111,
           "#46039f"
          ],
          [
           0.2222222222222222,
           "#7201a8"
          ],
          [
           0.3333333333333333,
           "#9c179e"
          ],
          [
           0.4444444444444444,
           "#bd3786"
          ],
          [
           0.5555555555555556,
           "#d8576b"
          ],
          [
           0.6666666666666666,
           "#ed7953"
          ],
          [
           0.7777777777777778,
           "#fb9f3a"
          ],
          [
           0.8888888888888888,
           "#fdca26"
          ],
          [
           1,
           "#f0f921"
          ]
         ]
        },
        "legend": {
         "tracegroupgap": 0
        },
        "template": {
         "data": {
          "bar": [
           {
            "error_x": {
             "color": "#2a3f5f"
            },
            "error_y": {
             "color": "#2a3f5f"
            },
            "marker": {
             "line": {
              "color": "white",
              "width": 0.5
             },
             "pattern": {
              "fillmode": "overlay",
              "size": 10,
              "solidity": 0.2
             }
            },
            "type": "bar"
           }
          ],
          "barpolar": [
           {
            "marker": {
             "line": {
              "color": "white",
              "width": 0.5
             },
             "pattern": {
              "fillmode": "overlay",
              "size": 10,
              "solidity": 0.2
             }
            },
            "type": "barpolar"
           }
          ],
          "carpet": [
           {
            "aaxis": {
             "endlinecolor": "#2a3f5f",
             "gridcolor": "#C8D4E3",
             "linecolor": "#C8D4E3",
             "minorgridcolor": "#C8D4E3",
             "startlinecolor": "#2a3f5f"
            },
            "baxis": {
             "endlinecolor": "#2a3f5f",
             "gridcolor": "#C8D4E3",
             "linecolor": "#C8D4E3",
             "minorgridcolor": "#C8D4E3",
             "startlinecolor": "#2a3f5f"
            },
            "type": "carpet"
           }
          ],
          "choropleth": [
           {
            "colorbar": {
             "outlinewidth": 0,
             "ticks": ""
            },
            "type": "choropleth"
           }
          ],
          "contour": [
           {
            "colorbar": {
             "outlinewidth": 0,
             "ticks": ""
            },
            "colorscale": [
             [
              0,
              "#0d0887"
             ],
             [
              0.1111111111111111,
              "#46039f"
             ],
             [
              0.2222222222222222,
              "#7201a8"
             ],
             [
              0.3333333333333333,
              "#9c179e"
             ],
             [
              0.4444444444444444,
              "#bd3786"
             ],
             [
              0.5555555555555556,
              "#d8576b"
             ],
             [
              0.6666666666666666,
              "#ed7953"
             ],
             [
              0.7777777777777778,
              "#fb9f3a"
             ],
             [
              0.8888888888888888,
              "#fdca26"
             ],
             [
              1,
              "#f0f921"
             ]
            ],
            "type": "contour"
           }
          ],
          "contourcarpet": [
           {
            "colorbar": {
             "outlinewidth": 0,
             "ticks": ""
            },
            "type": "contourcarpet"
           }
          ],
          "heatmap": [
           {
            "colorbar": {
             "outlinewidth": 0,
             "ticks": ""
            },
            "colorscale": [
             [
              0,
              "#0d0887"
             ],
             [
              0.1111111111111111,
              "#46039f"
             ],
             [
              0.2222222222222222,
              "#7201a8"
             ],
             [
              0.3333333333333333,
              "#9c179e"
             ],
             [
              0.4444444444444444,
              "#bd3786"
             ],
             [
              0.5555555555555556,
              "#d8576b"
             ],
             [
              0.6666666666666666,
              "#ed7953"
             ],
             [
              0.7777777777777778,
              "#fb9f3a"
             ],
             [
              0.8888888888888888,
              "#fdca26"
             ],
             [
              1,
              "#f0f921"
             ]
            ],
            "type": "heatmap"
           }
          ],
          "heatmapgl": [
           {
            "colorbar": {
             "outlinewidth": 0,
             "ticks": ""
            },
            "colorscale": [
             [
              0,
              "#0d0887"
             ],
             [
              0.1111111111111111,
              "#46039f"
             ],
             [
              0.2222222222222222,
              "#7201a8"
             ],
             [
              0.3333333333333333,
              "#9c179e"
             ],
             [
              0.4444444444444444,
              "#bd3786"
             ],
             [
              0.5555555555555556,
              "#d8576b"
             ],
             [
              0.6666666666666666,
              "#ed7953"
             ],
             [
              0.7777777777777778,
              "#fb9f3a"
             ],
             [
              0.8888888888888888,
              "#fdca26"
             ],
             [
              1,
              "#f0f921"
             ]
            ],
            "type": "heatmapgl"
           }
          ],
          "histogram": [
           {
            "marker": {
             "pattern": {
              "fillmode": "overlay",
              "size": 10,
              "solidity": 0.2
             }
            },
            "type": "histogram"
           }
          ],
          "histogram2d": [
           {
            "colorbar": {
             "outlinewidth": 0,
             "ticks": ""
            },
            "colorscale": [
             [
              0,
              "#0d0887"
             ],
             [
              0.1111111111111111,
              "#46039f"
             ],
             [
              0.2222222222222222,
              "#7201a8"
             ],
             [
              0.3333333333333333,
              "#9c179e"
             ],
             [
              0.4444444444444444,
              "#bd3786"
             ],
             [
              0.5555555555555556,
              "#d8576b"
             ],
             [
              0.6666666666666666,
              "#ed7953"
             ],
             [
              0.7777777777777778,
              "#fb9f3a"
             ],
             [
              0.8888888888888888,
              "#fdca26"
             ],
             [
              1,
              "#f0f921"
             ]
            ],
            "type": "histogram2d"
           }
          ],
          "histogram2dcontour": [
           {
            "colorbar": {
             "outlinewidth": 0,
             "ticks": ""
            },
            "colorscale": [
             [
              0,
              "#0d0887"
             ],
             [
              0.1111111111111111,
              "#46039f"
             ],
             [
              0.2222222222222222,
              "#7201a8"
             ],
             [
              0.3333333333333333,
              "#9c179e"
             ],
             [
              0.4444444444444444,
              "#bd3786"
             ],
             [
              0.5555555555555556,
              "#d8576b"
             ],
             [
              0.6666666666666666,
              "#ed7953"
             ],
             [
              0.7777777777777778,
              "#fb9f3a"
             ],
             [
              0.8888888888888888,
              "#fdca26"
             ],
             [
              1,
              "#f0f921"
             ]
            ],
            "type": "histogram2dcontour"
           }
          ],
          "mesh3d": [
           {
            "colorbar": {
             "outlinewidth": 0,
             "ticks": ""
            },
            "type": "mesh3d"
           }
          ],
          "parcoords": [
           {
            "line": {
             "colorbar": {
              "outlinewidth": 0,
              "ticks": ""
             }
            },
            "type": "parcoords"
           }
          ],
          "pie": [
           {
            "automargin": true,
            "type": "pie"
           }
          ],
          "scatter": [
           {
            "fillpattern": {
             "fillmode": "overlay",
             "size": 10,
             "solidity": 0.2
            },
            "type": "scatter"
           }
          ],
          "scatter3d": [
           {
            "line": {
             "colorbar": {
              "outlinewidth": 0,
              "ticks": ""
             }
            },
            "marker": {
             "colorbar": {
              "outlinewidth": 0,
              "ticks": ""
             }
            },
            "type": "scatter3d"
           }
          ],
          "scattercarpet": [
           {
            "marker": {
             "colorbar": {
              "outlinewidth": 0,
              "ticks": ""
             }
            },
            "type": "scattercarpet"
           }
          ],
          "scattergeo": [
           {
            "marker": {
             "colorbar": {
              "outlinewidth": 0,
              "ticks": ""
             }
            },
            "type": "scattergeo"
           }
          ],
          "scattergl": [
           {
            "marker": {
             "colorbar": {
              "outlinewidth": 0,
              "ticks": ""
             }
            },
            "type": "scattergl"
           }
          ],
          "scattermapbox": [
           {
            "marker": {
             "colorbar": {
              "outlinewidth": 0,
              "ticks": ""
             }
            },
            "type": "scattermapbox"
           }
          ],
          "scatterpolar": [
           {
            "marker": {
             "colorbar": {
              "outlinewidth": 0,
              "ticks": ""
             }
            },
            "type": "scatterpolar"
           }
          ],
          "scatterpolargl": [
           {
            "marker": {
             "colorbar": {
              "outlinewidth": 0,
              "ticks": ""
             }
            },
            "type": "scatterpolargl"
           }
          ],
          "scatterternary": [
           {
            "marker": {
             "colorbar": {
              "outlinewidth": 0,
              "ticks": ""
             }
            },
            "type": "scatterternary"
           }
          ],
          "surface": [
           {
            "colorbar": {
             "outlinewidth": 0,
             "ticks": ""
            },
            "colorscale": [
             [
              0,
              "#0d0887"
             ],
             [
              0.1111111111111111,
              "#46039f"
             ],
             [
              0.2222222222222222,
              "#7201a8"
             ],
             [
              0.3333333333333333,
              "#9c179e"
             ],
             [
              0.4444444444444444,
              "#bd3786"
             ],
             [
              0.5555555555555556,
              "#d8576b"
             ],
             [
              0.6666666666666666,
              "#ed7953"
             ],
             [
              0.7777777777777778,
              "#fb9f3a"
             ],
             [
              0.8888888888888888,
              "#fdca26"
             ],
             [
              1,
              "#f0f921"
             ]
            ],
            "type": "surface"
           }
          ],
          "table": [
           {
            "cells": {
             "fill": {
              "color": "#EBF0F8"
             },
             "line": {
              "color": "white"
             }
            },
            "header": {
             "fill": {
              "color": "#C8D4E3"
             },
             "line": {
              "color": "white"
             }
            },
            "type": "table"
           }
          ]
         },
         "layout": {
          "annotationdefaults": {
           "arrowcolor": "#2a3f5f",
           "arrowhead": 0,
           "arrowwidth": 1
          },
          "autotypenumbers": "strict",
          "coloraxis": {
           "colorbar": {
            "outlinewidth": 0,
            "ticks": ""
           }
          },
          "colorscale": {
           "diverging": [
            [
             0,
             "#8e0152"
            ],
            [
             0.1,
             "#c51b7d"
            ],
            [
             0.2,
             "#de77ae"
            ],
            [
             0.3,
             "#f1b6da"
            ],
            [
             0.4,
             "#fde0ef"
            ],
            [
             0.5,
             "#f7f7f7"
            ],
            [
             0.6,
             "#e6f5d0"
            ],
            [
             0.7,
             "#b8e186"
            ],
            [
             0.8,
             "#7fbc41"
            ],
            [
             0.9,
             "#4d9221"
            ],
            [
             1,
             "#276419"
            ]
           ],
           "sequential": [
            [
             0,
             "#0d0887"
            ],
            [
             0.1111111111111111,
             "#46039f"
            ],
            [
             0.2222222222222222,
             "#7201a8"
            ],
            [
             0.3333333333333333,
             "#9c179e"
            ],
            [
             0.4444444444444444,
             "#bd3786"
            ],
            [
             0.5555555555555556,
             "#d8576b"
            ],
            [
             0.6666666666666666,
             "#ed7953"
            ],
            [
             0.7777777777777778,
             "#fb9f3a"
            ],
            [
             0.8888888888888888,
             "#fdca26"
            ],
            [
             1,
             "#f0f921"
            ]
           ],
           "sequentialminus": [
            [
             0,
             "#0d0887"
            ],
            [
             0.1111111111111111,
             "#46039f"
            ],
            [
             0.2222222222222222,
             "#7201a8"
            ],
            [
             0.3333333333333333,
             "#9c179e"
            ],
            [
             0.4444444444444444,
             "#bd3786"
            ],
            [
             0.5555555555555556,
             "#d8576b"
            ],
            [
             0.6666666666666666,
             "#ed7953"
            ],
            [
             0.7777777777777778,
             "#fb9f3a"
            ],
            [
             0.8888888888888888,
             "#fdca26"
            ],
            [
             1,
             "#f0f921"
            ]
           ]
          },
          "colorway": [
           "#636efa",
           "#EF553B",
           "#00cc96",
           "#ab63fa",
           "#FFA15A",
           "#19d3f3",
           "#FF6692",
           "#B6E880",
           "#FF97FF",
           "#FECB52"
          ],
          "font": {
           "color": "#2a3f5f"
          },
          "geo": {
           "bgcolor": "white",
           "lakecolor": "white",
           "landcolor": "white",
           "showlakes": true,
           "showland": true,
           "subunitcolor": "#C8D4E3"
          },
          "hoverlabel": {
           "align": "left"
          },
          "hovermode": "closest",
          "mapbox": {
           "style": "light"
          },
          "paper_bgcolor": "white",
          "plot_bgcolor": "white",
          "polar": {
           "angularaxis": {
            "gridcolor": "#EBF0F8",
            "linecolor": "#EBF0F8",
            "ticks": ""
           },
           "bgcolor": "white",
           "radialaxis": {
            "gridcolor": "#EBF0F8",
            "linecolor": "#EBF0F8",
            "ticks": ""
           }
          },
          "scene": {
           "xaxis": {
            "backgroundcolor": "white",
            "gridcolor": "#DFE8F3",
            "gridwidth": 2,
            "linecolor": "#EBF0F8",
            "showbackground": true,
            "ticks": "",
            "zerolinecolor": "#EBF0F8"
           },
           "yaxis": {
            "backgroundcolor": "white",
            "gridcolor": "#DFE8F3",
            "gridwidth": 2,
            "linecolor": "#EBF0F8",
            "showbackground": true,
            "ticks": "",
            "zerolinecolor": "#EBF0F8"
           },
           "zaxis": {
            "backgroundcolor": "white",
            "gridcolor": "#DFE8F3",
            "gridwidth": 2,
            "linecolor": "#EBF0F8",
            "showbackground": true,
            "ticks": "",
            "zerolinecolor": "#EBF0F8"
           }
          },
          "shapedefaults": {
           "line": {
            "color": "#2a3f5f"
           }
          },
          "ternary": {
           "aaxis": {
            "gridcolor": "#DFE8F3",
            "linecolor": "#A2B1C6",
            "ticks": ""
           },
           "baxis": {
            "gridcolor": "#DFE8F3",
            "linecolor": "#A2B1C6",
            "ticks": ""
           },
           "bgcolor": "white",
           "caxis": {
            "gridcolor": "#DFE8F3",
            "linecolor": "#A2B1C6",
            "ticks": ""
           }
          },
          "title": {
           "x": 0.05
          },
          "xaxis": {
           "automargin": true,
           "gridcolor": "#EBF0F8",
           "linecolor": "#EBF0F8",
           "ticks": "",
           "title": {
            "standoff": 15
           },
           "zerolinecolor": "#EBF0F8",
           "zerolinewidth": 2
          },
          "yaxis": {
           "automargin": true,
           "gridcolor": "#EBF0F8",
           "linecolor": "#EBF0F8",
           "ticks": "",
           "title": {
            "standoff": 15
           },
           "zerolinecolor": "#EBF0F8",
           "zerolinewidth": 2
          }
         }
        },
        "title": {
         "text": "t-SNE Plot"
        },
        "xaxis": {
         "anchor": "y",
         "domain": [
          0,
          1
         ],
         "title": {
          "text": "TSNE1"
         }
        },
        "yaxis": {
         "anchor": "x",
         "domain": [
          0,
          1
         ],
         "title": {
          "text": "TSNE2"
         }
        }
       }
      }
     },
     "metadata": {},
     "output_type": "display_data"
    }
   ],
   "source": [
    "scaler = StandardScaler()\n",
    "scaled_features = scaler.fit_transform(feature_df.drop('Cluster', axis=1))  # Drop the 'Cluster' column before scaling\n",
    "\n",
    "# Perform hierarchical clustering\n",
    "# You can adjust the number of clusters and linkage method as needed\n",
    "clustering = AgglomerativeClustering(n_clusters=5, linkage='ward')\n",
    "clusters = clustering.fit_predict(scaled_features)\n",
    "\n",
    "# Add cluster labels to the DataFrame\n",
    "feature_df['Cluster'] = clusters\n",
    "\n",
    "# PCA\n",
    "pca = PCA(n_components=2)\n",
    "pca_result = pca.fit_transform(scaled_features)\n",
    "\n",
    "# t-SNE\n",
    "tsne = TSNE(n_components=2)\n",
    "tsne_result = tsne.fit_transform(scaled_features)\n",
    "\n",
    "# Create a DataFrame for PCA and t-SNE results\n",
    "pca_df = pd.DataFrame(data=pca_result, columns=['PC1', 'PC2'])\n",
    "tsne_df = pd.DataFrame(data=tsne_result, columns=['TSNE1', 'TSNE2'])\n",
    "plot_df = pd.concat([pca_df, tsne_df, feature_df['Cluster']], axis=1)\n",
    "\n",
    "# Plot PCA\n",
    "fig_pca = px.scatter(plot_df, x='PC1', y='PC2', color='Cluster', title='PCA Plot')\n",
    "fig_pca.show()\n",
    "\n",
    "# Plot t-SNE\n",
    "fig_tsne = px.scatter(plot_df, x='TSNE1', y='TSNE2', color='Cluster', title='t-SNE Plot')\n",
    "fig_tsne.show()\n"
   ]
  }
 ],
 "metadata": {
  "kernelspec": {
   "display_name": "base",
   "language": "python",
   "name": "python3"
  },
  "language_info": {
   "codemirror_mode": {
    "name": "ipython",
    "version": 3
   },
   "file_extension": ".py",
   "mimetype": "text/x-python",
   "name": "python",
   "nbconvert_exporter": "python",
   "pygments_lexer": "ipython3",
   "version": "3.11.3"
  },
  "orig_nbformat": 4
 },
 "nbformat": 4,
 "nbformat_minor": 2
}

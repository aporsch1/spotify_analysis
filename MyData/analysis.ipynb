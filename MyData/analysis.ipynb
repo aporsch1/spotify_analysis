{
 "cells": [
  {
   "cell_type": "code",
   "execution_count": 50,
   "metadata": {},
   "outputs": [],
   "source": [
    "import pandas as pd\n",
    "import numpy as np\n",
    "import spotipy\n",
    "import spotipy.util as util\n",
    "import matplotlib\n",
    "import json\n",
    "import matplotlib.pyplot as plt\n",
    "import os\n",
    "import seaborn as sns\n",
    "\n",
    "\n",
    "\n",
    "\n",
    "sns.set_context(\"talk\", font_scale=1)\n",
    "sns.set_style(\"darkgrid\")\n",
    "sns.set_palette('tab10')\n",
    "sns.set_color_codes()"
   ]
  },
  {
   "cell_type": "code",
   "execution_count": 18,
   "metadata": {},
   "outputs": [],
   "source": [
    "music_df = pd.read_json('StreamingHistory0.json')\n",
    "df2 = pd.read_json('StreamingHistory1.json')\n",
    "df3 = pd.read_json('StreamingHistory2.json')\n",
    "df4 = pd.read_json('StreamingHistory3.json')\n",
    "df5 = pd.read_json('StreamingHistory4.json')\n",
    "music_df = pd.concat([music_df, df2, df3, df4, df5])"
   ]
  },
  {
   "cell_type": "code",
   "execution_count": 19,
   "metadata": {},
   "outputs": [
    {
     "data": {
      "text/html": [
       "<div>\n",
       "<style scoped>\n",
       "    .dataframe tbody tr th:only-of-type {\n",
       "        vertical-align: middle;\n",
       "    }\n",
       "\n",
       "    .dataframe tbody tr th {\n",
       "        vertical-align: top;\n",
       "    }\n",
       "\n",
       "    .dataframe thead th {\n",
       "        text-align: right;\n",
       "    }\n",
       "</style>\n",
       "<table border=\"1\" class=\"dataframe\">\n",
       "  <thead>\n",
       "    <tr style=\"text-align: right;\">\n",
       "      <th></th>\n",
       "      <th>endTime</th>\n",
       "      <th>artistName</th>\n",
       "      <th>trackName</th>\n",
       "      <th>msPlayed</th>\n",
       "    </tr>\n",
       "  </thead>\n",
       "  <tbody>\n",
       "    <tr>\n",
       "      <th>0</th>\n",
       "      <td>2022-09-22 16:28</td>\n",
       "      <td>Death Cab for Cutie</td>\n",
       "      <td>Transatlanticism</td>\n",
       "      <td>244250</td>\n",
       "    </tr>\n",
       "    <tr>\n",
       "      <th>1</th>\n",
       "      <td>2022-11-02 00:02</td>\n",
       "      <td>Alan Walker</td>\n",
       "      <td>Faded</td>\n",
       "      <td>212626</td>\n",
       "    </tr>\n",
       "    <tr>\n",
       "      <th>2</th>\n",
       "      <td>2022-11-02 00:03</td>\n",
       "      <td>Alan Walker</td>\n",
       "      <td>Faded</td>\n",
       "      <td>52928</td>\n",
       "    </tr>\n",
       "    <tr>\n",
       "      <th>3</th>\n",
       "      <td>2022-11-02 00:14</td>\n",
       "      <td>The Floating Mind</td>\n",
       "      <td>Brown Noise (200 Hz)</td>\n",
       "      <td>12695</td>\n",
       "    </tr>\n",
       "    <tr>\n",
       "      <th>4</th>\n",
       "      <td>2022-11-02 00:14</td>\n",
       "      <td>Justin Warnick</td>\n",
       "      <td>Stranger</td>\n",
       "      <td>157499</td>\n",
       "    </tr>\n",
       "    <tr>\n",
       "      <th>5</th>\n",
       "      <td>2022-11-02 00:16</td>\n",
       "      <td>Weekend</td>\n",
       "      <td>Coma Summer</td>\n",
       "      <td>11754</td>\n",
       "    </tr>\n",
       "    <tr>\n",
       "      <th>6</th>\n",
       "      <td>2022-11-02 00:16</td>\n",
       "      <td>Two Feet</td>\n",
       "      <td>Your Mother Was Cheaper</td>\n",
       "      <td>3249</td>\n",
       "    </tr>\n",
       "    <tr>\n",
       "      <th>7</th>\n",
       "      <td>2022-11-02 00:16</td>\n",
       "      <td>King Krule</td>\n",
       "      <td>363N63</td>\n",
       "      <td>121292</td>\n",
       "    </tr>\n",
       "    <tr>\n",
       "      <th>8</th>\n",
       "      <td>2022-11-02 00:16</td>\n",
       "      <td>John Mayer</td>\n",
       "      <td>Waiting On the World to Change</td>\n",
       "      <td>2474</td>\n",
       "    </tr>\n",
       "    <tr>\n",
       "      <th>9</th>\n",
       "      <td>2022-11-02 00:20</td>\n",
       "      <td>Jeff Rosenstock</td>\n",
       "      <td>We Begged 2 Explode</td>\n",
       "      <td>224149</td>\n",
       "    </tr>\n",
       "  </tbody>\n",
       "</table>\n",
       "</div>"
      ],
      "text/plain": [
       "            endTime           artistName                       trackName  \\\n",
       "0  2022-09-22 16:28  Death Cab for Cutie                Transatlanticism   \n",
       "1  2022-11-02 00:02          Alan Walker                           Faded   \n",
       "2  2022-11-02 00:03          Alan Walker                           Faded   \n",
       "3  2022-11-02 00:14    The Floating Mind            Brown Noise (200 Hz)   \n",
       "4  2022-11-02 00:14       Justin Warnick                        Stranger   \n",
       "5  2022-11-02 00:16              Weekend                     Coma Summer   \n",
       "6  2022-11-02 00:16             Two Feet         Your Mother Was Cheaper   \n",
       "7  2022-11-02 00:16           King Krule                          363N63   \n",
       "8  2022-11-02 00:16           John Mayer  Waiting On the World to Change   \n",
       "9  2022-11-02 00:20      Jeff Rosenstock             We Begged 2 Explode   \n",
       "\n",
       "   msPlayed  \n",
       "0    244250  \n",
       "1    212626  \n",
       "2     52928  \n",
       "3     12695  \n",
       "4    157499  \n",
       "5     11754  \n",
       "6      3249  \n",
       "7    121292  \n",
       "8      2474  \n",
       "9    224149  "
      ]
     },
     "execution_count": 19,
     "metadata": {},
     "output_type": "execute_result"
    }
   ],
   "source": [
    "music_df.head(10)\n",
    "#df.tail(10)\n",
    "#df.info()"
   ]
  },
  {
   "cell_type": "code",
   "execution_count": 22,
   "metadata": {},
   "outputs": [
    {
     "ename": "KeyError",
     "evalue": "\"['msPlayed'] not found in axis\"",
     "output_type": "error",
     "traceback": [
      "\u001b[0;31m---------------------------------------------------------------------------\u001b[0m",
      "\u001b[0;31mKeyError\u001b[0m                                  Traceback (most recent call last)",
      "\u001b[1;32m/home/abeporschet/Downloads/my_spotify_data/MyData/analysis.ipynb Cell 4\u001b[0m line \u001b[0;36m3\n\u001b[1;32m      <a href='vscode-notebook-cell:/home/abeporschet/Downloads/my_spotify_data/MyData/analysis.ipynb#W3sZmlsZQ%3D%3D?line=0'>1</a>\u001b[0m music_df[\u001b[39m'\u001b[39m\u001b[39mendTime\u001b[39m\u001b[39m'\u001b[39m]\u001b[39m=\u001b[39mpd\u001b[39m.\u001b[39mto_datetime(music_df[\u001b[39m'\u001b[39m\u001b[39mendTime\u001b[39m\u001b[39m'\u001b[39m])\n\u001b[1;32m      <a href='vscode-notebook-cell:/home/abeporschet/Downloads/my_spotify_data/MyData/analysis.ipynb#W3sZmlsZQ%3D%3D?line=1'>2</a>\u001b[0m music_df[\u001b[39m'\u001b[39m\u001b[39mminPlayed\u001b[39m\u001b[39m'\u001b[39m]\u001b[39m=\u001b[39m(df[\u001b[39m'\u001b[39m\u001b[39mmsPlayed\u001b[39m\u001b[39m'\u001b[39m]\u001b[39m/\u001b[39m\u001b[39m1000\u001b[39m\u001b[39m/\u001b[39m\u001b[39m60\u001b[39m)\n\u001b[0;32m----> <a href='vscode-notebook-cell:/home/abeporschet/Downloads/my_spotify_data/MyData/analysis.ipynb#W3sZmlsZQ%3D%3D?line=2'>3</a>\u001b[0m music_df\u001b[39m.\u001b[39;49mdrop(\u001b[39m'\u001b[39;49m\u001b[39mmsPlayed\u001b[39;49m\u001b[39m'\u001b[39;49m, axis\u001b[39m=\u001b[39;49m\u001b[39m1\u001b[39;49m, inplace\u001b[39m=\u001b[39;49m\u001b[39mTrue\u001b[39;49;00m)\n",
      "File \u001b[0;32m~/.local/lib/python3.11/site-packages/pandas/core/frame.py:5344\u001b[0m, in \u001b[0;36mDataFrame.drop\u001b[0;34m(self, labels, axis, index, columns, level, inplace, errors)\u001b[0m\n\u001b[1;32m   5196\u001b[0m \u001b[39mdef\u001b[39;00m \u001b[39mdrop\u001b[39m(\n\u001b[1;32m   5197\u001b[0m     \u001b[39mself\u001b[39m,\n\u001b[1;32m   5198\u001b[0m     labels: IndexLabel \u001b[39m|\u001b[39m \u001b[39mNone\u001b[39;00m \u001b[39m=\u001b[39m \u001b[39mNone\u001b[39;00m,\n\u001b[0;32m   (...)\u001b[0m\n\u001b[1;32m   5205\u001b[0m     errors: IgnoreRaise \u001b[39m=\u001b[39m \u001b[39m\"\u001b[39m\u001b[39mraise\u001b[39m\u001b[39m\"\u001b[39m,\n\u001b[1;32m   5206\u001b[0m ) \u001b[39m-\u001b[39m\u001b[39m>\u001b[39m DataFrame \u001b[39m|\u001b[39m \u001b[39mNone\u001b[39;00m:\n\u001b[1;32m   5207\u001b[0m \u001b[39m    \u001b[39m\u001b[39m\"\"\"\u001b[39;00m\n\u001b[1;32m   5208\u001b[0m \u001b[39m    Drop specified labels from rows or columns.\u001b[39;00m\n\u001b[1;32m   5209\u001b[0m \n\u001b[0;32m   (...)\u001b[0m\n\u001b[1;32m   5342\u001b[0m \u001b[39m            weight  1.0     0.8\u001b[39;00m\n\u001b[1;32m   5343\u001b[0m \u001b[39m    \"\"\"\u001b[39;00m\n\u001b[0;32m-> 5344\u001b[0m     \u001b[39mreturn\u001b[39;00m \u001b[39msuper\u001b[39;49m()\u001b[39m.\u001b[39;49mdrop(\n\u001b[1;32m   5345\u001b[0m         labels\u001b[39m=\u001b[39;49mlabels,\n\u001b[1;32m   5346\u001b[0m         axis\u001b[39m=\u001b[39;49maxis,\n\u001b[1;32m   5347\u001b[0m         index\u001b[39m=\u001b[39;49mindex,\n\u001b[1;32m   5348\u001b[0m         columns\u001b[39m=\u001b[39;49mcolumns,\n\u001b[1;32m   5349\u001b[0m         level\u001b[39m=\u001b[39;49mlevel,\n\u001b[1;32m   5350\u001b[0m         inplace\u001b[39m=\u001b[39;49minplace,\n\u001b[1;32m   5351\u001b[0m         errors\u001b[39m=\u001b[39;49merrors,\n\u001b[1;32m   5352\u001b[0m     )\n",
      "File \u001b[0;32m~/.local/lib/python3.11/site-packages/pandas/core/generic.py:4711\u001b[0m, in \u001b[0;36mNDFrame.drop\u001b[0;34m(self, labels, axis, index, columns, level, inplace, errors)\u001b[0m\n\u001b[1;32m   4709\u001b[0m \u001b[39mfor\u001b[39;00m axis, labels \u001b[39min\u001b[39;00m axes\u001b[39m.\u001b[39mitems():\n\u001b[1;32m   4710\u001b[0m     \u001b[39mif\u001b[39;00m labels \u001b[39mis\u001b[39;00m \u001b[39mnot\u001b[39;00m \u001b[39mNone\u001b[39;00m:\n\u001b[0;32m-> 4711\u001b[0m         obj \u001b[39m=\u001b[39m obj\u001b[39m.\u001b[39;49m_drop_axis(labels, axis, level\u001b[39m=\u001b[39;49mlevel, errors\u001b[39m=\u001b[39;49merrors)\n\u001b[1;32m   4713\u001b[0m \u001b[39mif\u001b[39;00m inplace:\n\u001b[1;32m   4714\u001b[0m     \u001b[39mself\u001b[39m\u001b[39m.\u001b[39m_update_inplace(obj)\n",
      "File \u001b[0;32m~/.local/lib/python3.11/site-packages/pandas/core/generic.py:4753\u001b[0m, in \u001b[0;36mNDFrame._drop_axis\u001b[0;34m(self, labels, axis, level, errors, only_slice)\u001b[0m\n\u001b[1;32m   4751\u001b[0m         new_axis \u001b[39m=\u001b[39m axis\u001b[39m.\u001b[39mdrop(labels, level\u001b[39m=\u001b[39mlevel, errors\u001b[39m=\u001b[39merrors)\n\u001b[1;32m   4752\u001b[0m     \u001b[39melse\u001b[39;00m:\n\u001b[0;32m-> 4753\u001b[0m         new_axis \u001b[39m=\u001b[39m axis\u001b[39m.\u001b[39;49mdrop(labels, errors\u001b[39m=\u001b[39;49merrors)\n\u001b[1;32m   4754\u001b[0m     indexer \u001b[39m=\u001b[39m axis\u001b[39m.\u001b[39mget_indexer(new_axis)\n\u001b[1;32m   4756\u001b[0m \u001b[39m# Case for non-unique axis\u001b[39;00m\n\u001b[1;32m   4757\u001b[0m \u001b[39melse\u001b[39;00m:\n",
      "File \u001b[0;32m~/.local/lib/python3.11/site-packages/pandas/core/indexes/base.py:6992\u001b[0m, in \u001b[0;36mIndex.drop\u001b[0;34m(self, labels, errors)\u001b[0m\n\u001b[1;32m   6990\u001b[0m \u001b[39mif\u001b[39;00m mask\u001b[39m.\u001b[39many():\n\u001b[1;32m   6991\u001b[0m     \u001b[39mif\u001b[39;00m errors \u001b[39m!=\u001b[39m \u001b[39m\"\u001b[39m\u001b[39mignore\u001b[39m\u001b[39m\"\u001b[39m:\n\u001b[0;32m-> 6992\u001b[0m         \u001b[39mraise\u001b[39;00m \u001b[39mKeyError\u001b[39;00m(\u001b[39mf\u001b[39m\u001b[39m\"\u001b[39m\u001b[39m{\u001b[39;00mlabels[mask]\u001b[39m.\u001b[39mtolist()\u001b[39m}\u001b[39;00m\u001b[39m not found in axis\u001b[39m\u001b[39m\"\u001b[39m)\n\u001b[1;32m   6993\u001b[0m     indexer \u001b[39m=\u001b[39m indexer[\u001b[39m~\u001b[39mmask]\n\u001b[1;32m   6994\u001b[0m \u001b[39mreturn\u001b[39;00m \u001b[39mself\u001b[39m\u001b[39m.\u001b[39mdelete(indexer)\n",
      "\u001b[0;31mKeyError\u001b[0m: \"['msPlayed'] not found in axis\""
     ]
    }
   ],
   "source": [
    "music_df['endTime']=pd.to_datetime(music_df['endTime'])\n",
    "music_df['minPlayed']=(df['msPlayed']/1000/60)\n",
    "music_df.drop('msPlayed', axis=1, inplace=True)"
   ]
  },
  {
   "cell_type": "code",
   "execution_count": 23,
   "metadata": {},
   "outputs": [
    {
     "data": {
      "text/html": [
       "<div>\n",
       "<style scoped>\n",
       "    .dataframe tbody tr th:only-of-type {\n",
       "        vertical-align: middle;\n",
       "    }\n",
       "\n",
       "    .dataframe tbody tr th {\n",
       "        vertical-align: top;\n",
       "    }\n",
       "\n",
       "    .dataframe thead th {\n",
       "        text-align: right;\n",
       "    }\n",
       "</style>\n",
       "<table border=\"1\" class=\"dataframe\">\n",
       "  <thead>\n",
       "    <tr style=\"text-align: right;\">\n",
       "      <th></th>\n",
       "      <th>endTime</th>\n",
       "      <th>artistName</th>\n",
       "      <th>trackName</th>\n",
       "      <th>minPlayed</th>\n",
       "    </tr>\n",
       "  </thead>\n",
       "  <tbody>\n",
       "    <tr>\n",
       "      <th>0</th>\n",
       "      <td>2022-09-22 16:28:00</td>\n",
       "      <td>Death Cab for Cutie</td>\n",
       "      <td>Transatlanticism</td>\n",
       "      <td>4.070833</td>\n",
       "    </tr>\n",
       "    <tr>\n",
       "      <th>1</th>\n",
       "      <td>2022-11-02 00:02:00</td>\n",
       "      <td>Alan Walker</td>\n",
       "      <td>Faded</td>\n",
       "      <td>3.543767</td>\n",
       "    </tr>\n",
       "    <tr>\n",
       "      <th>2</th>\n",
       "      <td>2022-11-02 00:03:00</td>\n",
       "      <td>Alan Walker</td>\n",
       "      <td>Faded</td>\n",
       "      <td>0.882133</td>\n",
       "    </tr>\n",
       "    <tr>\n",
       "      <th>3</th>\n",
       "      <td>2022-11-02 00:14:00</td>\n",
       "      <td>The Floating Mind</td>\n",
       "      <td>Brown Noise (200 Hz)</td>\n",
       "      <td>0.211583</td>\n",
       "    </tr>\n",
       "    <tr>\n",
       "      <th>4</th>\n",
       "      <td>2022-11-02 00:14:00</td>\n",
       "      <td>Justin Warnick</td>\n",
       "      <td>Stranger</td>\n",
       "      <td>2.624983</td>\n",
       "    </tr>\n",
       "  </tbody>\n",
       "</table>\n",
       "</div>"
      ],
      "text/plain": [
       "              endTime           artistName             trackName  minPlayed\n",
       "0 2022-09-22 16:28:00  Death Cab for Cutie      Transatlanticism   4.070833\n",
       "1 2022-11-02 00:02:00          Alan Walker                 Faded   3.543767\n",
       "2 2022-11-02 00:03:00          Alan Walker                 Faded   0.882133\n",
       "3 2022-11-02 00:14:00    The Floating Mind  Brown Noise (200 Hz)   0.211583\n",
       "4 2022-11-02 00:14:00       Justin Warnick              Stranger   2.624983"
      ]
     },
     "execution_count": 23,
     "metadata": {},
     "output_type": "execute_result"
    }
   ],
   "source": [
    "music_df.head()"
   ]
  },
  {
   "cell_type": "code",
   "execution_count": 26,
   "metadata": {},
   "outputs": [
    {
     "data": {
      "text/html": [
       "<div>\n",
       "<style scoped>\n",
       "    .dataframe tbody tr th:only-of-type {\n",
       "        vertical-align: middle;\n",
       "    }\n",
       "\n",
       "    .dataframe tbody tr th {\n",
       "        vertical-align: top;\n",
       "    }\n",
       "\n",
       "    .dataframe thead th {\n",
       "        text-align: right;\n",
       "    }\n",
       "</style>\n",
       "<table border=\"1\" class=\"dataframe\">\n",
       "  <thead>\n",
       "    <tr style=\"text-align: right;\">\n",
       "      <th></th>\n",
       "      <th>endTime</th>\n",
       "      <th>artistName</th>\n",
       "      <th>trackName</th>\n",
       "      <th>minPlayed</th>\n",
       "      <th>dayOfWeek</th>\n",
       "      <th>dayOfMonth</th>\n",
       "      <th>timeOfDay</th>\n",
       "      <th>date</th>\n",
       "    </tr>\n",
       "  </thead>\n",
       "  <tbody>\n",
       "    <tr>\n",
       "      <th>6272</th>\n",
       "      <td>2023-11-02 21:38:00</td>\n",
       "      <td>The War On Drugs</td>\n",
       "      <td>Nothing to Find</td>\n",
       "      <td>3.724133</td>\n",
       "      <td>Thursday</td>\n",
       "      <td>2</td>\n",
       "      <td>21</td>\n",
       "      <td>2023-11-02</td>\n",
       "    </tr>\n",
       "    <tr>\n",
       "      <th>6273</th>\n",
       "      <td>2023-11-02 22:16:00</td>\n",
       "      <td>James Blake</td>\n",
       "      <td>CMYK</td>\n",
       "      <td>3.654583</td>\n",
       "      <td>Thursday</td>\n",
       "      <td>2</td>\n",
       "      <td>22</td>\n",
       "      <td>2023-11-02</td>\n",
       "    </tr>\n",
       "    <tr>\n",
       "      <th>6274</th>\n",
       "      <td>2023-11-02 22:17:00</td>\n",
       "      <td>Burial</td>\n",
       "      <td>Kindred</td>\n",
       "      <td>0.125867</td>\n",
       "      <td>Thursday</td>\n",
       "      <td>2</td>\n",
       "      <td>22</td>\n",
       "      <td>2023-11-02</td>\n",
       "    </tr>\n",
       "    <tr>\n",
       "      <th>6275</th>\n",
       "      <td>2023-11-02 22:22:00</td>\n",
       "      <td>Burial</td>\n",
       "      <td>Ashtray wasp</td>\n",
       "      <td>5.185067</td>\n",
       "      <td>Thursday</td>\n",
       "      <td>2</td>\n",
       "      <td>22</td>\n",
       "      <td>2023-11-02</td>\n",
       "    </tr>\n",
       "    <tr>\n",
       "      <th>6276</th>\n",
       "      <td>2023-11-02 23:04:00</td>\n",
       "      <td>Burial</td>\n",
       "      <td>Near Dark</td>\n",
       "      <td>0.009233</td>\n",
       "      <td>Thursday</td>\n",
       "      <td>2</td>\n",
       "      <td>23</td>\n",
       "      <td>2023-11-02</td>\n",
       "    </tr>\n",
       "  </tbody>\n",
       "</table>\n",
       "</div>"
      ],
      "text/plain": [
       "                 endTime        artistName        trackName  minPlayed  \\\n",
       "6272 2023-11-02 21:38:00  The War On Drugs  Nothing to Find   3.724133   \n",
       "6273 2023-11-02 22:16:00       James Blake             CMYK   3.654583   \n",
       "6274 2023-11-02 22:17:00            Burial          Kindred   0.125867   \n",
       "6275 2023-11-02 22:22:00            Burial     Ashtray wasp   5.185067   \n",
       "6276 2023-11-02 23:04:00            Burial        Near Dark   0.009233   \n",
       "\n",
       "     dayOfWeek  dayOfMonth  timeOfDay        date  \n",
       "6272  Thursday           2         21  2023-11-02  \n",
       "6273  Thursday           2         22  2023-11-02  \n",
       "6274  Thursday           2         22  2023-11-02  \n",
       "6275  Thursday           2         22  2023-11-02  \n",
       "6276  Thursday           2         23  2023-11-02  "
      ]
     },
     "execution_count": 26,
     "metadata": {},
     "output_type": "execute_result"
    }
   ],
   "source": [
    "music_df.tail()"
   ]
  },
  {
   "cell_type": "code",
   "execution_count": 24,
   "metadata": {},
   "outputs": [],
   "source": [
    "music_df['dayOfWeek']=music_df['endTime'].dt.day_name()\n",
    "music_df['dayOfMonth']=music_df['endTime'].dt.day\n",
    "music_df['timeOfDay']=music_df['endTime'].dt.hour\n",
    "music_df['date']=music_df['endTime'].dt.date"
   ]
  },
  {
   "cell_type": "code",
   "execution_count": 25,
   "metadata": {},
   "outputs": [
    {
     "data": {
      "text/html": [
       "<div>\n",
       "<style scoped>\n",
       "    .dataframe tbody tr th:only-of-type {\n",
       "        vertical-align: middle;\n",
       "    }\n",
       "\n",
       "    .dataframe tbody tr th {\n",
       "        vertical-align: top;\n",
       "    }\n",
       "\n",
       "    .dataframe thead th {\n",
       "        text-align: right;\n",
       "    }\n",
       "</style>\n",
       "<table border=\"1\" class=\"dataframe\">\n",
       "  <thead>\n",
       "    <tr style=\"text-align: right;\">\n",
       "      <th></th>\n",
       "      <th>endTime</th>\n",
       "      <th>artistName</th>\n",
       "      <th>trackName</th>\n",
       "      <th>minPlayed</th>\n",
       "      <th>dayOfWeek</th>\n",
       "      <th>dayOfMonth</th>\n",
       "      <th>timeOfDay</th>\n",
       "      <th>date</th>\n",
       "    </tr>\n",
       "  </thead>\n",
       "  <tbody>\n",
       "    <tr>\n",
       "      <th>0</th>\n",
       "      <td>2022-09-22 16:28:00</td>\n",
       "      <td>Death Cab for Cutie</td>\n",
       "      <td>Transatlanticism</td>\n",
       "      <td>4.070833</td>\n",
       "      <td>Thursday</td>\n",
       "      <td>22</td>\n",
       "      <td>16</td>\n",
       "      <td>2022-09-22</td>\n",
       "    </tr>\n",
       "    <tr>\n",
       "      <th>1</th>\n",
       "      <td>2022-11-02 00:02:00</td>\n",
       "      <td>Alan Walker</td>\n",
       "      <td>Faded</td>\n",
       "      <td>3.543767</td>\n",
       "      <td>Wednesday</td>\n",
       "      <td>2</td>\n",
       "      <td>0</td>\n",
       "      <td>2022-11-02</td>\n",
       "    </tr>\n",
       "    <tr>\n",
       "      <th>2</th>\n",
       "      <td>2022-11-02 00:03:00</td>\n",
       "      <td>Alan Walker</td>\n",
       "      <td>Faded</td>\n",
       "      <td>0.882133</td>\n",
       "      <td>Wednesday</td>\n",
       "      <td>2</td>\n",
       "      <td>0</td>\n",
       "      <td>2022-11-02</td>\n",
       "    </tr>\n",
       "    <tr>\n",
       "      <th>3</th>\n",
       "      <td>2022-11-02 00:14:00</td>\n",
       "      <td>The Floating Mind</td>\n",
       "      <td>Brown Noise (200 Hz)</td>\n",
       "      <td>0.211583</td>\n",
       "      <td>Wednesday</td>\n",
       "      <td>2</td>\n",
       "      <td>0</td>\n",
       "      <td>2022-11-02</td>\n",
       "    </tr>\n",
       "    <tr>\n",
       "      <th>4</th>\n",
       "      <td>2022-11-02 00:14:00</td>\n",
       "      <td>Justin Warnick</td>\n",
       "      <td>Stranger</td>\n",
       "      <td>2.624983</td>\n",
       "      <td>Wednesday</td>\n",
       "      <td>2</td>\n",
       "      <td>0</td>\n",
       "      <td>2022-11-02</td>\n",
       "    </tr>\n",
       "  </tbody>\n",
       "</table>\n",
       "</div>"
      ],
      "text/plain": [
       "              endTime           artistName             trackName  minPlayed  \\\n",
       "0 2022-09-22 16:28:00  Death Cab for Cutie      Transatlanticism   4.070833   \n",
       "1 2022-11-02 00:02:00          Alan Walker                 Faded   3.543767   \n",
       "2 2022-11-02 00:03:00          Alan Walker                 Faded   0.882133   \n",
       "3 2022-11-02 00:14:00    The Floating Mind  Brown Noise (200 Hz)   0.211583   \n",
       "4 2022-11-02 00:14:00       Justin Warnick              Stranger   2.624983   \n",
       "\n",
       "   dayOfWeek  dayOfMonth  timeOfDay        date  \n",
       "0   Thursday          22         16  2022-09-22  \n",
       "1  Wednesday           2          0  2022-11-02  \n",
       "2  Wednesday           2          0  2022-11-02  \n",
       "3  Wednesday           2          0  2022-11-02  \n",
       "4  Wednesday           2          0  2022-11-02  "
      ]
     },
     "execution_count": 25,
     "metadata": {},
     "output_type": "execute_result"
    }
   ],
   "source": [
    "music_df.head()"
   ]
  },
  {
   "cell_type": "code",
   "execution_count": 28,
   "metadata": {},
   "outputs": [
    {
     "name": "stdout",
     "output_type": "stream",
     "text": [
      "I listened to 46277 songs, 126.786 per day in the last year (crazy!)\n"
     ]
    }
   ],
   "source": [
    "print(\"I listened to {} songs, {:.3f} per day in the last year (crazy!)\".format( len(music_df), len(music_df)/365))"
   ]
  },
  {
   "cell_type": "code",
   "execution_count": 31,
   "metadata": {},
   "outputs": [
    {
     "name": "stdout",
     "output_type": "stream",
     "text": [
      "This amounts to about 2228.3570124999997 hours total, and 6.105 hours per day.\n"
     ]
    }
   ],
   "source": [
    "print(\"This amounts to about {} hours total, and {:.3f} hours per day.\".format(music_df.minPlayed.sum()/60, music_df.minPlayed.sum()/365/60))"
   ]
  },
  {
   "cell_type": "code",
   "execution_count": 32,
   "metadata": {},
   "outputs": [
    {
     "name": "stdout",
     "output_type": "stream",
     "text": [
      "which then equates to about 2.889 minutes per song.\n"
     ]
    }
   ],
   "source": [
    "print(\"which then equates to about {:.3f} minutes per song.\".format(music_df.minPlayed.sum()/len(music_df)))"
   ]
  },
  {
   "cell_type": "code",
   "execution_count": 56,
   "metadata": {},
   "outputs": [
    {
     "name": "stderr",
     "output_type": "stream",
     "text": [
      "/tmp/ipykernel_468/1634927987.py:1: FutureWarning: The provided callable <function sum at 0x7f28d0340ea0> is currently using DataFrameGroupBy.sum. In a future version of pandas, the provided callable will be used directly. To keep current behavior pass the string \"sum\" instead.\n",
      "  timevsweek = music_df.pivot_table(columns='timeOfDay', index='dayOfWeek',\n"
     ]
    },
    {
     "data": {
      "image/png": "[encoded data removed]",
      "text/plain": [
       "<Figure size 900x300 with 2 Axes>"
      ]
     },
     "metadata": {},
     "output_type": "display_data"
    }
   ],
   "source": [
    "timevsweek = music_df.pivot_table(columns='timeOfDay', index='dayOfWeek', \n",
    "                                    values='minPlayed', aggfunc=np.sum).fillna(0)\n",
    "#week days were scrambled\n",
    "timevsweek = timevsweek.iloc[[1,5,6,4,0,2,3],:]\n",
    "fig = plt.figure(figsize=(9,3))\n",
    "ax = sns.heatmap(timevsweek, cmap='viridis',\n",
    "                 cbar_kws=dict(label='Minutes played'))\n",
    "\n",
    "xticks = np.arange(24)\n",
    "xticklabels = [str(i) + 'h' for i in xticks]\n",
    "ax.set_xticks(xticks[::2])\n",
    "ax.set_xticklabels(xticklabels[::2])\n",
    "ax.tick_params('x',rotation=90)\n",
    "\n",
    "ax.set_xlabel('Time of Day')\n",
    "ax.set_ylabel('Day of Week')\n",
    "fig.patch.set_facecolor('black')\n",
    "plt.show()"
   ]
  },
  {
   "cell_type": "code",
   "execution_count": null,
   "metadata": {},
   "outputs": [],
   "source": []
  }
 ],
 "metadata": {
  "kernelspec": {
   "display_name": "base",
   "language": "python",
   "name": "python3"
  },
  "language_info": {
   "codemirror_mode": {
    "name": "ipython",
    "version": 3
   },
   "file_extension": ".py",
   "mimetype": "text/x-python",
   "name": "python",
   "nbconvert_exporter": "python",
   "pygments_lexer": "ipython3",
   "version": "3.11.5"
  },
  "orig_nbformat": 4
 },
 "nbformat": 4,
 "nbformat_minor": 2
}
